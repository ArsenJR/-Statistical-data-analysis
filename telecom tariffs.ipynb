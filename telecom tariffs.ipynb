{
 "cells": [
  {
   "cell_type": "markdown",
   "metadata": {},
   "source": [
    "# Определение перспективного тарифа для телеком компании\n",
    "\n",
    "Вы аналитик компании «Мегалайн» — федерального оператора сотовой связи. Клиентам предлагают два тарифных плана: «Смарт» и «Ультра». Чтобы скорректировать рекламный бюджет, коммерческий департамент хочет понять, какой тариф приносит больше денег.\n",
    "\n",
    "Вам предстоит сделать предварительный анализ тарифов на небольшой выборке клиентов. В вашем распоряжении данные 500 пользователей «Мегалайна»: кто они, откуда, каким тарифом пользуются, сколько звонков и сообщений каждый отправил за 2018 год. Нужно проанализировать поведение клиентов и сделать вывод — какой тариф лучше."
   ]
  },
  {
   "cell_type": "markdown",
   "metadata": {},
   "source": [
    "## Изучение данных из файла"
   ]
  },
  {
   "cell_type": "markdown",
   "metadata": {},
   "source": [
    "Импортируем библиотеки, нужные для проведения анализа."
   ]
  },
  {
   "cell_type": "code",
   "execution_count": 2,
   "metadata": {},
   "outputs": [],
   "source": [
    "import pandas as pd\n",
    "import matplotlib.pyplot as plt\n",
    "import seaborn as sns\n",
    "import math\n",
    "from scipy import stats as st\n",
    "import numpy as np"
   ]
  },
  {
   "cell_type": "markdown",
   "metadata": {},
   "source": [
    "Получим файлы с данными и сохраним их."
   ]
  },
  {
   "cell_type": "code",
   "execution_count": 3,
   "metadata": {},
   "outputs": [],
   "source": [
    "def return_df (name_csv):\n",
    "    try:\n",
    "        return pd.read_csv(name_csv)\n",
    "    except:\n",
    "        print('Не удалось найти файл по заданному пути.')"
   ]
  },
  {
   "cell_type": "code",
   "execution_count": 4,
   "metadata": {},
   "outputs": [],
   "source": [
    "calls = return_df('/datasets/calls.csv')\n",
    "internet = return_df('/datasets/internet.csv')\n",
    "messages = return_df('/datasets/messages.csv')\n",
    "tariffs = return_df('/datasets/tariffs.csv')\n",
    "users = return_df('/datasets/users.csv')"
   ]
  },
  {
   "cell_type": "markdown",
   "metadata": {},
   "source": [
    "Выведем таблицу 'users' и посмотрим на её содержимое."
   ]
  },
  {
   "cell_type": "code",
   "execution_count": 5,
   "metadata": {},
   "outputs": [
    {
     "data": {
      "text/html": [
       "<div>\n",
       "<style scoped>\n",
       "    .dataframe tbody tr th:only-of-type {\n",
       "        vertical-align: middle;\n",
       "    }\n",
       "\n",
       "    .dataframe tbody tr th {\n",
       "        vertical-align: top;\n",
       "    }\n",
       "\n",
       "    .dataframe thead th {\n",
       "        text-align: right;\n",
       "    }\n",
       "</style>\n",
       "<table border=\"1\" class=\"dataframe\">\n",
       "  <thead>\n",
       "    <tr style=\"text-align: right;\">\n",
       "      <th></th>\n",
       "      <th>user_id</th>\n",
       "      <th>age</th>\n",
       "      <th>churn_date</th>\n",
       "      <th>city</th>\n",
       "      <th>first_name</th>\n",
       "      <th>last_name</th>\n",
       "      <th>reg_date</th>\n",
       "      <th>tariff</th>\n",
       "    </tr>\n",
       "  </thead>\n",
       "  <tbody>\n",
       "    <tr>\n",
       "      <td>0</td>\n",
       "      <td>1000</td>\n",
       "      <td>52</td>\n",
       "      <td>NaN</td>\n",
       "      <td>Краснодар</td>\n",
       "      <td>Рафаил</td>\n",
       "      <td>Верещагин</td>\n",
       "      <td>2018-05-25</td>\n",
       "      <td>ultra</td>\n",
       "    </tr>\n",
       "    <tr>\n",
       "      <td>1</td>\n",
       "      <td>1001</td>\n",
       "      <td>41</td>\n",
       "      <td>NaN</td>\n",
       "      <td>Москва</td>\n",
       "      <td>Иван</td>\n",
       "      <td>Ежов</td>\n",
       "      <td>2018-11-01</td>\n",
       "      <td>smart</td>\n",
       "    </tr>\n",
       "    <tr>\n",
       "      <td>2</td>\n",
       "      <td>1002</td>\n",
       "      <td>59</td>\n",
       "      <td>NaN</td>\n",
       "      <td>Стерлитамак</td>\n",
       "      <td>Евгений</td>\n",
       "      <td>Абрамович</td>\n",
       "      <td>2018-06-17</td>\n",
       "      <td>smart</td>\n",
       "    </tr>\n",
       "    <tr>\n",
       "      <td>3</td>\n",
       "      <td>1003</td>\n",
       "      <td>23</td>\n",
       "      <td>NaN</td>\n",
       "      <td>Москва</td>\n",
       "      <td>Белла</td>\n",
       "      <td>Белякова</td>\n",
       "      <td>2018-08-17</td>\n",
       "      <td>ultra</td>\n",
       "    </tr>\n",
       "    <tr>\n",
       "      <td>4</td>\n",
       "      <td>1004</td>\n",
       "      <td>68</td>\n",
       "      <td>NaN</td>\n",
       "      <td>Новокузнецк</td>\n",
       "      <td>Татьяна</td>\n",
       "      <td>Авдеенко</td>\n",
       "      <td>2018-05-14</td>\n",
       "      <td>ultra</td>\n",
       "    </tr>\n",
       "    <tr>\n",
       "      <td>5</td>\n",
       "      <td>1005</td>\n",
       "      <td>67</td>\n",
       "      <td>NaN</td>\n",
       "      <td>Набережные Челны</td>\n",
       "      <td>Афанасий</td>\n",
       "      <td>Горлов</td>\n",
       "      <td>2018-01-25</td>\n",
       "      <td>smart</td>\n",
       "    </tr>\n",
       "    <tr>\n",
       "      <td>6</td>\n",
       "      <td>1006</td>\n",
       "      <td>21</td>\n",
       "      <td>NaN</td>\n",
       "      <td>Ульяновск</td>\n",
       "      <td>Леонид</td>\n",
       "      <td>Ермолаев</td>\n",
       "      <td>2018-02-26</td>\n",
       "      <td>smart</td>\n",
       "    </tr>\n",
       "    <tr>\n",
       "      <td>7</td>\n",
       "      <td>1007</td>\n",
       "      <td>65</td>\n",
       "      <td>NaN</td>\n",
       "      <td>Москва</td>\n",
       "      <td>Юна</td>\n",
       "      <td>Березина</td>\n",
       "      <td>2018-04-19</td>\n",
       "      <td>smart</td>\n",
       "    </tr>\n",
       "    <tr>\n",
       "      <td>8</td>\n",
       "      <td>1008</td>\n",
       "      <td>63</td>\n",
       "      <td>NaN</td>\n",
       "      <td>Челябинск</td>\n",
       "      <td>Рустэм</td>\n",
       "      <td>Пономарёв</td>\n",
       "      <td>2018-12-19</td>\n",
       "      <td>smart</td>\n",
       "    </tr>\n",
       "    <tr>\n",
       "      <td>9</td>\n",
       "      <td>1009</td>\n",
       "      <td>24</td>\n",
       "      <td>NaN</td>\n",
       "      <td>Пермь</td>\n",
       "      <td>Василиса</td>\n",
       "      <td>Блинова</td>\n",
       "      <td>2018-03-22</td>\n",
       "      <td>smart</td>\n",
       "    </tr>\n",
       "  </tbody>\n",
       "</table>\n",
       "</div>"
      ],
      "text/plain": [
       "   user_id  age churn_date              city first_name  last_name  \\\n",
       "0     1000   52        NaN         Краснодар     Рафаил  Верещагин   \n",
       "1     1001   41        NaN            Москва       Иван       Ежов   \n",
       "2     1002   59        NaN       Стерлитамак    Евгений  Абрамович   \n",
       "3     1003   23        NaN            Москва      Белла   Белякова   \n",
       "4     1004   68        NaN       Новокузнецк    Татьяна   Авдеенко   \n",
       "5     1005   67        NaN  Набережные Челны   Афанасий     Горлов   \n",
       "6     1006   21        NaN         Ульяновск     Леонид   Ермолаев   \n",
       "7     1007   65        NaN            Москва        Юна   Березина   \n",
       "8     1008   63        NaN         Челябинск     Рустэм  Пономарёв   \n",
       "9     1009   24        NaN             Пермь   Василиса    Блинова   \n",
       "\n",
       "     reg_date tariff  \n",
       "0  2018-05-25  ultra  \n",
       "1  2018-11-01  smart  \n",
       "2  2018-06-17  smart  \n",
       "3  2018-08-17  ultra  \n",
       "4  2018-05-14  ultra  \n",
       "5  2018-01-25  smart  \n",
       "6  2018-02-26  smart  \n",
       "7  2018-04-19  smart  \n",
       "8  2018-12-19  smart  \n",
       "9  2018-03-22  smart  "
      ]
     },
     "execution_count": 5,
     "metadata": {},
     "output_type": "execute_result"
    }
   ],
   "source": [
    "users.head(10)"
   ]
  },
  {
   "cell_type": "markdown",
   "metadata": {},
   "source": [
    "А вот и первые пропуски. Выведем информацию о данной таблице."
   ]
  },
  {
   "cell_type": "code",
   "execution_count": 6,
   "metadata": {},
   "outputs": [
    {
     "name": "stdout",
     "output_type": "stream",
     "text": [
      "<class 'pandas.core.frame.DataFrame'>\n",
      "RangeIndex: 500 entries, 0 to 499\n",
      "Data columns (total 8 columns):\n",
      "user_id       500 non-null int64\n",
      "age           500 non-null int64\n",
      "churn_date    38 non-null object\n",
      "city          500 non-null object\n",
      "first_name    500 non-null object\n",
      "last_name     500 non-null object\n",
      "reg_date      500 non-null object\n",
      "tariff        500 non-null object\n",
      "dtypes: int64(2), object(6)\n",
      "memory usage: 31.4+ KB\n"
     ]
    }
   ],
   "source": [
    "users.info()"
   ]
  },
  {
   "cell_type": "markdown",
   "metadata": {},
   "source": [
    "В таблице 'users' всего 8 столбцев.\n",
    "\n",
    "* user_id — уникальный идентификатор пользователя\n",
    "* first_name — имя пользователя\n",
    "* last_name — фамилия пользователя\n",
    "* age — возраст пользователя (годы)\n",
    "* reg_date — дата подключения тарифа (день, месяц, год)\n",
    "* churn_date — дата прекращения пользования тарифом (если значение пропущено, то тариф ещё действовал на момент выгрузки данных)\n",
    "* city — город проживания пользователя\n",
    "* tarif — название тарифного плана\n",
    "\n",
    "Количество значений в столбцах различается, это говорит о том, что в нашей таблице есть пропуски."
   ]
  },
  {
   "cell_type": "markdown",
   "metadata": {},
   "source": [
    "Рассмотрим следующими таблицы 'internet', 'calls', 'messeges'."
   ]
  },
  {
   "cell_type": "code",
   "execution_count": 7,
   "metadata": {},
   "outputs": [
    {
     "data": {
      "text/html": [
       "<div>\n",
       "<style scoped>\n",
       "    .dataframe tbody tr th:only-of-type {\n",
       "        vertical-align: middle;\n",
       "    }\n",
       "\n",
       "    .dataframe tbody tr th {\n",
       "        vertical-align: top;\n",
       "    }\n",
       "\n",
       "    .dataframe thead th {\n",
       "        text-align: right;\n",
       "    }\n",
       "</style>\n",
       "<table border=\"1\" class=\"dataframe\">\n",
       "  <thead>\n",
       "    <tr style=\"text-align: right;\">\n",
       "      <th></th>\n",
       "      <th>Unnamed: 0</th>\n",
       "      <th>id</th>\n",
       "      <th>mb_used</th>\n",
       "      <th>session_date</th>\n",
       "      <th>user_id</th>\n",
       "    </tr>\n",
       "  </thead>\n",
       "  <tbody>\n",
       "    <tr>\n",
       "      <td>0</td>\n",
       "      <td>0</td>\n",
       "      <td>1000_0</td>\n",
       "      <td>112.95</td>\n",
       "      <td>2018-11-25</td>\n",
       "      <td>1000</td>\n",
       "    </tr>\n",
       "    <tr>\n",
       "      <td>1</td>\n",
       "      <td>1</td>\n",
       "      <td>1000_1</td>\n",
       "      <td>1052.81</td>\n",
       "      <td>2018-09-07</td>\n",
       "      <td>1000</td>\n",
       "    </tr>\n",
       "    <tr>\n",
       "      <td>2</td>\n",
       "      <td>2</td>\n",
       "      <td>1000_2</td>\n",
       "      <td>1197.26</td>\n",
       "      <td>2018-06-25</td>\n",
       "      <td>1000</td>\n",
       "    </tr>\n",
       "    <tr>\n",
       "      <td>3</td>\n",
       "      <td>3</td>\n",
       "      <td>1000_3</td>\n",
       "      <td>550.27</td>\n",
       "      <td>2018-08-22</td>\n",
       "      <td>1000</td>\n",
       "    </tr>\n",
       "    <tr>\n",
       "      <td>4</td>\n",
       "      <td>4</td>\n",
       "      <td>1000_4</td>\n",
       "      <td>302.56</td>\n",
       "      <td>2018-09-24</td>\n",
       "      <td>1000</td>\n",
       "    </tr>\n",
       "    <tr>\n",
       "      <td>5</td>\n",
       "      <td>5</td>\n",
       "      <td>1000_5</td>\n",
       "      <td>399.97</td>\n",
       "      <td>2018-10-02</td>\n",
       "      <td>1000</td>\n",
       "    </tr>\n",
       "    <tr>\n",
       "      <td>6</td>\n",
       "      <td>6</td>\n",
       "      <td>1000_6</td>\n",
       "      <td>540.08</td>\n",
       "      <td>2018-09-07</td>\n",
       "      <td>1000</td>\n",
       "    </tr>\n",
       "    <tr>\n",
       "      <td>7</td>\n",
       "      <td>7</td>\n",
       "      <td>1000_7</td>\n",
       "      <td>415.70</td>\n",
       "      <td>2018-07-11</td>\n",
       "      <td>1000</td>\n",
       "    </tr>\n",
       "    <tr>\n",
       "      <td>8</td>\n",
       "      <td>8</td>\n",
       "      <td>1000_8</td>\n",
       "      <td>505.40</td>\n",
       "      <td>2018-10-08</td>\n",
       "      <td>1000</td>\n",
       "    </tr>\n",
       "    <tr>\n",
       "      <td>9</td>\n",
       "      <td>9</td>\n",
       "      <td>1000_9</td>\n",
       "      <td>345.54</td>\n",
       "      <td>2018-09-03</td>\n",
       "      <td>1000</td>\n",
       "    </tr>\n",
       "  </tbody>\n",
       "</table>\n",
       "</div>"
      ],
      "text/plain": [
       "   Unnamed: 0      id  mb_used session_date  user_id\n",
       "0           0  1000_0   112.95   2018-11-25     1000\n",
       "1           1  1000_1  1052.81   2018-09-07     1000\n",
       "2           2  1000_2  1197.26   2018-06-25     1000\n",
       "3           3  1000_3   550.27   2018-08-22     1000\n",
       "4           4  1000_4   302.56   2018-09-24     1000\n",
       "5           5  1000_5   399.97   2018-10-02     1000\n",
       "6           6  1000_6   540.08   2018-09-07     1000\n",
       "7           7  1000_7   415.70   2018-07-11     1000\n",
       "8           8  1000_8   505.40   2018-10-08     1000\n",
       "9           9  1000_9   345.54   2018-09-03     1000"
      ]
     },
     "execution_count": 7,
     "metadata": {},
     "output_type": "execute_result"
    }
   ],
   "source": [
    "internet.head(10)"
   ]
  },
  {
   "cell_type": "code",
   "execution_count": 8,
   "metadata": {},
   "outputs": [
    {
     "name": "stdout",
     "output_type": "stream",
     "text": [
      "<class 'pandas.core.frame.DataFrame'>\n",
      "RangeIndex: 149396 entries, 0 to 149395\n",
      "Data columns (total 5 columns):\n",
      "Unnamed: 0      149396 non-null int64\n",
      "id              149396 non-null object\n",
      "mb_used         149396 non-null float64\n",
      "session_date    149396 non-null object\n",
      "user_id         149396 non-null int64\n",
      "dtypes: float64(1), int64(2), object(2)\n",
      "memory usage: 5.7+ MB\n"
     ]
    }
   ],
   "source": [
    "internet.info()"
   ]
  },
  {
   "cell_type": "markdown",
   "metadata": {},
   "source": [
    "В таблице 'internet' 5 столбцев, из которых один 'Unnamed: 0', выглядит, как дубликация индексов, его нужно будет убрать.\n",
    "\n",
    "Таблица 'internet' несет в себе информацию о интернет-сессиях.\n",
    "\n",
    "* id — уникальный номер сессии\n",
    "* mb_used — объём потраченного за сессию интернет-трафика (в мегабайтах)\n",
    "* session_date — дата интернет-сессии\n",
    "* user_id — идентификатор пользователя"
   ]
  },
  {
   "cell_type": "code",
   "execution_count": 9,
   "metadata": {},
   "outputs": [
    {
     "data": {
      "text/html": [
       "<div>\n",
       "<style scoped>\n",
       "    .dataframe tbody tr th:only-of-type {\n",
       "        vertical-align: middle;\n",
       "    }\n",
       "\n",
       "    .dataframe tbody tr th {\n",
       "        vertical-align: top;\n",
       "    }\n",
       "\n",
       "    .dataframe thead th {\n",
       "        text-align: right;\n",
       "    }\n",
       "</style>\n",
       "<table border=\"1\" class=\"dataframe\">\n",
       "  <thead>\n",
       "    <tr style=\"text-align: right;\">\n",
       "      <th></th>\n",
       "      <th>id</th>\n",
       "      <th>mb_used</th>\n",
       "      <th>session_date</th>\n",
       "      <th>user_id</th>\n",
       "    </tr>\n",
       "  </thead>\n",
       "  <tbody>\n",
       "    <tr>\n",
       "      <td>0</td>\n",
       "      <td>1000_0</td>\n",
       "      <td>112.95</td>\n",
       "      <td>2018-11-25</td>\n",
       "      <td>1000</td>\n",
       "    </tr>\n",
       "    <tr>\n",
       "      <td>1</td>\n",
       "      <td>1000_1</td>\n",
       "      <td>1052.81</td>\n",
       "      <td>2018-09-07</td>\n",
       "      <td>1000</td>\n",
       "    </tr>\n",
       "    <tr>\n",
       "      <td>2</td>\n",
       "      <td>1000_2</td>\n",
       "      <td>1197.26</td>\n",
       "      <td>2018-06-25</td>\n",
       "      <td>1000</td>\n",
       "    </tr>\n",
       "    <tr>\n",
       "      <td>3</td>\n",
       "      <td>1000_3</td>\n",
       "      <td>550.27</td>\n",
       "      <td>2018-08-22</td>\n",
       "      <td>1000</td>\n",
       "    </tr>\n",
       "    <tr>\n",
       "      <td>4</td>\n",
       "      <td>1000_4</td>\n",
       "      <td>302.56</td>\n",
       "      <td>2018-09-24</td>\n",
       "      <td>1000</td>\n",
       "    </tr>\n",
       "    <tr>\n",
       "      <td>...</td>\n",
       "      <td>...</td>\n",
       "      <td>...</td>\n",
       "      <td>...</td>\n",
       "      <td>...</td>\n",
       "    </tr>\n",
       "    <tr>\n",
       "      <td>149391</td>\n",
       "      <td>1499_152</td>\n",
       "      <td>318.90</td>\n",
       "      <td>2018-10-03</td>\n",
       "      <td>1499</td>\n",
       "    </tr>\n",
       "    <tr>\n",
       "      <td>149392</td>\n",
       "      <td>1499_153</td>\n",
       "      <td>490.13</td>\n",
       "      <td>2018-12-14</td>\n",
       "      <td>1499</td>\n",
       "    </tr>\n",
       "    <tr>\n",
       "      <td>149393</td>\n",
       "      <td>1499_154</td>\n",
       "      <td>0.00</td>\n",
       "      <td>2018-10-27</td>\n",
       "      <td>1499</td>\n",
       "    </tr>\n",
       "    <tr>\n",
       "      <td>149394</td>\n",
       "      <td>1499_155</td>\n",
       "      <td>1246.32</td>\n",
       "      <td>2018-11-26</td>\n",
       "      <td>1499</td>\n",
       "    </tr>\n",
       "    <tr>\n",
       "      <td>149395</td>\n",
       "      <td>1499_156</td>\n",
       "      <td>544.37</td>\n",
       "      <td>2018-10-26</td>\n",
       "      <td>1499</td>\n",
       "    </tr>\n",
       "  </tbody>\n",
       "</table>\n",
       "<p>149396 rows × 4 columns</p>\n",
       "</div>"
      ],
      "text/plain": [
       "              id  mb_used session_date  user_id\n",
       "0         1000_0   112.95   2018-11-25     1000\n",
       "1         1000_1  1052.81   2018-09-07     1000\n",
       "2         1000_2  1197.26   2018-06-25     1000\n",
       "3         1000_3   550.27   2018-08-22     1000\n",
       "4         1000_4   302.56   2018-09-24     1000\n",
       "...          ...      ...          ...      ...\n",
       "149391  1499_152   318.90   2018-10-03     1499\n",
       "149392  1499_153   490.13   2018-12-14     1499\n",
       "149393  1499_154     0.00   2018-10-27     1499\n",
       "149394  1499_155  1246.32   2018-11-26     1499\n",
       "149395  1499_156   544.37   2018-10-26     1499\n",
       "\n",
       "[149396 rows x 4 columns]"
      ]
     },
     "execution_count": 9,
     "metadata": {},
     "output_type": "execute_result"
    }
   ],
   "source": [
    "pd.read_csv('/datasets/internet.csv', index_col = 0)"
   ]
  },
  {
   "cell_type": "code",
   "execution_count": 10,
   "metadata": {},
   "outputs": [
    {
     "data": {
      "text/html": [
       "<div>\n",
       "<style scoped>\n",
       "    .dataframe tbody tr th:only-of-type {\n",
       "        vertical-align: middle;\n",
       "    }\n",
       "\n",
       "    .dataframe tbody tr th {\n",
       "        vertical-align: top;\n",
       "    }\n",
       "\n",
       "    .dataframe thead th {\n",
       "        text-align: right;\n",
       "    }\n",
       "</style>\n",
       "<table border=\"1\" class=\"dataframe\">\n",
       "  <thead>\n",
       "    <tr style=\"text-align: right;\">\n",
       "      <th></th>\n",
       "      <th>id</th>\n",
       "      <th>call_date</th>\n",
       "      <th>duration</th>\n",
       "      <th>user_id</th>\n",
       "    </tr>\n",
       "  </thead>\n",
       "  <tbody>\n",
       "    <tr>\n",
       "      <td>0</td>\n",
       "      <td>1000_0</td>\n",
       "      <td>2018-07-25</td>\n",
       "      <td>0.00</td>\n",
       "      <td>1000</td>\n",
       "    </tr>\n",
       "    <tr>\n",
       "      <td>1</td>\n",
       "      <td>1000_1</td>\n",
       "      <td>2018-08-17</td>\n",
       "      <td>0.00</td>\n",
       "      <td>1000</td>\n",
       "    </tr>\n",
       "    <tr>\n",
       "      <td>2</td>\n",
       "      <td>1000_2</td>\n",
       "      <td>2018-06-11</td>\n",
       "      <td>2.85</td>\n",
       "      <td>1000</td>\n",
       "    </tr>\n",
       "    <tr>\n",
       "      <td>3</td>\n",
       "      <td>1000_3</td>\n",
       "      <td>2018-09-21</td>\n",
       "      <td>13.80</td>\n",
       "      <td>1000</td>\n",
       "    </tr>\n",
       "    <tr>\n",
       "      <td>4</td>\n",
       "      <td>1000_4</td>\n",
       "      <td>2018-12-15</td>\n",
       "      <td>5.18</td>\n",
       "      <td>1000</td>\n",
       "    </tr>\n",
       "    <tr>\n",
       "      <td>5</td>\n",
       "      <td>1000_5</td>\n",
       "      <td>2018-11-02</td>\n",
       "      <td>0.00</td>\n",
       "      <td>1000</td>\n",
       "    </tr>\n",
       "    <tr>\n",
       "      <td>6</td>\n",
       "      <td>1000_6</td>\n",
       "      <td>2018-10-18</td>\n",
       "      <td>0.00</td>\n",
       "      <td>1000</td>\n",
       "    </tr>\n",
       "    <tr>\n",
       "      <td>7</td>\n",
       "      <td>1000_7</td>\n",
       "      <td>2018-08-22</td>\n",
       "      <td>18.31</td>\n",
       "      <td>1000</td>\n",
       "    </tr>\n",
       "    <tr>\n",
       "      <td>8</td>\n",
       "      <td>1000_8</td>\n",
       "      <td>2018-09-15</td>\n",
       "      <td>18.44</td>\n",
       "      <td>1000</td>\n",
       "    </tr>\n",
       "    <tr>\n",
       "      <td>9</td>\n",
       "      <td>1000_9</td>\n",
       "      <td>2018-08-15</td>\n",
       "      <td>0.00</td>\n",
       "      <td>1000</td>\n",
       "    </tr>\n",
       "  </tbody>\n",
       "</table>\n",
       "</div>"
      ],
      "text/plain": [
       "       id   call_date  duration  user_id\n",
       "0  1000_0  2018-07-25      0.00     1000\n",
       "1  1000_1  2018-08-17      0.00     1000\n",
       "2  1000_2  2018-06-11      2.85     1000\n",
       "3  1000_3  2018-09-21     13.80     1000\n",
       "4  1000_4  2018-12-15      5.18     1000\n",
       "5  1000_5  2018-11-02      0.00     1000\n",
       "6  1000_6  2018-10-18      0.00     1000\n",
       "7  1000_7  2018-08-22     18.31     1000\n",
       "8  1000_8  2018-09-15     18.44     1000\n",
       "9  1000_9  2018-08-15      0.00     1000"
      ]
     },
     "execution_count": 10,
     "metadata": {},
     "output_type": "execute_result"
    }
   ],
   "source": [
    "calls.head(10)"
   ]
  },
  {
   "cell_type": "code",
   "execution_count": 11,
   "metadata": {},
   "outputs": [
    {
     "name": "stdout",
     "output_type": "stream",
     "text": [
      "<class 'pandas.core.frame.DataFrame'>\n",
      "RangeIndex: 202607 entries, 0 to 202606\n",
      "Data columns (total 4 columns):\n",
      "id           202607 non-null object\n",
      "call_date    202607 non-null object\n",
      "duration     202607 non-null float64\n",
      "user_id      202607 non-null int64\n",
      "dtypes: float64(1), int64(1), object(2)\n",
      "memory usage: 6.2+ MB\n"
     ]
    }
   ],
   "source": [
    "calls.info()"
   ]
  },
  {
   "cell_type": "markdown",
   "metadata": {},
   "source": [
    "Таблица 'calls' содержит в себе информацию о звонках, сделанных в сети компании 'Мегалайн'.\n",
    "\n",
    "* id — уникальный номер звонка\n",
    "* call_date — дата звонка\n",
    "* duration — длительность звонка в минутах\n",
    "* user_id — идентификатор пользователя, сделавшего звонок"
   ]
  },
  {
   "cell_type": "code",
   "execution_count": 12,
   "metadata": {},
   "outputs": [
    {
     "data": {
      "text/html": [
       "<div>\n",
       "<style scoped>\n",
       "    .dataframe tbody tr th:only-of-type {\n",
       "        vertical-align: middle;\n",
       "    }\n",
       "\n",
       "    .dataframe tbody tr th {\n",
       "        vertical-align: top;\n",
       "    }\n",
       "\n",
       "    .dataframe thead th {\n",
       "        text-align: right;\n",
       "    }\n",
       "</style>\n",
       "<table border=\"1\" class=\"dataframe\">\n",
       "  <thead>\n",
       "    <tr style=\"text-align: right;\">\n",
       "      <th></th>\n",
       "      <th>id</th>\n",
       "      <th>message_date</th>\n",
       "      <th>user_id</th>\n",
       "    </tr>\n",
       "  </thead>\n",
       "  <tbody>\n",
       "    <tr>\n",
       "      <td>0</td>\n",
       "      <td>1000_0</td>\n",
       "      <td>2018-06-27</td>\n",
       "      <td>1000</td>\n",
       "    </tr>\n",
       "    <tr>\n",
       "      <td>1</td>\n",
       "      <td>1000_1</td>\n",
       "      <td>2018-10-08</td>\n",
       "      <td>1000</td>\n",
       "    </tr>\n",
       "    <tr>\n",
       "      <td>2</td>\n",
       "      <td>1000_2</td>\n",
       "      <td>2018-08-04</td>\n",
       "      <td>1000</td>\n",
       "    </tr>\n",
       "    <tr>\n",
       "      <td>3</td>\n",
       "      <td>1000_3</td>\n",
       "      <td>2018-06-16</td>\n",
       "      <td>1000</td>\n",
       "    </tr>\n",
       "    <tr>\n",
       "      <td>4</td>\n",
       "      <td>1000_4</td>\n",
       "      <td>2018-12-05</td>\n",
       "      <td>1000</td>\n",
       "    </tr>\n",
       "    <tr>\n",
       "      <td>5</td>\n",
       "      <td>1000_5</td>\n",
       "      <td>2018-06-20</td>\n",
       "      <td>1000</td>\n",
       "    </tr>\n",
       "    <tr>\n",
       "      <td>6</td>\n",
       "      <td>1000_6</td>\n",
       "      <td>2018-11-19</td>\n",
       "      <td>1000</td>\n",
       "    </tr>\n",
       "    <tr>\n",
       "      <td>7</td>\n",
       "      <td>1000_7</td>\n",
       "      <td>2018-10-29</td>\n",
       "      <td>1000</td>\n",
       "    </tr>\n",
       "    <tr>\n",
       "      <td>8</td>\n",
       "      <td>1000_8</td>\n",
       "      <td>2018-06-25</td>\n",
       "      <td>1000</td>\n",
       "    </tr>\n",
       "    <tr>\n",
       "      <td>9</td>\n",
       "      <td>1000_9</td>\n",
       "      <td>2018-12-18</td>\n",
       "      <td>1000</td>\n",
       "    </tr>\n",
       "  </tbody>\n",
       "</table>\n",
       "</div>"
      ],
      "text/plain": [
       "       id message_date  user_id\n",
       "0  1000_0   2018-06-27     1000\n",
       "1  1000_1   2018-10-08     1000\n",
       "2  1000_2   2018-08-04     1000\n",
       "3  1000_3   2018-06-16     1000\n",
       "4  1000_4   2018-12-05     1000\n",
       "5  1000_5   2018-06-20     1000\n",
       "6  1000_6   2018-11-19     1000\n",
       "7  1000_7   2018-10-29     1000\n",
       "8  1000_8   2018-06-25     1000\n",
       "9  1000_9   2018-12-18     1000"
      ]
     },
     "execution_count": 12,
     "metadata": {},
     "output_type": "execute_result"
    }
   ],
   "source": [
    "messages.head(10)"
   ]
  },
  {
   "cell_type": "code",
   "execution_count": 13,
   "metadata": {},
   "outputs": [
    {
     "name": "stdout",
     "output_type": "stream",
     "text": [
      "<class 'pandas.core.frame.DataFrame'>\n",
      "RangeIndex: 123036 entries, 0 to 123035\n",
      "Data columns (total 3 columns):\n",
      "id              123036 non-null object\n",
      "message_date    123036 non-null object\n",
      "user_id         123036 non-null int64\n",
      "dtypes: int64(1), object(2)\n",
      "memory usage: 2.8+ MB\n"
     ]
    }
   ],
   "source": [
    "messages.info()"
   ]
  },
  {
   "cell_type": "markdown",
   "metadata": {},
   "source": [
    "'messages' - таблица с информацией об отправленных сообщениях. Она содержит 3 стобца:\n",
    "    \n",
    "* id — уникальный номер сообщения\n",
    "* message_date — дата сообщения\n",
    "* user_id — идентификатор пользователя, отправившего сообщение"
   ]
  },
  {
   "cell_type": "markdown",
   "metadata": {},
   "source": [
    "Наконец, выведем данные из последней таблицы 'tariffs'."
   ]
  },
  {
   "cell_type": "code",
   "execution_count": 14,
   "metadata": {},
   "outputs": [
    {
     "data": {
      "text/html": [
       "<div>\n",
       "<style scoped>\n",
       "    .dataframe tbody tr th:only-of-type {\n",
       "        vertical-align: middle;\n",
       "    }\n",
       "\n",
       "    .dataframe tbody tr th {\n",
       "        vertical-align: top;\n",
       "    }\n",
       "\n",
       "    .dataframe thead th {\n",
       "        text-align: right;\n",
       "    }\n",
       "</style>\n",
       "<table border=\"1\" class=\"dataframe\">\n",
       "  <thead>\n",
       "    <tr style=\"text-align: right;\">\n",
       "      <th></th>\n",
       "      <th>messages_included</th>\n",
       "      <th>mb_per_month_included</th>\n",
       "      <th>minutes_included</th>\n",
       "      <th>rub_monthly_fee</th>\n",
       "      <th>rub_per_gb</th>\n",
       "      <th>rub_per_message</th>\n",
       "      <th>rub_per_minute</th>\n",
       "      <th>tariff_name</th>\n",
       "    </tr>\n",
       "  </thead>\n",
       "  <tbody>\n",
       "    <tr>\n",
       "      <td>0</td>\n",
       "      <td>50</td>\n",
       "      <td>15360</td>\n",
       "      <td>500</td>\n",
       "      <td>550</td>\n",
       "      <td>200</td>\n",
       "      <td>3</td>\n",
       "      <td>3</td>\n",
       "      <td>smart</td>\n",
       "    </tr>\n",
       "    <tr>\n",
       "      <td>1</td>\n",
       "      <td>1000</td>\n",
       "      <td>30720</td>\n",
       "      <td>3000</td>\n",
       "      <td>1950</td>\n",
       "      <td>150</td>\n",
       "      <td>1</td>\n",
       "      <td>1</td>\n",
       "      <td>ultra</td>\n",
       "    </tr>\n",
       "  </tbody>\n",
       "</table>\n",
       "</div>"
      ],
      "text/plain": [
       "   messages_included  mb_per_month_included  minutes_included  \\\n",
       "0                 50                  15360               500   \n",
       "1               1000                  30720              3000   \n",
       "\n",
       "   rub_monthly_fee  rub_per_gb  rub_per_message  rub_per_minute tariff_name  \n",
       "0              550         200                3               3       smart  \n",
       "1             1950         150                1               1       ultra  "
      ]
     },
     "execution_count": 14,
     "metadata": {},
     "output_type": "execute_result"
    }
   ],
   "source": [
    "tariffs"
   ]
  },
  {
   "cell_type": "markdown",
   "metadata": {},
   "source": [
    "В таблице всего 2 значения - это условия пользования по двум тарифным планам. Значения столбцев:\n",
    "    \n",
    "* tariff_name — название тарифа\n",
    "* rub_monthly_fee — ежемесячная абонентская плата в рублях\n",
    "* minutes_included — количество минут разговора в месяц, включённых в абонентскую плату\n",
    "* messages_included — количество сообщений в месяц, включённых в абонентскую плату\n",
    "* mb_per_month_included — объём интернет-трафика, включённого в абонентскую плату (в мегабайтах)\n",
    "* rub_per_minute — стоимость минуты разговора сверх тарифного пакета (например, если в тарифе 100 минут разговора в месяц, то со 101 минуты будет взиматься плата)\n",
    "* rub_per_message — стоимость отправки сообщения сверх тарифного пакета\n",
    "* rub_per_gb — стоимость дополнительного гигабайта интернет-трафика сверх тарифного пакета (1 гигабайт = 1024 мегабайта)"
   ]
  },
  {
   "cell_type": "markdown",
   "metadata": {},
   "source": [
    "### Вывод\n",
    "\n",
    "Наши данные - это данные компании 'Мегалайн' о действиях клиентов. Данные разбиты на таблицы, каждая отвечает за определенный раздел информации. Прежде чем приступать к анализу данных, нужно привести данные к \"нормальному\" виду. "
   ]
  },
  {
   "cell_type": "markdown",
   "metadata": {},
   "source": [
    "## Подготовка данных"
   ]
  },
  {
   "cell_type": "markdown",
   "metadata": {},
   "source": [
    "Что нужно сделать?\n",
    "\n",
    "* Провести предобработку\n",
    "* Затем добавим некую информацию к нашим таблицам:\n",
    "        - количество сделанных звонков и израсходованных минут разговора по месяцам;\n",
    "        - количество отправленных сообщений по месяцам;\n",
    "        - объем израсходованного интернет-трафика по месяцам;\n",
    "        - помесячную выручку с каждого пользователя (вычтите бесплатный лимит из суммарного количества звонков, сообщений и интернет-трафика; остаток умножьте на значение из тарифного плана; прибавьте абонентскую плату, соответствующую тарифному плану)."
   ]
  },
  {
   "cell_type": "markdown",
   "metadata": {},
   "source": [
    "Сначала разберемся с пропусками. Вспомнил, что при знакомстве с данными пропуски мы увидели только в таблице 'users', рассмотрим их поподробней."
   ]
  },
  {
   "cell_type": "code",
   "execution_count": 15,
   "metadata": {},
   "outputs": [
    {
     "data": {
      "text/html": [
       "<style  type=\"text/css\" >\n",
       "    #T_b0d90ed8_1329_11ec_b711_02420a395dd3row0_col0 {\n",
       "            background-color:  #fff7f3;\n",
       "            color:  #000000;\n",
       "        }    #T_b0d90ed8_1329_11ec_b711_02420a395dd3row0_col1 {\n",
       "            background-color:  #fff7f3;\n",
       "            color:  #000000;\n",
       "        }    #T_b0d90ed8_1329_11ec_b711_02420a395dd3row1_col0 {\n",
       "            background-color:  #fff7f3;\n",
       "            color:  #000000;\n",
       "        }    #T_b0d90ed8_1329_11ec_b711_02420a395dd3row1_col1 {\n",
       "            background-color:  #fff7f3;\n",
       "            color:  #000000;\n",
       "        }    #T_b0d90ed8_1329_11ec_b711_02420a395dd3row2_col0 {\n",
       "            background-color:  #49006a;\n",
       "            color:  #f1f1f1;\n",
       "        }    #T_b0d90ed8_1329_11ec_b711_02420a395dd3row2_col1 {\n",
       "            background-color:  #49006a;\n",
       "            color:  #f1f1f1;\n",
       "        }    #T_b0d90ed8_1329_11ec_b711_02420a395dd3row3_col0 {\n",
       "            background-color:  #fff7f3;\n",
       "            color:  #000000;\n",
       "        }    #T_b0d90ed8_1329_11ec_b711_02420a395dd3row3_col1 {\n",
       "            background-color:  #fff7f3;\n",
       "            color:  #000000;\n",
       "        }    #T_b0d90ed8_1329_11ec_b711_02420a395dd3row4_col0 {\n",
       "            background-color:  #fff7f3;\n",
       "            color:  #000000;\n",
       "        }    #T_b0d90ed8_1329_11ec_b711_02420a395dd3row4_col1 {\n",
       "            background-color:  #fff7f3;\n",
       "            color:  #000000;\n",
       "        }    #T_b0d90ed8_1329_11ec_b711_02420a395dd3row5_col0 {\n",
       "            background-color:  #fff7f3;\n",
       "            color:  #000000;\n",
       "        }    #T_b0d90ed8_1329_11ec_b711_02420a395dd3row5_col1 {\n",
       "            background-color:  #fff7f3;\n",
       "            color:  #000000;\n",
       "        }    #T_b0d90ed8_1329_11ec_b711_02420a395dd3row6_col0 {\n",
       "            background-color:  #fff7f3;\n",
       "            color:  #000000;\n",
       "        }    #T_b0d90ed8_1329_11ec_b711_02420a395dd3row6_col1 {\n",
       "            background-color:  #fff7f3;\n",
       "            color:  #000000;\n",
       "        }    #T_b0d90ed8_1329_11ec_b711_02420a395dd3row7_col0 {\n",
       "            background-color:  #fff7f3;\n",
       "            color:  #000000;\n",
       "        }    #T_b0d90ed8_1329_11ec_b711_02420a395dd3row7_col1 {\n",
       "            background-color:  #fff7f3;\n",
       "            color:  #000000;\n",
       "        }</style><table id=\"T_b0d90ed8_1329_11ec_b711_02420a395dd3\" ><thead>    <tr>        <th class=\"blank level0\" ></th>        <th class=\"col_heading level0 col0\" >missing_values</th>        <th class=\"col_heading level0 col1\" >% of total</th>    </tr></thead><tbody>\n",
       "                <tr>\n",
       "                        <th id=\"T_b0d90ed8_1329_11ec_b711_02420a395dd3level0_row0\" class=\"row_heading level0 row0\" >user_id</th>\n",
       "                        <td id=\"T_b0d90ed8_1329_11ec_b711_02420a395dd3row0_col0\" class=\"data row0 col0\" >0</td>\n",
       "                        <td id=\"T_b0d90ed8_1329_11ec_b711_02420a395dd3row0_col1\" class=\"data row0 col1\" >0</td>\n",
       "            </tr>\n",
       "            <tr>\n",
       "                        <th id=\"T_b0d90ed8_1329_11ec_b711_02420a395dd3level0_row1\" class=\"row_heading level0 row1\" >age</th>\n",
       "                        <td id=\"T_b0d90ed8_1329_11ec_b711_02420a395dd3row1_col0\" class=\"data row1 col0\" >0</td>\n",
       "                        <td id=\"T_b0d90ed8_1329_11ec_b711_02420a395dd3row1_col1\" class=\"data row1 col1\" >0</td>\n",
       "            </tr>\n",
       "            <tr>\n",
       "                        <th id=\"T_b0d90ed8_1329_11ec_b711_02420a395dd3level0_row2\" class=\"row_heading level0 row2\" >churn_date</th>\n",
       "                        <td id=\"T_b0d90ed8_1329_11ec_b711_02420a395dd3row2_col0\" class=\"data row2 col0\" >462</td>\n",
       "                        <td id=\"T_b0d90ed8_1329_11ec_b711_02420a395dd3row2_col1\" class=\"data row2 col1\" >0.92</td>\n",
       "            </tr>\n",
       "            <tr>\n",
       "                        <th id=\"T_b0d90ed8_1329_11ec_b711_02420a395dd3level0_row3\" class=\"row_heading level0 row3\" >city</th>\n",
       "                        <td id=\"T_b0d90ed8_1329_11ec_b711_02420a395dd3row3_col0\" class=\"data row3 col0\" >0</td>\n",
       "                        <td id=\"T_b0d90ed8_1329_11ec_b711_02420a395dd3row3_col1\" class=\"data row3 col1\" >0</td>\n",
       "            </tr>\n",
       "            <tr>\n",
       "                        <th id=\"T_b0d90ed8_1329_11ec_b711_02420a395dd3level0_row4\" class=\"row_heading level0 row4\" >first_name</th>\n",
       "                        <td id=\"T_b0d90ed8_1329_11ec_b711_02420a395dd3row4_col0\" class=\"data row4 col0\" >0</td>\n",
       "                        <td id=\"T_b0d90ed8_1329_11ec_b711_02420a395dd3row4_col1\" class=\"data row4 col1\" >0</td>\n",
       "            </tr>\n",
       "            <tr>\n",
       "                        <th id=\"T_b0d90ed8_1329_11ec_b711_02420a395dd3level0_row5\" class=\"row_heading level0 row5\" >last_name</th>\n",
       "                        <td id=\"T_b0d90ed8_1329_11ec_b711_02420a395dd3row5_col0\" class=\"data row5 col0\" >0</td>\n",
       "                        <td id=\"T_b0d90ed8_1329_11ec_b711_02420a395dd3row5_col1\" class=\"data row5 col1\" >0</td>\n",
       "            </tr>\n",
       "            <tr>\n",
       "                        <th id=\"T_b0d90ed8_1329_11ec_b711_02420a395dd3level0_row6\" class=\"row_heading level0 row6\" >reg_date</th>\n",
       "                        <td id=\"T_b0d90ed8_1329_11ec_b711_02420a395dd3row6_col0\" class=\"data row6 col0\" >0</td>\n",
       "                        <td id=\"T_b0d90ed8_1329_11ec_b711_02420a395dd3row6_col1\" class=\"data row6 col1\" >0</td>\n",
       "            </tr>\n",
       "            <tr>\n",
       "                        <th id=\"T_b0d90ed8_1329_11ec_b711_02420a395dd3level0_row7\" class=\"row_heading level0 row7\" >tariff</th>\n",
       "                        <td id=\"T_b0d90ed8_1329_11ec_b711_02420a395dd3row7_col0\" class=\"data row7 col0\" >0</td>\n",
       "                        <td id=\"T_b0d90ed8_1329_11ec_b711_02420a395dd3row7_col1\" class=\"data row7 col1\" >0</td>\n",
       "            </tr>\n",
       "    </tbody></table>"
      ],
      "text/plain": [
       "<pandas.io.formats.style.Styler at 0x7f6bc3bfc610>"
      ]
     },
     "execution_count": 15,
     "metadata": {},
     "output_type": "execute_result"
    }
   ],
   "source": [
    "report = users.isna().sum().to_frame()\n",
    "report = report.rename(columns = {0: 'missing_values'})\n",
    "report['% of total'] = (report['missing_values'] / users.shape[0]).round(2)\n",
    "report.style.background_gradient(cmap = 'RdPu')"
   ]
  },
  {
   "cell_type": "markdown",
   "metadata": {},
   "source": [
    "Пропусков очень много, удаляем столбец? Прежде чем принимать такие ключевые решения, давайте вспомним, какая информация хранится в этом столбце. \n",
    "'churn_date' — дата прекращения пользования тарифом (если значение пропущено, то тариф ещё действовал на момент выгрузки данных).\n",
    "В самом описании данных указано, что пропуски - это не ошибки. Значит удалять мы их не будем. А чем же их заполнять? Для этого предлагаю сначала посмотреть на диапазон наших значений."
   ]
  },
  {
   "cell_type": "code",
   "execution_count": 16,
   "metadata": {},
   "outputs": [
    {
     "data": {
      "text/plain": [
       "2018-12-21    2\n",
       "2018-10-14    2\n",
       "2018-10-03    2\n",
       "2018-12-09    2\n",
       "2018-12-03    2\n",
       "2018-12-26    1\n",
       "2018-12-18    1\n",
       "2018-11-22    1\n",
       "2018-10-25    1\n",
       "2018-11-27    1\n",
       "2018-11-21    1\n",
       "2018-12-11    1\n",
       "2018-11-13    1\n",
       "2018-08-31    1\n",
       "2018-10-28    1\n",
       "2018-11-07    1\n",
       "2018-09-26    1\n",
       "2018-09-02    1\n",
       "2018-11-26    1\n",
       "2018-10-05    1\n",
       "2018-08-17    1\n",
       "2018-12-20    1\n",
       "2018-12-24    1\n",
       "2018-09-27    1\n",
       "2018-12-30    1\n",
       "2018-12-16    1\n",
       "2018-10-04    1\n",
       "2018-12-25    1\n",
       "2018-12-23    1\n",
       "2018-11-16    1\n",
       "2018-10-27    1\n",
       "2018-12-14    1\n",
       "2018-11-30    1\n",
       "Name: churn_date, dtype: int64"
      ]
     },
     "execution_count": 16,
     "metadata": {},
     "output_type": "execute_result"
    }
   ],
   "source": [
    "users['churn_date'].value_counts()"
   ]
  },
  {
   "cell_type": "markdown",
   "metadata": {},
   "source": [
    "Рискну предположить, что нам предоставили данные компании 'Мегалайн' за 2018 год, поэтому для заполнения пропусков я предлагаю следующий маркер. на момент 1ого января 2019 года все клиенты с пропущенными значениями все ещё являются клиентами 'Мегалайн', поэтому этими значениями и заполним пропуски, но будем держать эту информацию в голове при анализе."
   ]
  },
  {
   "cell_type": "code",
   "execution_count": 17,
   "metadata": {},
   "outputs": [],
   "source": [
    "users['churn_date'] = users['churn_date'].fillna('2019-01-01')"
   ]
  },
  {
   "cell_type": "code",
   "execution_count": 18,
   "metadata": {},
   "outputs": [
    {
     "data": {
      "text/plain": [
       "0"
      ]
     },
     "execution_count": 18,
     "metadata": {},
     "output_type": "execute_result"
    }
   ],
   "source": [
    "users['churn_date'].isna().sum()"
   ]
  },
  {
   "cell_type": "markdown",
   "metadata": {},
   "source": [
    "Пропущенные значения победили. Теперь решим следующую проблему. У нас очень много данных с датами, а хранятся они как object. Давайте исправим это."
   ]
  },
  {
   "cell_type": "code",
   "execution_count": 19,
   "metadata": {},
   "outputs": [],
   "source": [
    "internet['session_date'] = pd.to_datetime(internet['session_date'], format = '%Y-%m-%d')\n",
    "calls['call_date'] = pd.to_datetime(calls['call_date'], format = '%Y-%m-%d')\n",
    "messages['message_date'] = pd.to_datetime(messages['message_date'], format = '%Y-%m-%d')\n",
    "users['reg_date'] = pd.to_datetime(users['reg_date'], format = '%Y-%m-%d')\n",
    "users['churn_date'] = pd.to_datetime(users['churn_date'], format = '%Y-%m-%d')\n",
    "# пытался это сделать в цикле, в лист засунул все столбцы, по одному передавал их в цикл\n",
    "#и менял тип данных, тип данныз в serios менялся, но не изменял столбец в самом dataframe"
   ]
  },
  {
   "cell_type": "code",
   "execution_count": 38,
   "metadata": {},
   "outputs": [
    {
     "name": "stdout",
     "output_type": "stream",
     "text": [
      "0         2018-11-25\n",
      "1         2018-09-07\n",
      "2         2018-06-25\n",
      "3         2018-08-22\n",
      "4         2018-09-24\n",
      "             ...    \n",
      "149391    2018-10-03\n",
      "149392    2018-12-14\n",
      "149393    2018-10-27\n",
      "149394    2018-11-26\n",
      "149395    2018-10-26\n",
      "Name: session_date, Length: 149396, dtype: object\n",
      "0         2018-07-25\n",
      "1         2018-08-17\n",
      "2         2018-06-11\n",
      "3         2018-09-21\n",
      "4         2018-12-15\n",
      "             ...    \n",
      "202602    2018-12-26\n",
      "202603    2018-10-18\n",
      "202604    2018-11-10\n",
      "202605    2018-10-06\n",
      "202606    2018-12-14\n",
      "Name: call_date, Length: 202607, dtype: object\n"
     ]
    }
   ],
   "source": [
    "list = [internet['session_date'], calls['call_date']]\n",
    "for series in list:\n",
    "    series = pd.to_datetime(series, format = '%Y-%m-%d')"
   ]
  },
  {
   "cell_type": "markdown",
   "metadata": {},
   "source": [
    "Проверим, все ли у нас получилось."
   ]
  },
  {
   "cell_type": "code",
   "execution_count": 20,
   "metadata": {},
   "outputs": [
    {
     "name": "stdout",
     "output_type": "stream",
     "text": [
      "session_date - <class 'pandas.core.series.Series'>\n",
      "call_date - <class 'pandas.core.series.Series'>\n",
      "message_date - <class 'pandas.core.series.Series'>\n",
      "reg_date - <class 'pandas.core.series.Series'>\n",
      "churn_date - <class 'pandas.core.series.Series'>\n"
     ]
    }
   ],
   "source": [
    "print('session_date -',type(internet['session_date']))\n",
    "print('call_date -',type(calls['call_date']))\n",
    "print('message_date -',type(messages['message_date']))\n",
    "print('reg_date -',type(users['reg_date']))\n",
    "print('churn_date -',type(users['churn_date']))"
   ]
  },
  {
   "cell_type": "markdown",
   "metadata": {},
   "source": [
    "Вспоминаем о столбце 'Unnamed: 0' из таблицы 'internet'. Он дублирует в себе значения индексов, а зачем нам это нужно?! Удаляем его."
   ]
  },
  {
   "cell_type": "code",
   "execution_count": 21,
   "metadata": {},
   "outputs": [],
   "source": [
    "del internet['Unnamed: 0']"
   ]
  },
  {
   "cell_type": "code",
   "execution_count": 22,
   "metadata": {},
   "outputs": [
    {
     "name": "stdout",
     "output_type": "stream",
     "text": [
      "<class 'pandas.core.frame.DataFrame'>\n",
      "RangeIndex: 149396 entries, 0 to 149395\n",
      "Data columns (total 4 columns):\n",
      "id              149396 non-null object\n",
      "mb_used         149396 non-null float64\n",
      "session_date    149396 non-null datetime64[ns]\n",
      "user_id         149396 non-null int64\n",
      "dtypes: datetime64[ns](1), float64(1), int64(1), object(1)\n",
      "memory usage: 4.6+ MB\n"
     ]
    }
   ],
   "source": [
    "internet.info()"
   ]
  },
  {
   "cell_type": "code",
   "execution_count": 23,
   "metadata": {},
   "outputs": [
    {
     "name": "stdout",
     "output_type": "stream",
     "text": [
      "<class 'pandas.core.frame.DataFrame'>\n",
      "RangeIndex: 500 entries, 0 to 499\n",
      "Data columns (total 8 columns):\n",
      "user_id       500 non-null int64\n",
      "age           500 non-null int64\n",
      "churn_date    500 non-null datetime64[ns]\n",
      "city          500 non-null object\n",
      "first_name    500 non-null object\n",
      "last_name     500 non-null object\n",
      "reg_date      500 non-null datetime64[ns]\n",
      "tariff        500 non-null object\n",
      "dtypes: datetime64[ns](2), int64(2), object(4)\n",
      "memory usage: 31.4+ KB\n"
     ]
    }
   ],
   "source": [
    "users.info()"
   ]
  },
  {
   "cell_type": "markdown",
   "metadata": {},
   "source": [
    "Ещё один из пунктов предобработки данных - это работа с дубликатами. В контексте нашей работы, считаю, что нам нужно лишь проверить, присутствуют ли у нас дубликаты звонков, сообщений и сессий в интернет. Это можно сделать по уникальном id каждого действия. Остальные данные можно не проверять, в частности таблицу 'users', так как часто бывает, что на одного человека зарегистрировано несколько сим-карт."
   ]
  },
  {
   "cell_type": "code",
   "execution_count": 24,
   "metadata": {},
   "outputs": [
    {
     "data": {
      "text/plain": [
       "0"
      ]
     },
     "execution_count": 24,
     "metadata": {},
     "output_type": "execute_result"
    }
   ],
   "source": [
    "calls['id'].duplicated().sum()"
   ]
  },
  {
   "cell_type": "code",
   "execution_count": 25,
   "metadata": {},
   "outputs": [
    {
     "data": {
      "text/plain": [
       "0"
      ]
     },
     "execution_count": 25,
     "metadata": {},
     "output_type": "execute_result"
    }
   ],
   "source": [
    "messages['id'].duplicated().sum()"
   ]
  },
  {
   "cell_type": "code",
   "execution_count": 26,
   "metadata": {},
   "outputs": [
    {
     "data": {
      "text/plain": [
       "0"
      ]
     },
     "execution_count": 26,
     "metadata": {},
     "output_type": "execute_result"
    }
   ],
   "source": [
    "internet['id'].duplicated().sum()"
   ]
  },
  {
   "cell_type": "markdown",
   "metadata": {},
   "source": [
    "Дубликатов не обнаружено. Переходим к следующей части подготовки наших данных. Рассчитаем для каждого пользователя количество сделанных звонков и израсходованных минут разговора по месяцам. \n",
    "\n",
    "Для этого сначала уберем из таблицы 'calls' все строки, где значение столбца 'duration' равны нулю. Деньги или минуты не списываются за не отвеченные звонки. А учитывать эти звонки при подсчете количества звонков, мне кажется, не правильно.\n",
    "Затем создадим новы столбец 'month', чтобы было удобнее группировать нашу таблицу (так как в нашей статистике предоставлены данные только за 2018 год, то номера месяца будет достаточно). Так же округлим минуты в наших данных в большую сторону (такие правила списания у компании 'Мегалайн'). Ну и сгруппируем нашу таблицу по значениям 'user_id' и 'month' и посчитаем количество звонком и сумму израсходованных минут."
   ]
  },
  {
   "cell_type": "code",
   "execution_count": 27,
   "metadata": {},
   "outputs": [],
   "source": [
    "calls = calls.query('duration != 0')"
   ]
  },
  {
   "cell_type": "code",
   "execution_count": 28,
   "metadata": {},
   "outputs": [],
   "source": [
    "calls['duration'] = calls['duration'].apply(lambda duration: math.ceil(duration))"
   ]
  },
  {
   "cell_type": "code",
   "execution_count": 29,
   "metadata": {},
   "outputs": [],
   "source": [
    "calls['month'] = calls['call_date'].apply(lambda call_date: call_date.month)"
   ]
  },
  {
   "cell_type": "code",
   "execution_count": 30,
   "metadata": {},
   "outputs": [],
   "source": [
    "calls_by_month = calls.pivot_table(\n",
    "    index = ['user_id','month'], values = 'duration', aggfunc = ['count','sum']\n",
    ")"
   ]
  },
  {
   "cell_type": "code",
   "execution_count": 31,
   "metadata": {},
   "outputs": [],
   "source": [
    "#переименуем столбцы, избавимся от двойных названий\n",
    "calls_by_month.columns = ('count_calls', 'total_minutes')"
   ]
  },
  {
   "cell_type": "code",
   "execution_count": 32,
   "metadata": {},
   "outputs": [
    {
     "data": {
      "text/html": [
       "<div>\n",
       "<style scoped>\n",
       "    .dataframe tbody tr th:only-of-type {\n",
       "        vertical-align: middle;\n",
       "    }\n",
       "\n",
       "    .dataframe tbody tr th {\n",
       "        vertical-align: top;\n",
       "    }\n",
       "\n",
       "    .dataframe thead th {\n",
       "        text-align: right;\n",
       "    }\n",
       "</style>\n",
       "<table border=\"1\" class=\"dataframe\">\n",
       "  <thead>\n",
       "    <tr style=\"text-align: right;\">\n",
       "      <th></th>\n",
       "      <th></th>\n",
       "      <th>count_calls</th>\n",
       "      <th>total_minutes</th>\n",
       "    </tr>\n",
       "    <tr>\n",
       "      <th>user_id</th>\n",
       "      <th>month</th>\n",
       "      <th></th>\n",
       "      <th></th>\n",
       "    </tr>\n",
       "  </thead>\n",
       "  <tbody>\n",
       "    <tr>\n",
       "      <td rowspan=\"5\" valign=\"top\">1000</td>\n",
       "      <td>5</td>\n",
       "      <td>17</td>\n",
       "      <td>159</td>\n",
       "    </tr>\n",
       "    <tr>\n",
       "      <td>6</td>\n",
       "      <td>28</td>\n",
       "      <td>172</td>\n",
       "    </tr>\n",
       "    <tr>\n",
       "      <td>7</td>\n",
       "      <td>41</td>\n",
       "      <td>340</td>\n",
       "    </tr>\n",
       "    <tr>\n",
       "      <td>8</td>\n",
       "      <td>42</td>\n",
       "      <td>408</td>\n",
       "    </tr>\n",
       "    <tr>\n",
       "      <td>9</td>\n",
       "      <td>46</td>\n",
       "      <td>466</td>\n",
       "    </tr>\n",
       "    <tr>\n",
       "      <td>...</td>\n",
       "      <td>...</td>\n",
       "      <td>...</td>\n",
       "      <td>...</td>\n",
       "    </tr>\n",
       "    <tr>\n",
       "      <td>1498</td>\n",
       "      <td>10</td>\n",
       "      <td>30</td>\n",
       "      <td>247</td>\n",
       "    </tr>\n",
       "    <tr>\n",
       "      <td rowspan=\"4\" valign=\"top\">1499</td>\n",
       "      <td>9</td>\n",
       "      <td>8</td>\n",
       "      <td>70</td>\n",
       "    </tr>\n",
       "    <tr>\n",
       "      <td>10</td>\n",
       "      <td>44</td>\n",
       "      <td>449</td>\n",
       "    </tr>\n",
       "    <tr>\n",
       "      <td>11</td>\n",
       "      <td>62</td>\n",
       "      <td>612</td>\n",
       "    </tr>\n",
       "    <tr>\n",
       "      <td>12</td>\n",
       "      <td>56</td>\n",
       "      <td>492</td>\n",
       "    </tr>\n",
       "  </tbody>\n",
       "</table>\n",
       "<p>3168 rows × 2 columns</p>\n",
       "</div>"
      ],
      "text/plain": [
       "               count_calls  total_minutes\n",
       "user_id month                            \n",
       "1000    5               17            159\n",
       "        6               28            172\n",
       "        7               41            340\n",
       "        8               42            408\n",
       "        9               46            466\n",
       "...                    ...            ...\n",
       "1498    10              30            247\n",
       "1499    9                8             70\n",
       "        10              44            449\n",
       "        11              62            612\n",
       "        12              56            492\n",
       "\n",
       "[3168 rows x 2 columns]"
      ]
     },
     "execution_count": 32,
     "metadata": {},
     "output_type": "execute_result"
    }
   ],
   "source": [
    "calls_by_month"
   ]
  },
  {
   "cell_type": "markdown",
   "metadata": {},
   "source": [
    "Сделано! Переходим к следующей задаче, посчитаем количество отправленных сообщений по месяцам.\n",
    "\n",
    "С таблицей 'messages' поступаем похожим образом. Только округлять нам ничего не нужно, и считать будем только количество смс, от количества символов в ней цена не меняется."
   ]
  },
  {
   "cell_type": "code",
   "execution_count": 33,
   "metadata": {},
   "outputs": [],
   "source": [
    "messages['month'] = messages['message_date'].apply(lambda message_date: message_date.month)"
   ]
  },
  {
   "cell_type": "code",
   "execution_count": 34,
   "metadata": {},
   "outputs": [],
   "source": [
    "messages_by_month = messages.pivot_table(\n",
    "    index = ['user_id','month'], values = 'id', aggfunc = 'count'\n",
    ")"
   ]
  },
  {
   "cell_type": "code",
   "execution_count": 35,
   "metadata": {},
   "outputs": [],
   "source": [
    "messages_by_month.columns = ['total_messages']"
   ]
  },
  {
   "cell_type": "code",
   "execution_count": 36,
   "metadata": {},
   "outputs": [
    {
     "data": {
      "text/html": [
       "<div>\n",
       "<style scoped>\n",
       "    .dataframe tbody tr th:only-of-type {\n",
       "        vertical-align: middle;\n",
       "    }\n",
       "\n",
       "    .dataframe tbody tr th {\n",
       "        vertical-align: top;\n",
       "    }\n",
       "\n",
       "    .dataframe thead th {\n",
       "        text-align: right;\n",
       "    }\n",
       "</style>\n",
       "<table border=\"1\" class=\"dataframe\">\n",
       "  <thead>\n",
       "    <tr style=\"text-align: right;\">\n",
       "      <th></th>\n",
       "      <th></th>\n",
       "      <th>total_messages</th>\n",
       "    </tr>\n",
       "    <tr>\n",
       "      <th>user_id</th>\n",
       "      <th>month</th>\n",
       "      <th></th>\n",
       "    </tr>\n",
       "  </thead>\n",
       "  <tbody>\n",
       "    <tr>\n",
       "      <td rowspan=\"5\" valign=\"top\">1000</td>\n",
       "      <td>5</td>\n",
       "      <td>22</td>\n",
       "    </tr>\n",
       "    <tr>\n",
       "      <td>6</td>\n",
       "      <td>60</td>\n",
       "    </tr>\n",
       "    <tr>\n",
       "      <td>7</td>\n",
       "      <td>75</td>\n",
       "    </tr>\n",
       "    <tr>\n",
       "      <td>8</td>\n",
       "      <td>81</td>\n",
       "    </tr>\n",
       "    <tr>\n",
       "      <td>9</td>\n",
       "      <td>57</td>\n",
       "    </tr>\n",
       "    <tr>\n",
       "      <td>...</td>\n",
       "      <td>...</td>\n",
       "      <td>...</td>\n",
       "    </tr>\n",
       "    <tr>\n",
       "      <td>1498</td>\n",
       "      <td>10</td>\n",
       "      <td>42</td>\n",
       "    </tr>\n",
       "    <tr>\n",
       "      <td rowspan=\"4\" valign=\"top\">1499</td>\n",
       "      <td>9</td>\n",
       "      <td>11</td>\n",
       "    </tr>\n",
       "    <tr>\n",
       "      <td>10</td>\n",
       "      <td>48</td>\n",
       "    </tr>\n",
       "    <tr>\n",
       "      <td>11</td>\n",
       "      <td>59</td>\n",
       "    </tr>\n",
       "    <tr>\n",
       "      <td>12</td>\n",
       "      <td>66</td>\n",
       "    </tr>\n",
       "  </tbody>\n",
       "</table>\n",
       "<p>2717 rows × 1 columns</p>\n",
       "</div>"
      ],
      "text/plain": [
       "               total_messages\n",
       "user_id month                \n",
       "1000    5                  22\n",
       "        6                  60\n",
       "        7                  75\n",
       "        8                  81\n",
       "        9                  57\n",
       "...                       ...\n",
       "1498    10                 42\n",
       "1499    9                  11\n",
       "        10                 48\n",
       "        11                 59\n",
       "        12                 66\n",
       "\n",
       "[2717 rows x 1 columns]"
      ]
     },
     "execution_count": 36,
     "metadata": {},
     "output_type": "execute_result"
    }
   ],
   "source": [
    "messages_by_month"
   ]
  },
  {
   "cell_type": "markdown",
   "metadata": {},
   "source": [
    "Пришла очередь интернета. Берём таблицу 'internet' и проделываем с ней то же, что делали с предыдущими."
   ]
  },
  {
   "cell_type": "code",
   "execution_count": 37,
   "metadata": {},
   "outputs": [
    {
     "data": {
      "text/html": [
       "<div>\n",
       "<style scoped>\n",
       "    .dataframe tbody tr th:only-of-type {\n",
       "        vertical-align: middle;\n",
       "    }\n",
       "\n",
       "    .dataframe tbody tr th {\n",
       "        vertical-align: top;\n",
       "    }\n",
       "\n",
       "    .dataframe thead th {\n",
       "        text-align: right;\n",
       "    }\n",
       "</style>\n",
       "<table border=\"1\" class=\"dataframe\">\n",
       "  <thead>\n",
       "    <tr style=\"text-align: right;\">\n",
       "      <th></th>\n",
       "      <th>id</th>\n",
       "      <th>mb_used</th>\n",
       "      <th>session_date</th>\n",
       "      <th>user_id</th>\n",
       "      <th>month</th>\n",
       "    </tr>\n",
       "  </thead>\n",
       "  <tbody>\n",
       "    <tr>\n",
       "      <td>0</td>\n",
       "      <td>1000_0</td>\n",
       "      <td>112.95</td>\n",
       "      <td>2018-11-25</td>\n",
       "      <td>1000</td>\n",
       "      <td>11</td>\n",
       "    </tr>\n",
       "    <tr>\n",
       "      <td>1</td>\n",
       "      <td>1000_1</td>\n",
       "      <td>1052.81</td>\n",
       "      <td>2018-09-07</td>\n",
       "      <td>1000</td>\n",
       "      <td>9</td>\n",
       "    </tr>\n",
       "    <tr>\n",
       "      <td>2</td>\n",
       "      <td>1000_2</td>\n",
       "      <td>1197.26</td>\n",
       "      <td>2018-06-25</td>\n",
       "      <td>1000</td>\n",
       "      <td>6</td>\n",
       "    </tr>\n",
       "    <tr>\n",
       "      <td>3</td>\n",
       "      <td>1000_3</td>\n",
       "      <td>550.27</td>\n",
       "      <td>2018-08-22</td>\n",
       "      <td>1000</td>\n",
       "      <td>8</td>\n",
       "    </tr>\n",
       "    <tr>\n",
       "      <td>4</td>\n",
       "      <td>1000_4</td>\n",
       "      <td>302.56</td>\n",
       "      <td>2018-09-24</td>\n",
       "      <td>1000</td>\n",
       "      <td>9</td>\n",
       "    </tr>\n",
       "    <tr>\n",
       "      <td>...</td>\n",
       "      <td>...</td>\n",
       "      <td>...</td>\n",
       "      <td>...</td>\n",
       "      <td>...</td>\n",
       "      <td>...</td>\n",
       "    </tr>\n",
       "    <tr>\n",
       "      <td>149391</td>\n",
       "      <td>1499_152</td>\n",
       "      <td>318.90</td>\n",
       "      <td>2018-10-03</td>\n",
       "      <td>1499</td>\n",
       "      <td>10</td>\n",
       "    </tr>\n",
       "    <tr>\n",
       "      <td>149392</td>\n",
       "      <td>1499_153</td>\n",
       "      <td>490.13</td>\n",
       "      <td>2018-12-14</td>\n",
       "      <td>1499</td>\n",
       "      <td>12</td>\n",
       "    </tr>\n",
       "    <tr>\n",
       "      <td>149393</td>\n",
       "      <td>1499_154</td>\n",
       "      <td>0.00</td>\n",
       "      <td>2018-10-27</td>\n",
       "      <td>1499</td>\n",
       "      <td>10</td>\n",
       "    </tr>\n",
       "    <tr>\n",
       "      <td>149394</td>\n",
       "      <td>1499_155</td>\n",
       "      <td>1246.32</td>\n",
       "      <td>2018-11-26</td>\n",
       "      <td>1499</td>\n",
       "      <td>11</td>\n",
       "    </tr>\n",
       "    <tr>\n",
       "      <td>149395</td>\n",
       "      <td>1499_156</td>\n",
       "      <td>544.37</td>\n",
       "      <td>2018-10-26</td>\n",
       "      <td>1499</td>\n",
       "      <td>10</td>\n",
       "    </tr>\n",
       "  </tbody>\n",
       "</table>\n",
       "<p>149396 rows × 5 columns</p>\n",
       "</div>"
      ],
      "text/plain": [
       "              id  mb_used session_date  user_id  month\n",
       "0         1000_0   112.95   2018-11-25     1000     11\n",
       "1         1000_1  1052.81   2018-09-07     1000      9\n",
       "2         1000_2  1197.26   2018-06-25     1000      6\n",
       "3         1000_3   550.27   2018-08-22     1000      8\n",
       "4         1000_4   302.56   2018-09-24     1000      9\n",
       "...          ...      ...          ...      ...    ...\n",
       "149391  1499_152   318.90   2018-10-03     1499     10\n",
       "149392  1499_153   490.13   2018-12-14     1499     12\n",
       "149393  1499_154     0.00   2018-10-27     1499     10\n",
       "149394  1499_155  1246.32   2018-11-26     1499     11\n",
       "149395  1499_156   544.37   2018-10-26     1499     10\n",
       "\n",
       "[149396 rows x 5 columns]"
      ]
     },
     "execution_count": 37,
     "metadata": {},
     "output_type": "execute_result"
    }
   ],
   "source": [
    "internet['month'] = internet['session_date'].apply(lambda session_date: session_date.month)\n",
    "internet"
   ]
  },
  {
   "cell_type": "code",
   "execution_count": 38,
   "metadata": {},
   "outputs": [],
   "source": [
    "internet_by_month = internet.pivot_table(\n",
    "    index = ['user_id','month'], values = 'mb_used', aggfunc = 'sum'\n",
    ")"
   ]
  },
  {
   "cell_type": "code",
   "execution_count": 39,
   "metadata": {},
   "outputs": [],
   "source": [
    "internet_by_month.columns = ['internet_used']"
   ]
  },
  {
   "cell_type": "code",
   "execution_count": 40,
   "metadata": {},
   "outputs": [
    {
     "data": {
      "text/html": [
       "<div>\n",
       "<style scoped>\n",
       "    .dataframe tbody tr th:only-of-type {\n",
       "        vertical-align: middle;\n",
       "    }\n",
       "\n",
       "    .dataframe tbody tr th {\n",
       "        vertical-align: top;\n",
       "    }\n",
       "\n",
       "    .dataframe thead th {\n",
       "        text-align: right;\n",
       "    }\n",
       "</style>\n",
       "<table border=\"1\" class=\"dataframe\">\n",
       "  <thead>\n",
       "    <tr style=\"text-align: right;\">\n",
       "      <th></th>\n",
       "      <th></th>\n",
       "      <th>internet_used</th>\n",
       "    </tr>\n",
       "    <tr>\n",
       "      <th>user_id</th>\n",
       "      <th>month</th>\n",
       "      <th></th>\n",
       "    </tr>\n",
       "  </thead>\n",
       "  <tbody>\n",
       "    <tr>\n",
       "      <td rowspan=\"5\" valign=\"top\">1000</td>\n",
       "      <td>5</td>\n",
       "      <td>2253.49</td>\n",
       "    </tr>\n",
       "    <tr>\n",
       "      <td>6</td>\n",
       "      <td>23233.77</td>\n",
       "    </tr>\n",
       "    <tr>\n",
       "      <td>7</td>\n",
       "      <td>14003.64</td>\n",
       "    </tr>\n",
       "    <tr>\n",
       "      <td>8</td>\n",
       "      <td>14055.93</td>\n",
       "    </tr>\n",
       "    <tr>\n",
       "      <td>9</td>\n",
       "      <td>14568.91</td>\n",
       "    </tr>\n",
       "    <tr>\n",
       "      <td>...</td>\n",
       "      <td>...</td>\n",
       "      <td>...</td>\n",
       "    </tr>\n",
       "    <tr>\n",
       "      <td>1498</td>\n",
       "      <td>10</td>\n",
       "      <td>20579.36</td>\n",
       "    </tr>\n",
       "    <tr>\n",
       "      <td rowspan=\"4\" valign=\"top\">1499</td>\n",
       "      <td>9</td>\n",
       "      <td>1845.75</td>\n",
       "    </tr>\n",
       "    <tr>\n",
       "      <td>10</td>\n",
       "      <td>17788.51</td>\n",
       "    </tr>\n",
       "    <tr>\n",
       "      <td>11</td>\n",
       "      <td>17963.31</td>\n",
       "    </tr>\n",
       "    <tr>\n",
       "      <td>12</td>\n",
       "      <td>13055.58</td>\n",
       "    </tr>\n",
       "  </tbody>\n",
       "</table>\n",
       "<p>3203 rows × 1 columns</p>\n",
       "</div>"
      ],
      "text/plain": [
       "               internet_used\n",
       "user_id month               \n",
       "1000    5            2253.49\n",
       "        6           23233.77\n",
       "        7           14003.64\n",
       "        8           14055.93\n",
       "        9           14568.91\n",
       "...                      ...\n",
       "1498    10          20579.36\n",
       "1499    9            1845.75\n",
       "        10          17788.51\n",
       "        11          17963.31\n",
       "        12          13055.58\n",
       "\n",
       "[3203 rows x 1 columns]"
      ]
     },
     "execution_count": 40,
     "metadata": {},
     "output_type": "execute_result"
    }
   ],
   "source": [
    "internet_by_month"
   ]
  },
  {
   "cell_type": "code",
   "execution_count": 41,
   "metadata": {},
   "outputs": [],
   "source": [
    "internet_by_month['internet_used'] = internet_by_month['internet_used'].apply(\n",
    "    lambda internet_used: math.ceil(internet_used / 1024)\n",
    ")"
   ]
  },
  {
   "cell_type": "code",
   "execution_count": 42,
   "metadata": {},
   "outputs": [
    {
     "data": {
      "text/html": [
       "<div>\n",
       "<style scoped>\n",
       "    .dataframe tbody tr th:only-of-type {\n",
       "        vertical-align: middle;\n",
       "    }\n",
       "\n",
       "    .dataframe tbody tr th {\n",
       "        vertical-align: top;\n",
       "    }\n",
       "\n",
       "    .dataframe thead th {\n",
       "        text-align: right;\n",
       "    }\n",
       "</style>\n",
       "<table border=\"1\" class=\"dataframe\">\n",
       "  <thead>\n",
       "    <tr style=\"text-align: right;\">\n",
       "      <th></th>\n",
       "      <th></th>\n",
       "      <th>internet_used</th>\n",
       "    </tr>\n",
       "    <tr>\n",
       "      <th>user_id</th>\n",
       "      <th>month</th>\n",
       "      <th></th>\n",
       "    </tr>\n",
       "  </thead>\n",
       "  <tbody>\n",
       "    <tr>\n",
       "      <td rowspan=\"5\" valign=\"top\">1000</td>\n",
       "      <td>5</td>\n",
       "      <td>3</td>\n",
       "    </tr>\n",
       "    <tr>\n",
       "      <td>6</td>\n",
       "      <td>23</td>\n",
       "    </tr>\n",
       "    <tr>\n",
       "      <td>7</td>\n",
       "      <td>14</td>\n",
       "    </tr>\n",
       "    <tr>\n",
       "      <td>8</td>\n",
       "      <td>14</td>\n",
       "    </tr>\n",
       "    <tr>\n",
       "      <td>9</td>\n",
       "      <td>15</td>\n",
       "    </tr>\n",
       "    <tr>\n",
       "      <td>...</td>\n",
       "      <td>...</td>\n",
       "      <td>...</td>\n",
       "    </tr>\n",
       "    <tr>\n",
       "      <td>1498</td>\n",
       "      <td>10</td>\n",
       "      <td>21</td>\n",
       "    </tr>\n",
       "    <tr>\n",
       "      <td rowspan=\"4\" valign=\"top\">1499</td>\n",
       "      <td>9</td>\n",
       "      <td>2</td>\n",
       "    </tr>\n",
       "    <tr>\n",
       "      <td>10</td>\n",
       "      <td>18</td>\n",
       "    </tr>\n",
       "    <tr>\n",
       "      <td>11</td>\n",
       "      <td>18</td>\n",
       "    </tr>\n",
       "    <tr>\n",
       "      <td>12</td>\n",
       "      <td>13</td>\n",
       "    </tr>\n",
       "  </tbody>\n",
       "</table>\n",
       "<p>3203 rows × 1 columns</p>\n",
       "</div>"
      ],
      "text/plain": [
       "               internet_used\n",
       "user_id month               \n",
       "1000    5                  3\n",
       "        6                 23\n",
       "        7                 14\n",
       "        8                 14\n",
       "        9                 15\n",
       "...                      ...\n",
       "1498    10                21\n",
       "1499    9                  2\n",
       "        10                18\n",
       "        11                18\n",
       "        12                13\n",
       "\n",
       "[3203 rows x 1 columns]"
      ]
     },
     "execution_count": 42,
     "metadata": {},
     "output_type": "execute_result"
    }
   ],
   "source": [
    "internet_by_month"
   ]
  },
  {
   "cell_type": "code",
   "execution_count": 43,
   "metadata": {},
   "outputs": [
    {
     "data": {
      "text/plain": [
       "internet_used    2\n",
       "dtype: int64"
      ]
     },
     "execution_count": 43,
     "metadata": {},
     "output_type": "execute_result"
    }
   ],
   "source": [
    "internet_by_month.query('internet_used == 0').count()"
   ]
  },
  {
   "cell_type": "markdown",
   "metadata": {},
   "source": [
    "А мы нашли какие-то аномальные значения, хм... если без шуток, оказывается ещё остались люди, которые не пользуются интернетом на своем телефоне."
   ]
  },
  {
   "cell_type": "markdown",
   "metadata": {},
   "source": [
    "Теперь нужно рассчитать помесячную выручку с каждого пользователя. Для этого объединим 3 наши таблицы. В полученной таблице создадим новый столбец, который будет хранить сумму, которую клиент заплатил телекомпании за месяц. Для этого создадим функцию, которая, обращаясь к таблице 'tariffs', будет рассчитывать, сколько клиент заплатил компании."
   ]
  },
  {
   "cell_type": "code",
   "execution_count": 44,
   "metadata": {},
   "outputs": [],
   "source": [
    "#объединяем наши 3 таблицы.\n",
    "stat_users = calls_by_month.join([messages_by_month, internet_by_month], how='outer')"
   ]
  },
  {
   "cell_type": "code",
   "execution_count": 45,
   "metadata": {},
   "outputs": [
    {
     "data": {
      "text/plain": [
       "count_calls        46\n",
       "total_minutes      46\n",
       "total_messages    497\n",
       "internet_used      11\n",
       "dtype: int64"
      ]
     },
     "execution_count": 45,
     "metadata": {},
     "output_type": "execute_result"
    }
   ],
   "source": [
    "#проверим, появились ли пропуски\n",
    "stat_users.isna().sum()"
   ]
  },
  {
   "cell_type": "code",
   "execution_count": 46,
   "metadata": {},
   "outputs": [],
   "source": [
    "# пропуски говорят нам о том - что клиент не использовал тот или иной вид связи\n",
    "# так что заполняем их нулями\n",
    "stat_users = stat_users.fillna(0)"
   ]
  },
  {
   "cell_type": "code",
   "execution_count": 47,
   "metadata": {},
   "outputs": [],
   "source": [
    "stat_users = stat_users.reset_index()"
   ]
  },
  {
   "cell_type": "code",
   "execution_count": 48,
   "metadata": {},
   "outputs": [
    {
     "data": {
      "text/html": [
       "<div>\n",
       "<style scoped>\n",
       "    .dataframe tbody tr th:only-of-type {\n",
       "        vertical-align: middle;\n",
       "    }\n",
       "\n",
       "    .dataframe tbody tr th {\n",
       "        vertical-align: top;\n",
       "    }\n",
       "\n",
       "    .dataframe thead th {\n",
       "        text-align: right;\n",
       "    }\n",
       "</style>\n",
       "<table border=\"1\" class=\"dataframe\">\n",
       "  <thead>\n",
       "    <tr style=\"text-align: right;\">\n",
       "      <th></th>\n",
       "      <th>user_id</th>\n",
       "      <th>month</th>\n",
       "      <th>count_calls</th>\n",
       "      <th>total_minutes</th>\n",
       "      <th>total_messages</th>\n",
       "      <th>internet_used</th>\n",
       "    </tr>\n",
       "  </thead>\n",
       "  <tbody>\n",
       "    <tr>\n",
       "      <td>0</td>\n",
       "      <td>1000</td>\n",
       "      <td>5</td>\n",
       "      <td>17.0</td>\n",
       "      <td>159.0</td>\n",
       "      <td>22.0</td>\n",
       "      <td>3.0</td>\n",
       "    </tr>\n",
       "    <tr>\n",
       "      <td>1</td>\n",
       "      <td>1000</td>\n",
       "      <td>6</td>\n",
       "      <td>28.0</td>\n",
       "      <td>172.0</td>\n",
       "      <td>60.0</td>\n",
       "      <td>23.0</td>\n",
       "    </tr>\n",
       "    <tr>\n",
       "      <td>2</td>\n",
       "      <td>1000</td>\n",
       "      <td>7</td>\n",
       "      <td>41.0</td>\n",
       "      <td>340.0</td>\n",
       "      <td>75.0</td>\n",
       "      <td>14.0</td>\n",
       "    </tr>\n",
       "    <tr>\n",
       "      <td>3</td>\n",
       "      <td>1000</td>\n",
       "      <td>8</td>\n",
       "      <td>42.0</td>\n",
       "      <td>408.0</td>\n",
       "      <td>81.0</td>\n",
       "      <td>14.0</td>\n",
       "    </tr>\n",
       "    <tr>\n",
       "      <td>4</td>\n",
       "      <td>1000</td>\n",
       "      <td>9</td>\n",
       "      <td>46.0</td>\n",
       "      <td>466.0</td>\n",
       "      <td>57.0</td>\n",
       "      <td>15.0</td>\n",
       "    </tr>\n",
       "    <tr>\n",
       "      <td>5</td>\n",
       "      <td>1000</td>\n",
       "      <td>10</td>\n",
       "      <td>44.0</td>\n",
       "      <td>350.0</td>\n",
       "      <td>73.0</td>\n",
       "      <td>15.0</td>\n",
       "    </tr>\n",
       "    <tr>\n",
       "      <td>6</td>\n",
       "      <td>1000</td>\n",
       "      <td>11</td>\n",
       "      <td>37.0</td>\n",
       "      <td>338.0</td>\n",
       "      <td>58.0</td>\n",
       "      <td>15.0</td>\n",
       "    </tr>\n",
       "    <tr>\n",
       "      <td>7</td>\n",
       "      <td>1000</td>\n",
       "      <td>12</td>\n",
       "      <td>38.0</td>\n",
       "      <td>333.0</td>\n",
       "      <td>70.0</td>\n",
       "      <td>10.0</td>\n",
       "    </tr>\n",
       "    <tr>\n",
       "      <td>8</td>\n",
       "      <td>1001</td>\n",
       "      <td>11</td>\n",
       "      <td>45.0</td>\n",
       "      <td>430.0</td>\n",
       "      <td>0.0</td>\n",
       "      <td>18.0</td>\n",
       "    </tr>\n",
       "    <tr>\n",
       "      <td>9</td>\n",
       "      <td>1001</td>\n",
       "      <td>12</td>\n",
       "      <td>47.0</td>\n",
       "      <td>414.0</td>\n",
       "      <td>0.0</td>\n",
       "      <td>14.0</td>\n",
       "    </tr>\n",
       "  </tbody>\n",
       "</table>\n",
       "</div>"
      ],
      "text/plain": [
       "   user_id  month  count_calls  total_minutes  total_messages  internet_used\n",
       "0     1000      5         17.0          159.0            22.0            3.0\n",
       "1     1000      6         28.0          172.0            60.0           23.0\n",
       "2     1000      7         41.0          340.0            75.0           14.0\n",
       "3     1000      8         42.0          408.0            81.0           14.0\n",
       "4     1000      9         46.0          466.0            57.0           15.0\n",
       "5     1000     10         44.0          350.0            73.0           15.0\n",
       "6     1000     11         37.0          338.0            58.0           15.0\n",
       "7     1000     12         38.0          333.0            70.0           10.0\n",
       "8     1001     11         45.0          430.0             0.0           18.0\n",
       "9     1001     12         47.0          414.0             0.0           14.0"
      ]
     },
     "execution_count": 48,
     "metadata": {},
     "output_type": "execute_result"
    }
   ],
   "source": [
    "#посмотрим на нашу таблицу\n",
    "stat_users.head(10)"
   ]
  },
  {
   "cell_type": "markdown",
   "metadata": {},
   "source": [
    "Можно заметить, что некоторые данные у нас с плавающей запятой, но нам это не нужно. Давайте переопределим их в целочисленный тип."
   ]
  },
  {
   "cell_type": "code",
   "execution_count": 49,
   "metadata": {},
   "outputs": [],
   "source": [
    "columns = ['count_calls', 'total_minutes', 'total_messages', 'internet_used']\n",
    "for column in columns:\n",
    "    stat_users[column] = stat_users[column].astype('int')"
   ]
  },
  {
   "cell_type": "code",
   "execution_count": 50,
   "metadata": {},
   "outputs": [
    {
     "data": {
      "text/html": [
       "<div>\n",
       "<style scoped>\n",
       "    .dataframe tbody tr th:only-of-type {\n",
       "        vertical-align: middle;\n",
       "    }\n",
       "\n",
       "    .dataframe tbody tr th {\n",
       "        vertical-align: top;\n",
       "    }\n",
       "\n",
       "    .dataframe thead th {\n",
       "        text-align: right;\n",
       "    }\n",
       "</style>\n",
       "<table border=\"1\" class=\"dataframe\">\n",
       "  <thead>\n",
       "    <tr style=\"text-align: right;\">\n",
       "      <th></th>\n",
       "      <th>user_id</th>\n",
       "      <th>month</th>\n",
       "      <th>count_calls</th>\n",
       "      <th>total_minutes</th>\n",
       "      <th>total_messages</th>\n",
       "      <th>internet_used</th>\n",
       "    </tr>\n",
       "  </thead>\n",
       "  <tbody>\n",
       "    <tr>\n",
       "      <td>0</td>\n",
       "      <td>1000</td>\n",
       "      <td>5</td>\n",
       "      <td>17</td>\n",
       "      <td>159</td>\n",
       "      <td>22</td>\n",
       "      <td>3</td>\n",
       "    </tr>\n",
       "    <tr>\n",
       "      <td>1</td>\n",
       "      <td>1000</td>\n",
       "      <td>6</td>\n",
       "      <td>28</td>\n",
       "      <td>172</td>\n",
       "      <td>60</td>\n",
       "      <td>23</td>\n",
       "    </tr>\n",
       "    <tr>\n",
       "      <td>2</td>\n",
       "      <td>1000</td>\n",
       "      <td>7</td>\n",
       "      <td>41</td>\n",
       "      <td>340</td>\n",
       "      <td>75</td>\n",
       "      <td>14</td>\n",
       "    </tr>\n",
       "    <tr>\n",
       "      <td>3</td>\n",
       "      <td>1000</td>\n",
       "      <td>8</td>\n",
       "      <td>42</td>\n",
       "      <td>408</td>\n",
       "      <td>81</td>\n",
       "      <td>14</td>\n",
       "    </tr>\n",
       "    <tr>\n",
       "      <td>4</td>\n",
       "      <td>1000</td>\n",
       "      <td>9</td>\n",
       "      <td>46</td>\n",
       "      <td>466</td>\n",
       "      <td>57</td>\n",
       "      <td>15</td>\n",
       "    </tr>\n",
       "    <tr>\n",
       "      <td>5</td>\n",
       "      <td>1000</td>\n",
       "      <td>10</td>\n",
       "      <td>44</td>\n",
       "      <td>350</td>\n",
       "      <td>73</td>\n",
       "      <td>15</td>\n",
       "    </tr>\n",
       "    <tr>\n",
       "      <td>6</td>\n",
       "      <td>1000</td>\n",
       "      <td>11</td>\n",
       "      <td>37</td>\n",
       "      <td>338</td>\n",
       "      <td>58</td>\n",
       "      <td>15</td>\n",
       "    </tr>\n",
       "    <tr>\n",
       "      <td>7</td>\n",
       "      <td>1000</td>\n",
       "      <td>12</td>\n",
       "      <td>38</td>\n",
       "      <td>333</td>\n",
       "      <td>70</td>\n",
       "      <td>10</td>\n",
       "    </tr>\n",
       "    <tr>\n",
       "      <td>8</td>\n",
       "      <td>1001</td>\n",
       "      <td>11</td>\n",
       "      <td>45</td>\n",
       "      <td>430</td>\n",
       "      <td>0</td>\n",
       "      <td>18</td>\n",
       "    </tr>\n",
       "    <tr>\n",
       "      <td>9</td>\n",
       "      <td>1001</td>\n",
       "      <td>12</td>\n",
       "      <td>47</td>\n",
       "      <td>414</td>\n",
       "      <td>0</td>\n",
       "      <td>14</td>\n",
       "    </tr>\n",
       "  </tbody>\n",
       "</table>\n",
       "</div>"
      ],
      "text/plain": [
       "   user_id  month  count_calls  total_minutes  total_messages  internet_used\n",
       "0     1000      5           17            159              22              3\n",
       "1     1000      6           28            172              60             23\n",
       "2     1000      7           41            340              75             14\n",
       "3     1000      8           42            408              81             14\n",
       "4     1000      9           46            466              57             15\n",
       "5     1000     10           44            350              73             15\n",
       "6     1000     11           37            338              58             15\n",
       "7     1000     12           38            333              70             10\n",
       "8     1001     11           45            430               0             18\n",
       "9     1001     12           47            414               0             14"
      ]
     },
     "execution_count": 50,
     "metadata": {},
     "output_type": "execute_result"
    }
   ],
   "source": [
    "stat_users.head(10)"
   ]
  },
  {
   "cell_type": "markdown",
   "metadata": {},
   "source": [
    "Для дальнейших расчетов добавим новый столбец 'tariff' и столбец 'churn_date' в нашу таблицу."
   ]
  },
  {
   "cell_type": "code",
   "execution_count": 51,
   "metadata": {},
   "outputs": [
    {
     "data": {
      "text/html": [
       "<div>\n",
       "<style scoped>\n",
       "    .dataframe tbody tr th:only-of-type {\n",
       "        vertical-align: middle;\n",
       "    }\n",
       "\n",
       "    .dataframe tbody tr th {\n",
       "        vertical-align: top;\n",
       "    }\n",
       "\n",
       "    .dataframe thead th {\n",
       "        text-align: right;\n",
       "    }\n",
       "</style>\n",
       "<table border=\"1\" class=\"dataframe\">\n",
       "  <thead>\n",
       "    <tr style=\"text-align: right;\">\n",
       "      <th></th>\n",
       "      <th>user_id</th>\n",
       "      <th>tariff</th>\n",
       "      <th>churn_date</th>\n",
       "    </tr>\n",
       "  </thead>\n",
       "  <tbody>\n",
       "    <tr>\n",
       "      <td>0</td>\n",
       "      <td>1000</td>\n",
       "      <td>ultra</td>\n",
       "      <td>2019-01-01</td>\n",
       "    </tr>\n",
       "    <tr>\n",
       "      <td>1</td>\n",
       "      <td>1001</td>\n",
       "      <td>smart</td>\n",
       "      <td>2019-01-01</td>\n",
       "    </tr>\n",
       "    <tr>\n",
       "      <td>2</td>\n",
       "      <td>1002</td>\n",
       "      <td>smart</td>\n",
       "      <td>2019-01-01</td>\n",
       "    </tr>\n",
       "    <tr>\n",
       "      <td>3</td>\n",
       "      <td>1003</td>\n",
       "      <td>ultra</td>\n",
       "      <td>2019-01-01</td>\n",
       "    </tr>\n",
       "    <tr>\n",
       "      <td>4</td>\n",
       "      <td>1004</td>\n",
       "      <td>ultra</td>\n",
       "      <td>2019-01-01</td>\n",
       "    </tr>\n",
       "    <tr>\n",
       "      <td>...</td>\n",
       "      <td>...</td>\n",
       "      <td>...</td>\n",
       "      <td>...</td>\n",
       "    </tr>\n",
       "    <tr>\n",
       "      <td>495</td>\n",
       "      <td>1495</td>\n",
       "      <td>ultra</td>\n",
       "      <td>2019-01-01</td>\n",
       "    </tr>\n",
       "    <tr>\n",
       "      <td>496</td>\n",
       "      <td>1496</td>\n",
       "      <td>smart</td>\n",
       "      <td>2019-01-01</td>\n",
       "    </tr>\n",
       "    <tr>\n",
       "      <td>497</td>\n",
       "      <td>1497</td>\n",
       "      <td>smart</td>\n",
       "      <td>2019-01-01</td>\n",
       "    </tr>\n",
       "    <tr>\n",
       "      <td>498</td>\n",
       "      <td>1498</td>\n",
       "      <td>smart</td>\n",
       "      <td>2018-10-25</td>\n",
       "    </tr>\n",
       "    <tr>\n",
       "      <td>499</td>\n",
       "      <td>1499</td>\n",
       "      <td>smart</td>\n",
       "      <td>2019-01-01</td>\n",
       "    </tr>\n",
       "  </tbody>\n",
       "</table>\n",
       "<p>500 rows × 3 columns</p>\n",
       "</div>"
      ],
      "text/plain": [
       "     user_id tariff churn_date\n",
       "0       1000  ultra 2019-01-01\n",
       "1       1001  smart 2019-01-01\n",
       "2       1002  smart 2019-01-01\n",
       "3       1003  ultra 2019-01-01\n",
       "4       1004  ultra 2019-01-01\n",
       "..       ...    ...        ...\n",
       "495     1495  ultra 2019-01-01\n",
       "496     1496  smart 2019-01-01\n",
       "497     1497  smart 2019-01-01\n",
       "498     1498  smart 2018-10-25\n",
       "499     1499  smart 2019-01-01\n",
       "\n",
       "[500 rows x 3 columns]"
      ]
     },
     "execution_count": 51,
     "metadata": {},
     "output_type": "execute_result"
    }
   ],
   "source": [
    "users_tariffs = users['user_id'].to_frame()\n",
    "users_tariffs['tariff'] = users['tariff']\n",
    "users_tariffs['churn_date'] = users['churn_date']\n",
    "users_tariffs"
   ]
  },
  {
   "cell_type": "code",
   "execution_count": 52,
   "metadata": {},
   "outputs": [
    {
     "data": {
      "text/html": [
       "<div>\n",
       "<style scoped>\n",
       "    .dataframe tbody tr th:only-of-type {\n",
       "        vertical-align: middle;\n",
       "    }\n",
       "\n",
       "    .dataframe tbody tr th {\n",
       "        vertical-align: top;\n",
       "    }\n",
       "\n",
       "    .dataframe thead th {\n",
       "        text-align: right;\n",
       "    }\n",
       "</style>\n",
       "<table border=\"1\" class=\"dataframe\">\n",
       "  <thead>\n",
       "    <tr style=\"text-align: right;\">\n",
       "      <th></th>\n",
       "      <th>user_id</th>\n",
       "      <th>month</th>\n",
       "      <th>count_calls</th>\n",
       "      <th>total_minutes</th>\n",
       "      <th>total_messages</th>\n",
       "      <th>internet_used</th>\n",
       "      <th>tariff</th>\n",
       "      <th>churn_date</th>\n",
       "    </tr>\n",
       "  </thead>\n",
       "  <tbody>\n",
       "    <tr>\n",
       "      <td>0</td>\n",
       "      <td>1000</td>\n",
       "      <td>5</td>\n",
       "      <td>17</td>\n",
       "      <td>159</td>\n",
       "      <td>22</td>\n",
       "      <td>3</td>\n",
       "      <td>ultra</td>\n",
       "      <td>2019-01-01</td>\n",
       "    </tr>\n",
       "    <tr>\n",
       "      <td>1</td>\n",
       "      <td>1000</td>\n",
       "      <td>6</td>\n",
       "      <td>28</td>\n",
       "      <td>172</td>\n",
       "      <td>60</td>\n",
       "      <td>23</td>\n",
       "      <td>ultra</td>\n",
       "      <td>2019-01-01</td>\n",
       "    </tr>\n",
       "    <tr>\n",
       "      <td>2</td>\n",
       "      <td>1000</td>\n",
       "      <td>7</td>\n",
       "      <td>41</td>\n",
       "      <td>340</td>\n",
       "      <td>75</td>\n",
       "      <td>14</td>\n",
       "      <td>ultra</td>\n",
       "      <td>2019-01-01</td>\n",
       "    </tr>\n",
       "    <tr>\n",
       "      <td>3</td>\n",
       "      <td>1000</td>\n",
       "      <td>8</td>\n",
       "      <td>42</td>\n",
       "      <td>408</td>\n",
       "      <td>81</td>\n",
       "      <td>14</td>\n",
       "      <td>ultra</td>\n",
       "      <td>2019-01-01</td>\n",
       "    </tr>\n",
       "    <tr>\n",
       "      <td>4</td>\n",
       "      <td>1000</td>\n",
       "      <td>9</td>\n",
       "      <td>46</td>\n",
       "      <td>466</td>\n",
       "      <td>57</td>\n",
       "      <td>15</td>\n",
       "      <td>ultra</td>\n",
       "      <td>2019-01-01</td>\n",
       "    </tr>\n",
       "    <tr>\n",
       "      <td>...</td>\n",
       "      <td>...</td>\n",
       "      <td>...</td>\n",
       "      <td>...</td>\n",
       "      <td>...</td>\n",
       "      <td>...</td>\n",
       "      <td>...</td>\n",
       "      <td>...</td>\n",
       "      <td>...</td>\n",
       "    </tr>\n",
       "    <tr>\n",
       "      <td>3209</td>\n",
       "      <td>1498</td>\n",
       "      <td>10</td>\n",
       "      <td>30</td>\n",
       "      <td>247</td>\n",
       "      <td>42</td>\n",
       "      <td>21</td>\n",
       "      <td>smart</td>\n",
       "      <td>2018-10-25</td>\n",
       "    </tr>\n",
       "    <tr>\n",
       "      <td>3210</td>\n",
       "      <td>1499</td>\n",
       "      <td>9</td>\n",
       "      <td>8</td>\n",
       "      <td>70</td>\n",
       "      <td>11</td>\n",
       "      <td>2</td>\n",
       "      <td>smart</td>\n",
       "      <td>2019-01-01</td>\n",
       "    </tr>\n",
       "    <tr>\n",
       "      <td>3211</td>\n",
       "      <td>1499</td>\n",
       "      <td>10</td>\n",
       "      <td>44</td>\n",
       "      <td>449</td>\n",
       "      <td>48</td>\n",
       "      <td>18</td>\n",
       "      <td>smart</td>\n",
       "      <td>2019-01-01</td>\n",
       "    </tr>\n",
       "    <tr>\n",
       "      <td>3212</td>\n",
       "      <td>1499</td>\n",
       "      <td>11</td>\n",
       "      <td>62</td>\n",
       "      <td>612</td>\n",
       "      <td>59</td>\n",
       "      <td>18</td>\n",
       "      <td>smart</td>\n",
       "      <td>2019-01-01</td>\n",
       "    </tr>\n",
       "    <tr>\n",
       "      <td>3213</td>\n",
       "      <td>1499</td>\n",
       "      <td>12</td>\n",
       "      <td>56</td>\n",
       "      <td>492</td>\n",
       "      <td>66</td>\n",
       "      <td>13</td>\n",
       "      <td>smart</td>\n",
       "      <td>2019-01-01</td>\n",
       "    </tr>\n",
       "  </tbody>\n",
       "</table>\n",
       "<p>3214 rows × 8 columns</p>\n",
       "</div>"
      ],
      "text/plain": [
       "      user_id  month  count_calls  total_minutes  total_messages  \\\n",
       "0        1000      5           17            159              22   \n",
       "1        1000      6           28            172              60   \n",
       "2        1000      7           41            340              75   \n",
       "3        1000      8           42            408              81   \n",
       "4        1000      9           46            466              57   \n",
       "...       ...    ...          ...            ...             ...   \n",
       "3209     1498     10           30            247              42   \n",
       "3210     1499      9            8             70              11   \n",
       "3211     1499     10           44            449              48   \n",
       "3212     1499     11           62            612              59   \n",
       "3213     1499     12           56            492              66   \n",
       "\n",
       "      internet_used tariff churn_date  \n",
       "0                 3  ultra 2019-01-01  \n",
       "1                23  ultra 2019-01-01  \n",
       "2                14  ultra 2019-01-01  \n",
       "3                14  ultra 2019-01-01  \n",
       "4                15  ultra 2019-01-01  \n",
       "...             ...    ...        ...  \n",
       "3209             21  smart 2018-10-25  \n",
       "3210              2  smart 2019-01-01  \n",
       "3211             18  smart 2019-01-01  \n",
       "3212             18  smart 2019-01-01  \n",
       "3213             13  smart 2019-01-01  \n",
       "\n",
       "[3214 rows x 8 columns]"
      ]
     },
     "execution_count": 52,
     "metadata": {},
     "output_type": "execute_result"
    }
   ],
   "source": [
    "stat_users = stat_users.merge(users_tariffs, on = 'user_id')\n",
    "stat_users"
   ]
  },
  {
   "cell_type": "markdown",
   "metadata": {},
   "source": [
    "Так намного лучше. Теперь напишем функцию для расчета месячной выручки с каждого клиента. Сначала будем смотреть, к какому тарифу подключен наш пользователь и добавлять в значение выручки ежемесячную плату. Затем рассчитываем цену за минуты разговора, сообщения и объём интернет-трафика, которые клиент использовал сверх тарифного плана."
   ]
  },
  {
   "cell_type": "code",
   "execution_count": 53,
   "metadata": {},
   "outputs": [],
   "source": [
    "def calculation_of_costs(raw):\n",
    "    total_paid = 0\n",
    "    tariff = raw['tariff']\n",
    "    total_minutes = raw['total_minutes']\n",
    "    total_messages = raw['total_messages']\n",
    "    internet_used = raw['internet_used']\n",
    "    \n",
    "    if tariff == 'ultra':\n",
    "        total_paid += 1950\n",
    "        minutes_included = 3000\n",
    "        rub_per_minute = 1\n",
    "        messages_included = 1000\n",
    "        rub_per_message = 1\n",
    "        mb_per_month_included = 30\n",
    "        rub_per_gb = 150\n",
    "    if tariff == 'smart':\n",
    "        total_paid += 550\n",
    "        minutes_included = 500\n",
    "        rub_per_minute = 3\n",
    "        messages_included = 50\n",
    "        rub_per_message = 3\n",
    "        mb_per_month_included = 15\n",
    "        rub_per_gb = 200      \n",
    "        \n",
    "    if total_minutes > minutes_included:\n",
    "        total_paid += (total_minutes - minutes_included) * rub_per_minute\n",
    "    if total_messages > messages_included:\n",
    "        total_paid += (total_messages - messages_included) * rub_per_message\n",
    "    if internet_used > mb_per_month_included:\n",
    "        total_paid += (internet_used - mb_per_month_included) * rub_per_gb\n",
    "    return total_paid"
   ]
  },
  {
   "cell_type": "code",
   "execution_count": 54,
   "metadata": {},
   "outputs": [],
   "source": [
    "stat_users['total_costs'] = stat_users.apply(calculation_of_costs, axis = 1)"
   ]
  },
  {
   "cell_type": "code",
   "execution_count": 55,
   "metadata": {},
   "outputs": [
    {
     "data": {
      "text/html": [
       "<div>\n",
       "<style scoped>\n",
       "    .dataframe tbody tr th:only-of-type {\n",
       "        vertical-align: middle;\n",
       "    }\n",
       "\n",
       "    .dataframe tbody tr th {\n",
       "        vertical-align: top;\n",
       "    }\n",
       "\n",
       "    .dataframe thead th {\n",
       "        text-align: right;\n",
       "    }\n",
       "</style>\n",
       "<table border=\"1\" class=\"dataframe\">\n",
       "  <thead>\n",
       "    <tr style=\"text-align: right;\">\n",
       "      <th></th>\n",
       "      <th>user_id</th>\n",
       "      <th>month</th>\n",
       "      <th>count_calls</th>\n",
       "      <th>total_minutes</th>\n",
       "      <th>total_messages</th>\n",
       "      <th>internet_used</th>\n",
       "      <th>tariff</th>\n",
       "      <th>churn_date</th>\n",
       "      <th>total_costs</th>\n",
       "    </tr>\n",
       "  </thead>\n",
       "  <tbody>\n",
       "    <tr>\n",
       "      <td>0</td>\n",
       "      <td>1000</td>\n",
       "      <td>5</td>\n",
       "      <td>17</td>\n",
       "      <td>159</td>\n",
       "      <td>22</td>\n",
       "      <td>3</td>\n",
       "      <td>ultra</td>\n",
       "      <td>2019-01-01</td>\n",
       "      <td>1950</td>\n",
       "    </tr>\n",
       "    <tr>\n",
       "      <td>1</td>\n",
       "      <td>1000</td>\n",
       "      <td>6</td>\n",
       "      <td>28</td>\n",
       "      <td>172</td>\n",
       "      <td>60</td>\n",
       "      <td>23</td>\n",
       "      <td>ultra</td>\n",
       "      <td>2019-01-01</td>\n",
       "      <td>1950</td>\n",
       "    </tr>\n",
       "    <tr>\n",
       "      <td>2</td>\n",
       "      <td>1000</td>\n",
       "      <td>7</td>\n",
       "      <td>41</td>\n",
       "      <td>340</td>\n",
       "      <td>75</td>\n",
       "      <td>14</td>\n",
       "      <td>ultra</td>\n",
       "      <td>2019-01-01</td>\n",
       "      <td>1950</td>\n",
       "    </tr>\n",
       "    <tr>\n",
       "      <td>3</td>\n",
       "      <td>1000</td>\n",
       "      <td>8</td>\n",
       "      <td>42</td>\n",
       "      <td>408</td>\n",
       "      <td>81</td>\n",
       "      <td>14</td>\n",
       "      <td>ultra</td>\n",
       "      <td>2019-01-01</td>\n",
       "      <td>1950</td>\n",
       "    </tr>\n",
       "    <tr>\n",
       "      <td>4</td>\n",
       "      <td>1000</td>\n",
       "      <td>9</td>\n",
       "      <td>46</td>\n",
       "      <td>466</td>\n",
       "      <td>57</td>\n",
       "      <td>15</td>\n",
       "      <td>ultra</td>\n",
       "      <td>2019-01-01</td>\n",
       "      <td>1950</td>\n",
       "    </tr>\n",
       "    <tr>\n",
       "      <td>...</td>\n",
       "      <td>...</td>\n",
       "      <td>...</td>\n",
       "      <td>...</td>\n",
       "      <td>...</td>\n",
       "      <td>...</td>\n",
       "      <td>...</td>\n",
       "      <td>...</td>\n",
       "      <td>...</td>\n",
       "      <td>...</td>\n",
       "    </tr>\n",
       "    <tr>\n",
       "      <td>3209</td>\n",
       "      <td>1498</td>\n",
       "      <td>10</td>\n",
       "      <td>30</td>\n",
       "      <td>247</td>\n",
       "      <td>42</td>\n",
       "      <td>21</td>\n",
       "      <td>smart</td>\n",
       "      <td>2018-10-25</td>\n",
       "      <td>1750</td>\n",
       "    </tr>\n",
       "    <tr>\n",
       "      <td>3210</td>\n",
       "      <td>1499</td>\n",
       "      <td>9</td>\n",
       "      <td>8</td>\n",
       "      <td>70</td>\n",
       "      <td>11</td>\n",
       "      <td>2</td>\n",
       "      <td>smart</td>\n",
       "      <td>2019-01-01</td>\n",
       "      <td>550</td>\n",
       "    </tr>\n",
       "    <tr>\n",
       "      <td>3211</td>\n",
       "      <td>1499</td>\n",
       "      <td>10</td>\n",
       "      <td>44</td>\n",
       "      <td>449</td>\n",
       "      <td>48</td>\n",
       "      <td>18</td>\n",
       "      <td>smart</td>\n",
       "      <td>2019-01-01</td>\n",
       "      <td>1150</td>\n",
       "    </tr>\n",
       "    <tr>\n",
       "      <td>3212</td>\n",
       "      <td>1499</td>\n",
       "      <td>11</td>\n",
       "      <td>62</td>\n",
       "      <td>612</td>\n",
       "      <td>59</td>\n",
       "      <td>18</td>\n",
       "      <td>smart</td>\n",
       "      <td>2019-01-01</td>\n",
       "      <td>1513</td>\n",
       "    </tr>\n",
       "    <tr>\n",
       "      <td>3213</td>\n",
       "      <td>1499</td>\n",
       "      <td>12</td>\n",
       "      <td>56</td>\n",
       "      <td>492</td>\n",
       "      <td>66</td>\n",
       "      <td>13</td>\n",
       "      <td>smart</td>\n",
       "      <td>2019-01-01</td>\n",
       "      <td>598</td>\n",
       "    </tr>\n",
       "  </tbody>\n",
       "</table>\n",
       "<p>3214 rows × 9 columns</p>\n",
       "</div>"
      ],
      "text/plain": [
       "      user_id  month  count_calls  total_minutes  total_messages  \\\n",
       "0        1000      5           17            159              22   \n",
       "1        1000      6           28            172              60   \n",
       "2        1000      7           41            340              75   \n",
       "3        1000      8           42            408              81   \n",
       "4        1000      9           46            466              57   \n",
       "...       ...    ...          ...            ...             ...   \n",
       "3209     1498     10           30            247              42   \n",
       "3210     1499      9            8             70              11   \n",
       "3211     1499     10           44            449              48   \n",
       "3212     1499     11           62            612              59   \n",
       "3213     1499     12           56            492              66   \n",
       "\n",
       "      internet_used tariff churn_date  total_costs  \n",
       "0                 3  ultra 2019-01-01         1950  \n",
       "1                23  ultra 2019-01-01         1950  \n",
       "2                14  ultra 2019-01-01         1950  \n",
       "3                14  ultra 2019-01-01         1950  \n",
       "4                15  ultra 2019-01-01         1950  \n",
       "...             ...    ...        ...          ...  \n",
       "3209             21  smart 2018-10-25         1750  \n",
       "3210              2  smart 2019-01-01          550  \n",
       "3211             18  smart 2019-01-01         1150  \n",
       "3212             18  smart 2019-01-01         1513  \n",
       "3213             13  smart 2019-01-01          598  \n",
       "\n",
       "[3214 rows x 9 columns]"
      ]
     },
     "execution_count": 55,
     "metadata": {},
     "output_type": "execute_result"
    }
   ],
   "source": [
    "stat_users"
   ]
  },
  {
   "cell_type": "markdown",
   "metadata": {},
   "source": [
    "Сделано! Теперь у нас есть таблица, где по месяцам для каждого клиента хранится информация о израсходованных минутах, сообщений и интернет-трафике и рассчитано выручку, которую заработала компания 'Мегалайн' с этого клиента."
   ]
  },
  {
   "cell_type": "markdown",
   "metadata": {},
   "source": [
    "### Вывод\n",
    "\n",
    "Мы подготовили наши данные к анализу. Совершили предобработку данных. Затем мы создали новую таблицу с данными, которые необходимы для дальнейшего анализа. В этой таблице хранятся данные о расходах по тарифному плану каждого клиента по месяцам и посчитана ежемесячная выручка телекомпании. С подготовкой данных мы разобрались, переходим к анализу."
   ]
  },
  {
   "cell_type": "markdown",
   "metadata": {},
   "source": [
    "## Анализ данных"
   ]
  },
  {
   "cell_type": "markdown",
   "metadata": {},
   "source": [
    "В этой части работы нам нужно описать поведение клиентов оператора, исходя из выборки. Сколько минут разговора, сколько сообщений и какой объём интернет-трафика требуется пользователям каждого тарифа в месяц?\n",
    "Посчитаем среднее количество, дисперсию и стандартное отклонение. Построим гистограммы. Опишем распределения."
   ]
  },
  {
   "cell_type": "markdown",
   "metadata": {},
   "source": [
    "Посчитаем среднее количество, дисперсию и стандартное отклонение. Для каждого из наших значений. Затем построим гистограммы распределения."
   ]
  },
  {
   "cell_type": "markdown",
   "metadata": {},
   "source": [
    "Для начала рассчитаем среднюю месечную оплату пользователей разных тарифов. И общую выручку с каждого тарифа."
   ]
  },
  {
   "cell_type": "code",
   "execution_count": 56,
   "metadata": {},
   "outputs": [
    {
     "name": "stdout",
     "output_type": "stream",
     "text": [
      "Средние затраты в месяц пользователей тарифа \"ultra\": 2070.1522842639592\n",
      "Общая выручка с пользователей тарифа \"ultra\": 2039100\n"
     ]
    }
   ],
   "source": [
    "print('Средние затраты в месяц пользователей тарифа \"ultra\":',stat_users.query('tariff == \"ultra\"')['total_costs'].mean())\n",
    "print('Общая выручка с пользователей тарифа \"ultra\":',stat_users.query('tariff == \"ultra\"')['total_costs'].sum())"
   ]
  },
  {
   "cell_type": "code",
   "execution_count": 57,
   "metadata": {},
   "outputs": [
    {
     "name": "stdout",
     "output_type": "stream",
     "text": [
      "Средние затраты в месяц пользователей тарифа \"smart\": 1289.9735307312696\n",
      "Общая выручка с пользователей тарифа \"ultra\": 2875351\n"
     ]
    }
   ],
   "source": [
    "print('Средние затраты в месяц пользователей тарифа \"smart\":', stat_users.query('tariff == \"smart\"')['total_costs'].mean())\n",
    "print('Общая выручка с пользователей тарифа \"ultra\":',stat_users.query('tariff == \"smart\"')['total_costs'].sum())"
   ]
  },
  {
   "cell_type": "code",
   "execution_count": 58,
   "metadata": {},
   "outputs": [],
   "source": [
    "# разобьем наши данные по группам(тарифам)\n",
    "stat_users_ultra = stat_users.query('tariff == \"ultra\"')\n",
    "stat_users_smart = stat_users.query('tariff == \"smart\"')"
   ]
  },
  {
   "cell_type": "code",
   "execution_count": 59,
   "metadata": {},
   "outputs": [
    {
     "name": "stdout",
     "output_type": "stream",
     "text": [
      "Данные использованных минут по клиентам тарифа \"ultra\":\n",
      "Среднее значение: 526.6233502538071\n",
      "Дисперсия: 100771.2236172022\n",
      "Стандартное отклонение: 317.44483554974113\n"
     ]
    }
   ],
   "source": [
    "#расчеты для значений столбца 'total_minutes'\n",
    "\n",
    "mean_ultra_minutes = stat_users_ultra['total_minutes'].mean()\n",
    "d_ultra_minutes = np.var(stat_users_ultra['total_minutes'])\n",
    "s_ultra_minutes = np.std(stat_users_ultra['total_minutes'])\n",
    "print('Данные использованных минут по клиентам тарифа \"ultra\":')\n",
    "print(f'Среднее значение: {mean_ultra_minutes}')\n",
    "print(f'Дисперсия: {d_ultra_minutes}')\n",
    "print(f'Стандартное отклонение: {s_ultra_minutes}')"
   ]
  },
  {
   "cell_type": "code",
   "execution_count": 60,
   "metadata": {},
   "outputs": [
    {
     "name": "stdout",
     "output_type": "stream",
     "text": [
      "Данные использованных минут по клиентам тарифа \"smarta\":\n",
      "Среднее значение: 417.9349484073576\n",
      "Дисперсия: 36203.06665209469\n",
      "Стандартное отклонение: 190.27103471651876\n"
     ]
    }
   ],
   "source": [
    "mean_smart_minutes = stat_users_smart['total_minutes'].mean()\n",
    "d_smart_minutes = np.var(stat_users_smart['total_minutes'])\n",
    "s_smart_minutes = np.std(stat_users_smart['total_minutes'])\n",
    "print('Данные использованных минут по клиентам тарифа \"smarta\":')\n",
    "print(f'Среднее значение: {mean_smart_minutes}')\n",
    "print(f'Дисперсия: {d_smart_minutes}')\n",
    "print(f'Стандартное отклонение: {s_smart_minutes}')"
   ]
  },
  {
   "cell_type": "code",
   "execution_count": 61,
   "metadata": {},
   "outputs": [],
   "source": [
    "plt.style.use('ggplot')"
   ]
  },
  {
   "cell_type": "code",
   "execution_count": 82,
   "metadata": {},
   "outputs": [
    {
     "data": {
      "image/png": "[encoded data removed]",
      "text/plain": [
       "<Figure size 432x288 with 1 Axes>"
      ]
     },
     "metadata": {},
     "output_type": "display_data"
    }
   ],
   "source": [
    "#построим гистограмму распределения потраченных минут \n",
    "stat_users.query('tariff == \"ultra\"')['total_minutes'].hist(edgecolor = 'black', alpha = 0.5)\n",
    "stat_users.query('tariff == \"smart\"')['total_minutes'].hist(edgecolor = 'black', alpha = 0.5)\n",
    "plt.xlabel('minutes');\n",
    "plt.title('Гистограмма распределения потраченных минут пользователями двух тарифа')\n",
    "plt.ylabel('count');\n",
    "plt.legend(('ultra','smart'), loc='best');"
   ]
  },
  {
   "cell_type": "markdown",
   "metadata": {},
   "source": [
    "Предлагаю ещё взглянуть, как изменяется значение минут, используемое клиентами телекомпании, на протяжении года. Для этого сгруппируем нашу таблицу и построим столбчатую диаграмму."
   ]
  },
  {
   "cell_type": "code",
   "execution_count": 64,
   "metadata": {},
   "outputs": [
    {
     "data": {
      "image/png": "[encoded data removed]",
      "text/plain": [
       "<Figure size 432x288 with 1 Axes>"
      ]
     },
     "metadata": {},
     "output_type": "display_data"
    },
    {
     "data": {
      "image/png": "[encoded data removed]",
      "text/plain": [
       "<Figure size 432x288 with 1 Axes>"
      ]
     },
     "metadata": {},
     "output_type": "display_data"
    }
   ],
   "source": [
    "stat_users.pivot_table(\n",
    "    index = ['tariff', 'month'], values = 'total_minutes'\n",
    ").reset_index('month').query('tariff == \"ultra\"').plot.bar(\n",
    "    x = 'month',\n",
    "    y = 'total_minutes',\n",
    "    alpha = 0.5,\n",
    "    title = 'График распределения средних значений потраченных минут клиентами тарифа \"ultra\" по месяцам',\n",
    ")\n",
    "plt.legend(loc='best')\n",
    "\n",
    "plt.ylabel('count');\n",
    "stat_users.pivot_table(\n",
    "    index = ['month', 'tariff'], values = 'total_minutes'\n",
    ").reset_index('month').query('tariff == \"smart\"').plot.bar(\n",
    "    x = 'month',\n",
    "    y = 'total_minutes',\n",
    "    alpha = 0.5,\n",
    "    title = 'График распределения средних значений потраченных минут клиентами тарифа \"smart\" по месяцам',\n",
    ")\n",
    "plt.legend(loc='best')\n",
    "plt.ylabel('count');"
   ]
  },
  {
   "cell_type": "markdown",
   "metadata": {},
   "source": [
    "Клиенты \"Мегалайн\", которые подключены к тарифу 'ultra', в среднем в месяц расходуют 530 минут, а те, кто подключен к тарифу 'smart', в среднем в месяц расходуют 420 минут. На гистограмме видно, что в тарифе 'smart' люди чаще всего расходуют 300 - 600 мин, пик лежит около 500 мин. А в тарифе 'ultra', равномерно распределено количество людей, которые расходуют от 0 до 800 мин. в месяц. ещё, в отличии от тарифа 'smart', тарифом 'ultra' пользуются небольшое количество человек, которые в месяц тратят до 1750 минут (об этом говорит нам хвост на гистограмме, это наши выбросы). Так же хочется заметить, что вне зависимости от тарифа, можно наблюдать, что среднее количество потраченных в месяц минут со временем растет. Это можно наблюдать на графике распределения минут по месяцам."
   ]
  },
  {
   "cell_type": "markdown",
   "metadata": {},
   "source": [
    "Переходим к следующей характеристике, а именно к количеству сообщений, отправленных клиентами 'Мегалайн'."
   ]
  },
  {
   "cell_type": "code",
   "execution_count": 65,
   "metadata": {},
   "outputs": [
    {
     "name": "stdout",
     "output_type": "stream",
     "text": [
      "Данные отправленных сообщений по клиентам тарифа \"ultra\":\n",
      "Среднее значение: 49.36345177664975\n",
      "Дисперсия: 2282.9460753948824\n",
      "Стандартное отклонение: 47.78018496610161\n"
     ]
    }
   ],
   "source": [
    "#расчеты для значений столбца 'total_minutes'\n",
    "\n",
    "mean_ultra_messages = stat_users_ultra['total_messages'].mean()\n",
    "d_ultra_messages = np.var(stat_users_ultra['total_messages'])\n",
    "s_ultra_messages = np.std(stat_users_ultra['total_messages'])\n",
    "print('Данные отправленных сообщений по клиентам тарифа \"ultra\":')\n",
    "print(f'Среднее значение: {mean_ultra_messages}')\n",
    "print(f'Дисперсия: {d_ultra_messages}')\n",
    "print(f'Стандартное отклонение: {s_ultra_messages}')"
   ]
  },
  {
   "cell_type": "code",
   "execution_count": 66,
   "metadata": {},
   "outputs": [
    {
     "name": "stdout",
     "output_type": "stream",
     "text": [
      "Данные отправленных сообщений по клиентам тарифа \"smarta\":\n",
      "Среднее значение: 33.384028712427096\n",
      "Дисперсия: 796.455482917076\n",
      "Стандартное отклонение: 28.221542886898938\n"
     ]
    }
   ],
   "source": [
    "mean_smart_messages = stat_users_smart['total_messages'].mean()\n",
    "d_smart_messages = np.var(stat_users_smart['total_messages'])\n",
    "s_smart_messages = np.std(stat_users_smart['total_messages'])\n",
    "print('Данные отправленных сообщений по клиентам тарифа \"smarta\":')\n",
    "print(f'Среднее значение: {mean_smart_messages}')\n",
    "print(f'Дисперсия: {d_smart_messages}')\n",
    "print(f'Стандартное отклонение: {s_smart_messages}')"
   ]
  },
  {
   "cell_type": "code",
   "execution_count": 80,
   "metadata": {},
   "outputs": [
    {
     "data": {
      "image/png": "[encoded data removed]",
      "text/plain": [
       "<Figure size 432x288 with 1 Axes>"
      ]
     },
     "metadata": {},
     "output_type": "display_data"
    }
   ],
   "source": [
    "#построим гистограмму распределения отправленных сообщений\n",
    "stat_users.query('tariff == \"ultra\"')['total_messages'].hist(edgecolor = 'black', alpha = 0.7)\n",
    "stat_users.query('tariff == \"smart\"')['total_messages'].hist(edgecolor = 'black', alpha = 0.5)\n",
    "plt.title('Гистограмма распределения отправленных сообщений пользователями двух тарифа');\n",
    "plt.xlabel('messages');\n",
    "plt.ylabel('count');\n",
    "plt.legend(('ultra','smart'), loc='best');"
   ]
  },
  {
   "cell_type": "code",
   "execution_count": 68,
   "metadata": {},
   "outputs": [
    {
     "data": {
      "image/png": "[encoded data removed]",
      "text/plain": [
       "<Figure size 432x288 with 1 Axes>"
      ]
     },
     "metadata": {},
     "output_type": "display_data"
    },
    {
     "data": {
      "image/png": "[encoded data removed]",
      "text/plain": [
       "<Figure size 432x288 with 1 Axes>"
      ]
     },
     "metadata": {},
     "output_type": "display_data"
    }
   ],
   "source": [
    "stat_users.pivot_table(\n",
    "    index = ['tariff', 'month'], values = 'total_messages'\n",
    ").reset_index('month').query('tariff == \"ultra\"').plot.bar(\n",
    "    x = 'month',\n",
    "    y = 'total_messages',\n",
    "    alpha = 0.5,\n",
    "    title = 'График распределения средних значений отправленных сообщений клиентами тарифа \"ultra\" по месяцам',\n",
    ")\n",
    "plt.legend(loc='best')\n",
    "\n",
    "plt.ylabel('count');\n",
    "stat_users.pivot_table(\n",
    "    index = ['month', 'tariff'], values = 'total_messages'\n",
    ").reset_index('month').query('tariff == \"smart\"').plot.bar(\n",
    "    x = 'month',\n",
    "    y = 'total_messages',\n",
    "    alpha = 0.5,\n",
    "    title = 'График распределения средних значений отправленных сообщений клиентами тарифа \"smart\" по месяцам',\n",
    ")\n",
    "plt.legend(loc='best')\n",
    "plt.ylabel('count');"
   ]
  },
  {
   "cell_type": "markdown",
   "metadata": {},
   "source": [
    "В среднем в месяц клиенты, подключенные к 'ultra', отправляют по 50 сообщений, а клиенты, подключенные к 'smart', по 33 сообщения. Вне зависимости от тарифа, по гистограмме можно наблюдать хвост, это люди, которые в месяц отправляют сильно больше остальных. На гистограмме распределения тарифа \"ultra', этот хвост тянется, больше, чем у другого тарифа, и даже превышает отметка 200 сообщений в день. Кажется, надо рассказать им о мессенджерах. Так же, как и в ситуации со звонками, с ходом времени виден рост среднего количества отправленных сообщений в месяц."
   ]
  },
  {
   "cell_type": "markdown",
   "metadata": {},
   "source": [
    "Приступим к анализу последней характеристики, к объёму потраченного интернет-трафика."
   ]
  },
  {
   "cell_type": "code",
   "execution_count": 69,
   "metadata": {},
   "outputs": [
    {
     "name": "stdout",
     "output_type": "stream",
     "text": [
      "Данные объема потраченного интернет-трафика по клиентам тарифа \"ultra\":\n",
      "Среднее значение: 19.494416243654822\n",
      "Дисперсия: 96.99311602978692\n",
      "Стандартное отклонение: 9.848508314957495\n"
     ]
    }
   ],
   "source": [
    "#расчеты для значений столбца 'internet_used'\n",
    "\n",
    "mean_ultra_internet = stat_users_ultra['internet_used'].mean()\n",
    "d_ultra_internet = np.var(stat_users_ultra['internet_used'])\n",
    "s_ultra_internet = np.std(stat_users_ultra['internet_used'])\n",
    "print('Данные объема потраченного интернет-трафика по клиентам тарифа \"ultra\":')\n",
    "print(f'Среднее значение: {mean_ultra_internet}')\n",
    "print(f'Дисперсия: {d_ultra_internet}')\n",
    "print(f'Стандартное отклонение: {s_ultra_internet}')"
   ]
  },
  {
   "cell_type": "code",
   "execution_count": 70,
   "metadata": {},
   "outputs": [
    {
     "name": "stdout",
     "output_type": "stream",
     "text": [
      "Данные объема потраченного интернет-трафика по клиентам тарифа \"smart\":\n",
      "Среднее значение: 16.328847016599372\n",
      "Дисперсия: 33.013887454837445\n",
      "Стандартное отклонение: 5.745771267187499\n"
     ]
    }
   ],
   "source": [
    "mean_smart_internet = stat_users_smart['internet_used'].mean()\n",
    "d_smart_internet = np.var(stat_users_smart['internet_used'])\n",
    "s_smart_internet = np.std(stat_users_smart['internet_used'])\n",
    "print('Данные объема потраченного интернет-трафика по клиентам тарифа \"smart\":')\n",
    "print(f'Среднее значение: {mean_smart_internet}')\n",
    "print(f'Дисперсия: {d_smart_internet}')\n",
    "print(f'Стандартное отклонение: {s_smart_internet}')"
   ]
  },
  {
   "cell_type": "code",
   "execution_count": 83,
   "metadata": {},
   "outputs": [
    {
     "data": {
      "image/png": "[encoded data removed]",
      "text/plain": [
       "<Figure size 432x288 with 1 Axes>"
      ]
     },
     "metadata": {},
     "output_type": "display_data"
    }
   ],
   "source": [
    "#построим гистограмму распределения потраченного интернет-трафика\n",
    "stat_users.query('tariff == \"ultra\"')['internet_used'].hist(edgecolor = 'black', alpha = 0.7)\n",
    "stat_users.query('tariff == \"smart\"')['internet_used'].hist(edgecolor = 'black', alpha = 0.5)\n",
    "plt.xlabel('internet');\n",
    "plt.ylabel('count');\n",
    "plt.title('Гистограмма распределения потраченного интернет-трафика пользователями двух тарифа');\n",
    "plt.legend(('ultra','smart'), loc='best');"
   ]
  },
  {
   "cell_type": "code",
   "execution_count": 72,
   "metadata": {},
   "outputs": [
    {
     "data": {
      "image/png": "[encoded data removed]",
      "text/plain": [
       "<Figure size 432x288 with 1 Axes>"
      ]
     },
     "metadata": {},
     "output_type": "display_data"
    },
    {
     "data": {
      "image/png": "[encoded data removed]",
      "text/plain": [
       "<Figure size 432x288 with 1 Axes>"
      ]
     },
     "metadata": {},
     "output_type": "display_data"
    }
   ],
   "source": [
    "stat_users.pivot_table(\n",
    "    index = ['tariff', 'month'], values = 'internet_used'\n",
    ").reset_index('month').query('tariff == \"ultra\"').plot.bar(\n",
    "    x = 'month',\n",
    "    y = 'internet_used',\n",
    "    alpha = 0.5,\n",
    "    title = 'График распределения средних значений объёма потраченного интернет-трафика клиентами тарифа \"ultra\" по месяцам',\n",
    ")\n",
    "plt.legend(loc='best')\n",
    "\n",
    "plt.ylabel('count');\n",
    "stat_users.pivot_table(\n",
    "    index = ['month', 'tariff'], values = 'internet_used'\n",
    ").reset_index('month').query('tariff == \"smart\"').plot.bar(\n",
    "    x = 'month',\n",
    "    y = 'internet_used',\n",
    "    alpha = 0.5,\n",
    "    title = 'График распределения средних значений объёма потраченного интернет-трафика клиентами тарифа \"smart\" по месяцам',\n",
    ")\n",
    "plt.legend(loc='best')\n",
    "plt.ylabel('count');"
   ]
  },
  {
   "cell_type": "markdown",
   "metadata": {},
   "source": [
    "Что можно сказать об объёме потраченного интернет трафика пользователями двух тарифов? В среднем пользователи тарифа 'ultra' тратят 19.5 гигабайт интернета, а пользователи тарифа 'smart’ 16 гигабайт. Это значит, что в среднем пользователи тарифа 'smart', в отличии от других, платят за дополнительной объём интернет-трафика. Пик у пользователей тарифа 'ultra' лежит около 17 гигабайт, у пользователей тарифа 'smart' пик лежит примерно в тех же значений, но он шире. Так же, как и в других случаях, интернет-трафик не исключение. В отличие от тарифа 'smart', среди пользователей тарифа 'ultra' есть люди, которые используют все возможности интернета, из-за чего они пользуются огромным объёмом интернет-трафика. График распределения средних значений по месяцам так же дает идентичный с прошлыми экспериментами результат, с ходом времени людям необходимо все больше объёма интернет-трафика."
   ]
  },
  {
   "cell_type": "markdown",
   "metadata": {},
   "source": [
    "### Вывод\n",
    "\n",
    "В этом разделе изучили поведение клиентов. Подробно разобрали следующие характеристики: какое количество минут разговора, сколько сообщений и какой объём интернет-трафика требуется пользователям каждого тарифа в месяц. Сделали некоторые выводы. Самое простое: по диаграмме распределения средних значений наших характеристик по месяцам наблюдается рост всех параметров. Это значит, что с ходом времени люди все активнее начинают пользоваться своими смартфонами, звонить, писать сообщения, пользоваться чудесами интернета. Ещё один вывод: пользователи тарифа 'smart' чаще покупают дополнительные минуты, сообщения и гигабайты. Особенно это видно по расходу интернет-трафика. Среднее значение расхода интернет-трафика у пользователей тарифа 'smart' равно 16 гигабайт, что превышает объём, который прописан в тарифном плане. Возможно, эти люди хотят так сэкономить, они не готовы платить за тариф 'ultra'. А вот пользователи тарифа 'ultra' хоть и превышают тарифный план 'smart', но свой они почти никогда не превышают. Но кто же из них прав? Кто переплачивает? Пока мы можем сказать лишь о том, что пользователи тарифа 'smart' в среднем платят меньше."
   ]
  },
  {
   "cell_type": "markdown",
   "metadata": {},
   "source": [
    "## Проверка гипотез"
   ]
  },
  {
   "cell_type": "markdown",
   "metadata": {},
   "source": [
    "В этом разделе мы проверим следующие гипотезы:\n",
    "* средняя выручка пользователей тарифов «Ультра» и «Смарт» различаются;\n",
    "* средняя выручка пользователи из Москвы отличается от выручки пользователей из других регионов."
   ]
  },
  {
   "cell_type": "markdown",
   "metadata": {},
   "source": [
    "Давайте проверим гипотезу о том, что средняя выручка пользователей тарифов «Ультра» и «Смарт» различаются.\n",
    "\n",
    "Формируем нулевую гипотезу: средняя выручка пользователей тарифов «Ультра» и «Смарт». Её мы будем формировать на основе равенства, так как использовать мы будем метод st.ttest_ind(). Значение st.ttest_ind().pvalue мы будем сравнивать со значением равным 0.05, так как он характеризует лишь 5% случаев, если 5% будут выбиваться из общей картины, это не будет повод отвергать гепотезу о равенстве в целом(среднем).\n",
    "\n",
    "Формируем альтернативную гипотезу, если не произойдет нулевая гипотеза, то произойдет следующее: средняя выручка пользователей тарифов «Ультра» и «Смарт» различаются."
   ]
  },
  {
   "cell_type": "code",
   "execution_count": 75,
   "metadata": {},
   "outputs": [],
   "source": [
    "# строим выборки, которые мы будем сравнивать\n",
    "proceeds_from_smart = stat_users.query('tariff == \"smart\"')['total_costs']\n",
    "proceeds_from_ultra = stat_users.query('tariff == \"ultra\"')['total_costs']"
   ]
  },
  {
   "cell_type": "code",
   "execution_count": 76,
   "metadata": {},
   "outputs": [
    {
     "name": "stdout",
     "output_type": "stream",
     "text": [
      "p-значение: 1.4229814360764067e-160\n",
      "Отвергаем нулевую гипотезу\n"
     ]
    }
   ],
   "source": [
    "# Проверим равенство наших двух совакупностей и выведем результат\n",
    "\n",
    "alpha = .05\n",
    "\n",
    "results = st.ttest_ind(proceeds_from_smart, proceeds_from_ultra, equal_var = True)\n",
    "\n",
    "print('p-значение:', results.pvalue)\n",
    "\n",
    "if (results.pvalue < alpha):\n",
    "    print(\"Отвергаем нулевую гипотезу\")\n",
    "else:\n",
    "    print(\"Не получилось отвергнуть нулевую гипотезу\")"
   ]
  },
  {
   "cell_type": "markdown",
   "metadata": {},
   "source": [
    "Вероятность того, что средняя выручка пользователей тарифов «Ультра» и «Смарт» будет одинакова, слишком мала, меньше процента. Об этом нам говорит результат выполнения метода st.ttest_ind(), который проверяет две совокупности на равенство. Из-за этого мы подтверждаем гипотезу о том, что средняя выручка пользователей тарифов «Ультра» и «Смарт» различаются."
   ]
  },
  {
   "cell_type": "markdown",
   "metadata": {},
   "source": [
    "Тепрь проверим, отличается ли средняя вырочка от пользователей из москвы от выручки пользователей из других регионов.\n",
    "\n",
    "Формируем нулевую гипотезу: средняя выручка пользователи из Москвы не отличается от выручки пользователей из других регионов.\n",
    "\n",
    "Формируем альтернативную гипотезу: средняя выручка пользователи из Москвы отличается от выручки пользователей из других регионов."
   ]
  },
  {
   "cell_type": "markdown",
   "metadata": {},
   "source": [
    "Для того, чтобы проверить нашу гипотезу, добавим новый столбец с название города в таблицу 'stat_users'."
   ]
  },
  {
   "cell_type": "code",
   "execution_count": 77,
   "metadata": {},
   "outputs": [
    {
     "data": {
      "text/html": [
       "<div>\n",
       "<style scoped>\n",
       "    .dataframe tbody tr th:only-of-type {\n",
       "        vertical-align: middle;\n",
       "    }\n",
       "\n",
       "    .dataframe tbody tr th {\n",
       "        vertical-align: top;\n",
       "    }\n",
       "\n",
       "    .dataframe thead th {\n",
       "        text-align: right;\n",
       "    }\n",
       "</style>\n",
       "<table border=\"1\" class=\"dataframe\">\n",
       "  <thead>\n",
       "    <tr style=\"text-align: right;\">\n",
       "      <th></th>\n",
       "      <th>user_id</th>\n",
       "      <th>month</th>\n",
       "      <th>count_calls</th>\n",
       "      <th>total_minutes</th>\n",
       "      <th>total_messages</th>\n",
       "      <th>internet_used</th>\n",
       "      <th>tariff</th>\n",
       "      <th>churn_date</th>\n",
       "      <th>total_costs</th>\n",
       "      <th>city</th>\n",
       "    </tr>\n",
       "  </thead>\n",
       "  <tbody>\n",
       "    <tr>\n",
       "      <td>0</td>\n",
       "      <td>1000</td>\n",
       "      <td>5</td>\n",
       "      <td>17</td>\n",
       "      <td>159</td>\n",
       "      <td>22</td>\n",
       "      <td>3</td>\n",
       "      <td>ultra</td>\n",
       "      <td>2019-01-01</td>\n",
       "      <td>1950</td>\n",
       "      <td>Краснодар</td>\n",
       "    </tr>\n",
       "    <tr>\n",
       "      <td>1</td>\n",
       "      <td>1000</td>\n",
       "      <td>6</td>\n",
       "      <td>28</td>\n",
       "      <td>172</td>\n",
       "      <td>60</td>\n",
       "      <td>23</td>\n",
       "      <td>ultra</td>\n",
       "      <td>2019-01-01</td>\n",
       "      <td>1950</td>\n",
       "      <td>Краснодар</td>\n",
       "    </tr>\n",
       "    <tr>\n",
       "      <td>2</td>\n",
       "      <td>1000</td>\n",
       "      <td>7</td>\n",
       "      <td>41</td>\n",
       "      <td>340</td>\n",
       "      <td>75</td>\n",
       "      <td>14</td>\n",
       "      <td>ultra</td>\n",
       "      <td>2019-01-01</td>\n",
       "      <td>1950</td>\n",
       "      <td>Краснодар</td>\n",
       "    </tr>\n",
       "    <tr>\n",
       "      <td>3</td>\n",
       "      <td>1000</td>\n",
       "      <td>8</td>\n",
       "      <td>42</td>\n",
       "      <td>408</td>\n",
       "      <td>81</td>\n",
       "      <td>14</td>\n",
       "      <td>ultra</td>\n",
       "      <td>2019-01-01</td>\n",
       "      <td>1950</td>\n",
       "      <td>Краснодар</td>\n",
       "    </tr>\n",
       "    <tr>\n",
       "      <td>4</td>\n",
       "      <td>1000</td>\n",
       "      <td>9</td>\n",
       "      <td>46</td>\n",
       "      <td>466</td>\n",
       "      <td>57</td>\n",
       "      <td>15</td>\n",
       "      <td>ultra</td>\n",
       "      <td>2019-01-01</td>\n",
       "      <td>1950</td>\n",
       "      <td>Краснодар</td>\n",
       "    </tr>\n",
       "    <tr>\n",
       "      <td>5</td>\n",
       "      <td>1000</td>\n",
       "      <td>10</td>\n",
       "      <td>44</td>\n",
       "      <td>350</td>\n",
       "      <td>73</td>\n",
       "      <td>15</td>\n",
       "      <td>ultra</td>\n",
       "      <td>2019-01-01</td>\n",
       "      <td>1950</td>\n",
       "      <td>Краснодар</td>\n",
       "    </tr>\n",
       "    <tr>\n",
       "      <td>6</td>\n",
       "      <td>1000</td>\n",
       "      <td>11</td>\n",
       "      <td>37</td>\n",
       "      <td>338</td>\n",
       "      <td>58</td>\n",
       "      <td>15</td>\n",
       "      <td>ultra</td>\n",
       "      <td>2019-01-01</td>\n",
       "      <td>1950</td>\n",
       "      <td>Краснодар</td>\n",
       "    </tr>\n",
       "    <tr>\n",
       "      <td>7</td>\n",
       "      <td>1000</td>\n",
       "      <td>12</td>\n",
       "      <td>38</td>\n",
       "      <td>333</td>\n",
       "      <td>70</td>\n",
       "      <td>10</td>\n",
       "      <td>ultra</td>\n",
       "      <td>2019-01-01</td>\n",
       "      <td>1950</td>\n",
       "      <td>Краснодар</td>\n",
       "    </tr>\n",
       "    <tr>\n",
       "      <td>8</td>\n",
       "      <td>1001</td>\n",
       "      <td>11</td>\n",
       "      <td>45</td>\n",
       "      <td>430</td>\n",
       "      <td>0</td>\n",
       "      <td>18</td>\n",
       "      <td>smart</td>\n",
       "      <td>2019-01-01</td>\n",
       "      <td>1150</td>\n",
       "      <td>Москва</td>\n",
       "    </tr>\n",
       "    <tr>\n",
       "      <td>9</td>\n",
       "      <td>1001</td>\n",
       "      <td>12</td>\n",
       "      <td>47</td>\n",
       "      <td>414</td>\n",
       "      <td>0</td>\n",
       "      <td>14</td>\n",
       "      <td>smart</td>\n",
       "      <td>2019-01-01</td>\n",
       "      <td>550</td>\n",
       "      <td>Москва</td>\n",
       "    </tr>\n",
       "  </tbody>\n",
       "</table>\n",
       "</div>"
      ],
      "text/plain": [
       "   user_id  month  count_calls  total_minutes  total_messages  internet_used  \\\n",
       "0     1000      5           17            159              22              3   \n",
       "1     1000      6           28            172              60             23   \n",
       "2     1000      7           41            340              75             14   \n",
       "3     1000      8           42            408              81             14   \n",
       "4     1000      9           46            466              57             15   \n",
       "5     1000     10           44            350              73             15   \n",
       "6     1000     11           37            338              58             15   \n",
       "7     1000     12           38            333              70             10   \n",
       "8     1001     11           45            430               0             18   \n",
       "9     1001     12           47            414               0             14   \n",
       "\n",
       "  tariff churn_date  total_costs       city  \n",
       "0  ultra 2019-01-01         1950  Краснодар  \n",
       "1  ultra 2019-01-01         1950  Краснодар  \n",
       "2  ultra 2019-01-01         1950  Краснодар  \n",
       "3  ultra 2019-01-01         1950  Краснодар  \n",
       "4  ultra 2019-01-01         1950  Краснодар  \n",
       "5  ultra 2019-01-01         1950  Краснодар  \n",
       "6  ultra 2019-01-01         1950  Краснодар  \n",
       "7  ultra 2019-01-01         1950  Краснодар  \n",
       "8  smart 2019-01-01         1150     Москва  \n",
       "9  smart 2019-01-01          550     Москва  "
      ]
     },
     "execution_count": 77,
     "metadata": {},
     "output_type": "execute_result"
    }
   ],
   "source": [
    "users_city = users['user_id'].to_frame()\n",
    "users_city['city'] = users['city']\n",
    "stat_users = stat_users.merge(users_city, on = 'user_id')\n",
    "stat_users.head(10)"
   ]
  },
  {
   "cell_type": "code",
   "execution_count": 78,
   "metadata": {},
   "outputs": [],
   "source": [
    "#Строим выборки по городу, для проверки гипотезы\n",
    "proceeds_from_mocsow = stat_users.query('city == \"Москва\"')['total_costs']\n",
    "proceeds_from_other = stat_users.query('city != \"Москва\"')['total_costs']"
   ]
  },
  {
   "cell_type": "code",
   "execution_count": 79,
   "metadata": {},
   "outputs": [
    {
     "name": "stdout",
     "output_type": "stream",
     "text": [
      "p-значение: 0.5440152911670224\n",
      "Не получилось отвергнуть нулевую гипотезу\n"
     ]
    }
   ],
   "source": [
    "# Проверим равенство средних наших двух совакупностей и выведем результат\n",
    "\n",
    "alpha = .05\n",
    "\n",
    "results = st.ttest_ind(proceeds_from_mocsow, proceeds_from_other)\n",
    "\n",
    "print('p-значение:', results.pvalue)\n",
    "\n",
    "if (results.pvalue < alpha):\n",
    "    print(\"Отвергаем нулевую гипотезу\")\n",
    "else:\n",
    "    print(\"Не получилось отвергнуть нулевую гипотезу\")"
   ]
  },
  {
   "cell_type": "markdown",
   "metadata": {},
   "source": [
    "Мы не можем не отвергнуть гипотезу о том, что средняя выручка пользователи из Москвы отличается от выручки пользователей из других регионов. Такое решение нам помог принять метод st.ttest_ind(), результатом его работы стало значение примерно равное 0.54. О чем это говорит? Что в 54% случаев Выручка с клиентов из Москвы равна выручке с клиентов из остальных регионов."
   ]
  },
  {
   "cell_type": "markdown",
   "metadata": {},
   "source": [
    "### Вывод\n",
    "Что можно сказать о работе в этом разделе? Все просто: \n",
    "* первую гипотезу: \"средняя выручка пользователей тарифов «Ультра» и «Смарт» различаются\", мы не можем отвергнуть, так как одинаковая выручка с клиентов двух тарифов гипотезу меньше чем в 1% случаев.\n",
    "* вторую гипотезу: \"средняя выручка пользователи из Москвы отличается от выручки пользователей из других регионов.\" Её мы не можем подтвердить, ведь в 54% случаев выручка с клиентов из города Москва равна выручке с клиентов из других регионов.\n"
   ]
  },
  {
   "cell_type": "markdown",
   "metadata": {},
   "source": [
    "## Общий вывод\n",
    "Вот и подошла к концу наша работа. Первую часть работы мы обрабатывали наши данные, высчитывали новые, нужные для анализа, значения и собрали их в одну таблицу. Затем начался анализ. В нем мы рассчитывали: сколько минут разговора, сколько сообщений и какой объём интернет-трафика требуется пользователям каждого тарифа в месяц? Нашли закономерность, что с каждым месяцем растет объём минут, сообщений, интернет-трафика, который необходим пользователям. Так же мы построили графики распределения минут, сообщений, интернет-трафика, которые расходуют пользователи двух тарифов каждый месяц. Определили, что пользователи тарифа 'ultra' в среднем пользуются тремя исследуемыми факторами в большем количестве, чем пользователи тарифа 'ultra'. Так же в этом тарифе чаще встречаются люди, которые пользуются услугами телекомпании на полную ногу. Но при этом им чаще всего хватает тарифного плана, они реже переплачивают, когда пользователи тарифа 'ultra' этим грешат чаще. Затем мы проверили две гипотезы:\n",
    "* средняя выручка пользователей тарифов «Ультра» и «Смарт» различаются;\n",
    "* средняя выручка пользователи из Москвы чаще равна выручке пользователей из других регионов.\n",
    "Ни одну из них не отвергнуть у нас не получилось, но результат я назвал бы логичным. \n",
    "\n",
    "В результате работы, стало понятно, что на данный момент пользователи тарифа 'smart' в общем приносят больше, чем пользователи тарифа 'ultra', но это ещё ничего не говорит. Хоть они и чаще платят за дополнительные минуты разговора, сообщения и объём интернет-трафика, но в среднем их затраты за теле обслуживание не превышают средние затраты участников тарифа 'ultra'. Я бы не советовал делать упор на крупные регионы, выручка с клиентов из крупных городов как Москва, скорее не отличается от средней выручки с клиентов из других регионов. А посоветовал бы я рекламной компании сделать больший упор на привлечение клиентов к тарифу 'ultra', а в рекламной компании можно использовать слоган что-то вроде: 'зачем вам переплачивать, если можно один раз заплатить'. Ладно... Плохой из меня маркетолог, но суть я, как мне кажется, объяснил. А я пошел кодить.\n"
   ]
  },
  {
   "cell_type": "code",
   "execution_count": null,
   "metadata": {},
   "outputs": [],
   "source": []
  }
 ],
 "metadata": {
  "ExecuteTimeLog": [
   {
    "duration": 1049,
    "start_time": "2021-09-05T12:54:28.226Z"
   },
   {
    "duration": 87,
    "start_time": "2021-09-05T12:55:13.391Z"
   },
   {
    "duration": 82,
    "start_time": "2021-09-05T12:57:09.732Z"
   },
   {
    "duration": 89,
    "start_time": "2021-09-05T12:57:49.074Z"
   },
   {
    "duration": 81,
    "start_time": "2021-09-05T12:57:57.502Z"
   },
   {
    "duration": 3,
    "start_time": "2021-09-05T12:59:01.145Z"
   },
   {
    "duration": 179,
    "start_time": "2021-09-05T13:00:55.258Z"
   },
   {
    "duration": 187,
    "start_time": "2021-09-05T13:01:07.433Z"
   },
   {
    "duration": 3,
    "start_time": "2021-09-05T13:01:16.559Z"
   },
   {
    "duration": 206,
    "start_time": "2021-09-05T13:01:19.213Z"
   },
   {
    "duration": 173,
    "start_time": "2021-09-05T13:01:24.532Z"
   },
   {
    "duration": 331,
    "start_time": "2021-09-05T13:02:50.781Z"
   },
   {
    "duration": 425,
    "start_time": "2021-09-05T13:02:56.104Z"
   },
   {
    "duration": 8,
    "start_time": "2021-09-05T13:02:57.538Z"
   },
   {
    "duration": 7,
    "start_time": "2021-09-05T13:03:05.988Z"
   },
   {
    "duration": 7,
    "start_time": "2021-09-05T13:03:16.800Z"
   },
   {
    "duration": 11,
    "start_time": "2021-09-05T13:03:27.300Z"
   },
   {
    "duration": 7,
    "start_time": "2021-09-05T13:03:38.055Z"
   },
   {
    "duration": 10,
    "start_time": "2021-09-05T13:03:45.480Z"
   },
   {
    "duration": 20,
    "start_time": "2021-09-05T13:05:25.152Z"
   },
   {
    "duration": 16,
    "start_time": "2021-09-05T13:05:44.924Z"
   },
   {
    "duration": 14,
    "start_time": "2021-09-05T13:05:54.183Z"
   },
   {
    "duration": 6,
    "start_time": "2021-09-05T13:06:05.924Z"
   },
   {
    "duration": 6,
    "start_time": "2021-09-05T13:06:17.068Z"
   },
   {
    "duration": 19966,
    "start_time": "2021-09-05T13:12:10.672Z"
   },
   {
    "duration": 244,
    "start_time": "2021-09-05T13:13:39.955Z"
   },
   {
    "duration": 14198,
    "start_time": "2021-09-05T13:13:58.840Z"
   },
   {
    "duration": 3,
    "start_time": "2021-09-05T13:14:25.933Z"
   },
   {
    "duration": 389,
    "start_time": "2021-09-05T13:17:01.125Z"
   },
   {
    "duration": 9,
    "start_time": "2021-09-05T13:17:07.649Z"
   },
   {
    "duration": 264,
    "start_time": "2021-09-05T13:18:02.154Z"
   },
   {
    "duration": 440,
    "start_time": "2021-09-05T13:18:35.547Z"
   },
   {
    "duration": 369,
    "start_time": "2021-09-05T13:20:06.048Z"
   },
   {
    "duration": 7,
    "start_time": "2021-09-05T13:20:09.782Z"
   },
   {
    "duration": 41,
    "start_time": "2021-09-05T13:21:13.390Z"
   },
   {
    "duration": 34,
    "start_time": "2021-09-05T13:21:25.872Z"
   },
   {
    "duration": 250,
    "start_time": "2021-09-05T13:21:35.993Z"
   },
   {
    "duration": 13,
    "start_time": "2021-09-05T13:21:38.143Z"
   },
   {
    "duration": 32,
    "start_time": "2021-09-05T13:21:54.876Z"
   },
   {
    "duration": 15,
    "start_time": "2021-09-05T13:22:12.730Z"
   },
   {
    "duration": 4,
    "start_time": "2021-09-05T13:39:31.190Z"
   },
   {
    "duration": 5,
    "start_time": "2021-09-05T13:39:47.504Z"
   },
   {
    "duration": 232,
    "start_time": "2021-09-05T13:43:52.290Z"
   },
   {
    "duration": 251,
    "start_time": "2021-09-05T13:44:02.649Z"
   },
   {
    "duration": 223,
    "start_time": "2021-09-05T13:44:08.251Z"
   },
   {
    "duration": 3,
    "start_time": "2021-09-05T13:44:39.551Z"
   },
   {
    "duration": 238,
    "start_time": "2021-09-05T13:44:41.521Z"
   },
   {
    "duration": 3,
    "start_time": "2021-09-05T13:44:48.813Z"
   },
   {
    "duration": 4,
    "start_time": "2021-09-05T13:44:53.356Z"
   },
   {
    "duration": 4,
    "start_time": "2021-09-05T13:45:08.822Z"
   },
   {
    "duration": 2,
    "start_time": "2021-09-05T13:45:14.513Z"
   },
   {
    "duration": 4,
    "start_time": "2021-09-05T13:45:14.957Z"
   },
   {
    "duration": 288,
    "start_time": "2021-09-05T13:47:06.451Z"
   },
   {
    "duration": 6,
    "start_time": "2021-09-05T13:47:22.155Z"
   },
   {
    "duration": 5,
    "start_time": "2021-09-05T13:47:27.301Z"
   },
   {
    "duration": 5,
    "start_time": "2021-09-05T13:47:37.343Z"
   },
   {
    "duration": 237,
    "start_time": "2021-09-05T13:47:45.656Z"
   },
   {
    "duration": 5,
    "start_time": "2021-09-05T13:47:49.674Z"
   },
   {
    "duration": 7,
    "start_time": "2021-09-05T13:48:01.909Z"
   },
   {
    "duration": 7,
    "start_time": "2021-09-05T13:56:25.581Z"
   },
   {
    "duration": 27,
    "start_time": "2021-09-05T13:58:11.937Z"
   },
   {
    "duration": 9,
    "start_time": "2021-09-05T13:58:18.631Z"
   },
   {
    "duration": 16,
    "start_time": "2021-09-05T13:58:27.606Z"
   },
   {
    "duration": 4,
    "start_time": "2021-09-05T14:00:39.595Z"
   },
   {
    "duration": 9,
    "start_time": "2021-09-05T14:00:40.399Z"
   },
   {
    "duration": 261,
    "start_time": "2021-09-05T14:01:43.979Z"
   },
   {
    "duration": 3,
    "start_time": "2021-09-05T14:02:05.130Z"
   },
   {
    "duration": 248,
    "start_time": "2021-09-05T14:02:56.335Z"
   },
   {
    "duration": 6,
    "start_time": "2021-09-05T14:03:01.770Z"
   },
   {
    "duration": 28,
    "start_time": "2021-09-05T14:03:41.762Z"
   },
   {
    "duration": 249,
    "start_time": "2021-09-05T14:03:42.089Z"
   },
   {
    "duration": 4,
    "start_time": "2021-09-05T14:03:48.607Z"
   },
   {
    "duration": 16,
    "start_time": "2021-09-05T14:03:48.996Z"
   },
   {
    "duration": 24,
    "start_time": "2021-09-05T14:03:49.337Z"
   },
   {
    "duration": 238,
    "start_time": "2021-09-05T14:04:17.613Z"
   },
   {
    "duration": 5,
    "start_time": "2021-09-05T14:04:29.100Z"
   },
   {
    "duration": 13,
    "start_time": "2021-09-05T14:04:42.998Z"
   },
   {
    "duration": 13,
    "start_time": "2021-09-05T14:04:45.310Z"
   },
   {
    "duration": 15,
    "start_time": "2021-09-05T14:04:59.071Z"
   },
   {
    "duration": 77,
    "start_time": "2021-09-05T14:05:10.674Z"
   },
   {
    "duration": 18,
    "start_time": "2021-09-05T14:05:16.156Z"
   },
   {
    "duration": 6,
    "start_time": "2021-09-05T14:05:26.707Z"
   },
   {
    "duration": 236,
    "start_time": "2021-09-05T14:05:41.751Z"
   },
   {
    "duration": 7,
    "start_time": "2021-09-05T14:05:48.724Z"
   },
   {
    "duration": 3,
    "start_time": "2021-09-05T14:06:00.345Z"
   },
   {
    "duration": 25,
    "start_time": "2021-09-05T14:06:00.846Z"
   },
   {
    "duration": 3,
    "start_time": "2021-09-05T14:06:29.761Z"
   },
   {
    "duration": 29,
    "start_time": "2021-09-05T14:06:39.659Z"
   },
   {
    "duration": 38,
    "start_time": "2021-09-05T14:06:47.680Z"
   },
   {
    "duration": 45,
    "start_time": "2021-09-05T14:07:42.195Z"
   },
   {
    "duration": 240,
    "start_time": "2021-09-05T14:13:22.555Z"
   },
   {
    "duration": 2,
    "start_time": "2021-09-05T14:13:26.241Z"
   },
   {
    "duration": 29,
    "start_time": "2021-09-05T14:13:26.713Z"
   },
   {
    "duration": 3,
    "start_time": "2021-09-05T14:13:27.067Z"
   },
   {
    "duration": 3,
    "start_time": "2021-09-05T14:13:33.650Z"
   },
   {
    "duration": 14,
    "start_time": "2021-09-05T14:15:55.735Z"
   },
   {
    "duration": 20,
    "start_time": "2021-09-05T14:15:56.180Z"
   },
   {
    "duration": 22,
    "start_time": "2021-09-05T14:15:57.550Z"
   },
   {
    "duration": 16,
    "start_time": "2021-09-05T14:15:58.139Z"
   },
   {
    "duration": 9,
    "start_time": "2021-09-05T14:15:58.566Z"
   },
   {
    "duration": 6,
    "start_time": "2021-09-05T14:15:59.605Z"
   },
   {
    "duration": 73,
    "start_time": "2021-09-05T14:17:42.919Z"
   },
   {
    "duration": 77,
    "start_time": "2021-09-05T14:18:22.374Z"
   },
   {
    "duration": 316,
    "start_time": "2021-09-05T14:18:27.117Z"
   },
   {
    "duration": 330,
    "start_time": "2021-09-05T14:18:40.480Z"
   },
   {
    "duration": 379,
    "start_time": "2021-09-05T14:18:48.871Z"
   },
   {
    "duration": 335,
    "start_time": "2021-09-05T14:18:59.107Z"
   },
   {
    "duration": 7,
    "start_time": "2021-09-05T14:20:45.104Z"
   },
   {
    "duration": 16,
    "start_time": "2021-09-05T14:21:09.789Z"
   },
   {
    "duration": 19,
    "start_time": "2021-09-05T14:21:16.937Z"
   },
   {
    "duration": 252,
    "start_time": "2021-09-05T14:21:42.157Z"
   },
   {
    "duration": 16,
    "start_time": "2021-09-05T14:21:50.849Z"
   },
   {
    "duration": 285,
    "start_time": "2021-09-05T14:23:31.599Z"
   },
   {
    "duration": 270,
    "start_time": "2021-09-05T14:23:41.761Z"
   },
   {
    "duration": 8,
    "start_time": "2021-09-05T14:23:55.664Z"
   },
   {
    "duration": 265,
    "start_time": "2021-09-05T14:24:01.169Z"
   },
   {
    "duration": 247,
    "start_time": "2021-09-05T14:24:09.447Z"
   },
   {
    "duration": 283,
    "start_time": "2021-09-05T14:24:14.645Z"
   },
   {
    "duration": 238,
    "start_time": "2021-09-05T14:24:31.813Z"
   },
   {
    "duration": 267,
    "start_time": "2021-09-05T14:24:53.804Z"
   },
   {
    "duration": 5989,
    "start_time": "2021-09-05T14:25:38.017Z"
   },
   {
    "duration": 3,
    "start_time": "2021-09-05T14:26:56.687Z"
   },
   {
    "duration": 19,
    "start_time": "2021-09-05T14:27:02.682Z"
   },
   {
    "duration": 7,
    "start_time": "2021-09-05T14:27:17.860Z"
   },
   {
    "duration": 5885,
    "start_time": "2021-09-05T14:27:23.041Z"
   },
   {
    "duration": 1188,
    "start_time": "2021-09-05T14:27:49.006Z"
   },
   {
    "duration": 5,
    "start_time": "2021-09-05T14:27:50.197Z"
   },
   {
    "duration": 464,
    "start_time": "2021-09-05T14:27:50.208Z"
   },
   {
    "duration": 11,
    "start_time": "2021-09-05T14:27:50.674Z"
   },
   {
    "duration": 48,
    "start_time": "2021-09-05T14:27:50.687Z"
   },
   {
    "duration": 25,
    "start_time": "2021-09-05T14:27:50.738Z"
   },
   {
    "duration": 7,
    "start_time": "2021-09-05T14:27:50.765Z"
   },
   {
    "duration": 42,
    "start_time": "2021-09-05T14:27:50.775Z"
   },
   {
    "duration": 17,
    "start_time": "2021-09-05T14:27:50.819Z"
   },
   {
    "duration": 9,
    "start_time": "2021-09-05T14:27:50.838Z"
   },
   {
    "duration": 22,
    "start_time": "2021-09-05T14:27:50.849Z"
   },
   {
    "duration": 36,
    "start_time": "2021-09-05T14:27:50.873Z"
   },
   {
    "duration": 9,
    "start_time": "2021-09-05T14:27:50.911Z"
   },
   {
    "duration": 32,
    "start_time": "2021-09-05T14:27:50.921Z"
   },
   {
    "duration": 8,
    "start_time": "2021-09-05T14:27:50.955Z"
   },
   {
    "duration": 32,
    "start_time": "2021-09-05T14:27:50.965Z"
   },
   {
    "duration": 20,
    "start_time": "2021-09-05T14:27:51.007Z"
   },
   {
    "duration": 11,
    "start_time": "2021-09-05T14:27:51.028Z"
   },
   {
    "duration": 510,
    "start_time": "2021-09-05T14:27:51.041Z"
   },
   {
    "duration": 7,
    "start_time": "2021-09-05T14:27:51.553Z"
   },
   {
    "duration": 16,
    "start_time": "2021-09-05T14:27:51.562Z"
   },
   {
    "duration": 11,
    "start_time": "2021-09-05T14:27:51.580Z"
   },
   {
    "duration": 94,
    "start_time": "2021-09-05T14:27:51.594Z"
   },
   {
    "duration": 20,
    "start_time": "2021-09-05T14:27:51.692Z"
   },
   {
    "duration": 15,
    "start_time": "2021-09-05T14:27:51.714Z"
   },
   {
    "duration": 13,
    "start_time": "2021-09-05T14:27:51.731Z"
   },
   {
    "duration": 13,
    "start_time": "2021-09-05T14:27:51.746Z"
   },
   {
    "duration": 32,
    "start_time": "2021-09-05T14:27:51.761Z"
   },
   {
    "duration": 12,
    "start_time": "2021-09-05T14:28:02.213Z"
   },
   {
    "duration": 6,
    "start_time": "2021-09-05T14:29:46.434Z"
   },
   {
    "duration": 368,
    "start_time": "2021-09-05T14:30:08.377Z"
   },
   {
    "duration": 7,
    "start_time": "2021-09-05T14:30:33.977Z"
   },
   {
    "duration": 5,
    "start_time": "2021-09-05T14:30:38.105Z"
   },
   {
    "duration": 99,
    "start_time": "2021-09-05T14:31:19.866Z"
   },
   {
    "duration": 269,
    "start_time": "2021-09-05T14:32:06.239Z"
   },
   {
    "duration": 11,
    "start_time": "2021-09-05T14:32:13.773Z"
   },
   {
    "duration": 35,
    "start_time": "2021-09-05T14:32:24.754Z"
   },
   {
    "duration": 16,
    "start_time": "2021-09-05T14:32:36.793Z"
   },
   {
    "duration": 23,
    "start_time": "2021-09-05T14:32:40.267Z"
   },
   {
    "duration": 17,
    "start_time": "2021-09-05T14:55:04.779Z"
   },
   {
    "duration": 90,
    "start_time": "2021-09-05T14:55:43.033Z"
   },
   {
    "duration": 16,
    "start_time": "2021-09-05T14:55:49.941Z"
   },
   {
    "duration": 9,
    "start_time": "2021-09-05T14:57:10.599Z"
   },
   {
    "duration": 11,
    "start_time": "2021-09-05T14:57:17.900Z"
   },
   {
    "duration": 10,
    "start_time": "2021-09-05T14:57:30.441Z"
   },
   {
    "duration": 28,
    "start_time": "2021-09-05T14:57:36.623Z"
   },
   {
    "duration": 272,
    "start_time": "2021-09-05T14:58:02.947Z"
   },
   {
    "duration": 231,
    "start_time": "2021-09-05T14:58:09.475Z"
   },
   {
    "duration": 28,
    "start_time": "2021-09-05T14:58:15.019Z"
   },
   {
    "duration": 270,
    "start_time": "2021-09-05T14:58:19.112Z"
   },
   {
    "duration": 265,
    "start_time": "2021-09-05T14:58:21.592Z"
   },
   {
    "duration": 28,
    "start_time": "2021-09-05T14:58:25.621Z"
   },
   {
    "duration": 238,
    "start_time": "2021-09-05T14:58:41.468Z"
   },
   {
    "duration": 56,
    "start_time": "2021-09-05T14:58:49.021Z"
   },
   {
    "duration": 16,
    "start_time": "2021-09-05T14:59:13.495Z"
   },
   {
    "duration": 8,
    "start_time": "2021-09-05T14:59:33.654Z"
   },
   {
    "duration": 9,
    "start_time": "2021-09-05T14:59:40.321Z"
   },
   {
    "duration": 12,
    "start_time": "2021-09-05T14:59:55.280Z"
   },
   {
    "duration": 12,
    "start_time": "2021-09-05T15:00:00.419Z"
   },
   {
    "duration": 11,
    "start_time": "2021-09-05T15:00:28.323Z"
   },
   {
    "duration": 57,
    "start_time": "2021-09-05T15:14:57.681Z"
   },
   {
    "duration": 3,
    "start_time": "2021-09-05T15:15:42.574Z"
   },
   {
    "duration": 6,
    "start_time": "2021-09-05T15:15:47.939Z"
   },
   {
    "duration": 4,
    "start_time": "2021-09-05T15:15:55.762Z"
   },
   {
    "duration": 5,
    "start_time": "2021-09-05T15:16:03.755Z"
   },
   {
    "duration": 3,
    "start_time": "2021-09-05T15:16:13.126Z"
   },
   {
    "duration": 4,
    "start_time": "2021-09-05T15:16:20.723Z"
   },
   {
    "duration": 3,
    "start_time": "2021-09-05T15:17:32.664Z"
   },
   {
    "duration": 12,
    "start_time": "2021-09-05T15:17:36.301Z"
   },
   {
    "duration": 6188,
    "start_time": "2021-09-05T15:17:55.231Z"
   },
   {
    "duration": 54,
    "start_time": "2021-09-05T15:18:01.367Z"
   },
   {
    "duration": 4,
    "start_time": "2021-09-05T15:18:04.069Z"
   },
   {
    "duration": 10,
    "start_time": "2021-09-05T15:18:06.842Z"
   },
   {
    "duration": 3,
    "start_time": "2021-09-05T15:19:53.974Z"
   },
   {
    "duration": 9,
    "start_time": "2021-09-05T15:19:55.734Z"
   },
   {
    "duration": 243,
    "start_time": "2021-09-05T15:20:36.941Z"
   },
   {
    "duration": 235,
    "start_time": "2021-09-05T15:20:46.825Z"
   },
   {
    "duration": 236,
    "start_time": "2021-09-05T15:20:53.220Z"
   },
   {
    "duration": 3,
    "start_time": "2021-09-05T15:21:50.318Z"
   },
   {
    "duration": 10,
    "start_time": "2021-09-05T15:21:50.713Z"
   },
   {
    "duration": 15,
    "start_time": "2021-09-05T15:21:51.940Z"
   },
   {
    "duration": 248,
    "start_time": "2021-09-05T15:24:43.259Z"
   },
   {
    "duration": 254,
    "start_time": "2021-09-05T15:25:34.592Z"
   },
   {
    "duration": 84,
    "start_time": "2021-09-05T15:28:50.704Z"
   },
   {
    "duration": 8,
    "start_time": "2021-09-05T15:29:37.596Z"
   },
   {
    "duration": 3,
    "start_time": "2021-09-05T15:29:50.780Z"
   },
   {
    "duration": 13,
    "start_time": "2021-09-05T15:30:01.213Z"
   },
   {
    "duration": 5,
    "start_time": "2021-09-05T15:30:50.093Z"
   },
   {
    "duration": 4,
    "start_time": "2021-09-05T15:31:02.309Z"
   },
   {
    "duration": 25,
    "start_time": "2021-09-05T15:31:25.384Z"
   },
   {
    "duration": 17,
    "start_time": "2021-09-05T15:31:50.216Z"
   },
   {
    "duration": 22,
    "start_time": "2021-09-05T15:31:59.496Z"
   },
   {
    "duration": 4,
    "start_time": "2021-09-05T15:33:21.669Z"
   },
   {
    "duration": 79,
    "start_time": "2021-09-05T15:33:22.496Z"
   },
   {
    "duration": 14,
    "start_time": "2021-09-05T15:33:43.852Z"
   },
   {
    "duration": 3,
    "start_time": "2021-09-05T15:33:51.012Z"
   },
   {
    "duration": 4,
    "start_time": "2021-09-05T15:33:55.583Z"
   },
   {
    "duration": 4,
    "start_time": "2021-09-05T15:34:03.228Z"
   },
   {
    "duration": 19,
    "start_time": "2021-09-05T15:34:03.698Z"
   },
   {
    "duration": 3,
    "start_time": "2021-09-05T15:34:24.718Z"
   },
   {
    "duration": 18,
    "start_time": "2021-09-05T15:34:25.247Z"
   },
   {
    "duration": 607,
    "start_time": "2021-09-05T15:50:05.705Z"
   },
   {
    "duration": 4,
    "start_time": "2021-09-05T15:50:17.825Z"
   },
   {
    "duration": 3,
    "start_time": "2021-09-05T15:54:14.880Z"
   },
   {
    "duration": 3,
    "start_time": "2021-09-05T15:54:44.459Z"
   },
   {
    "duration": 4,
    "start_time": "2021-09-05T15:54:56.217Z"
   },
   {
    "duration": 15,
    "start_time": "2021-09-05T15:54:57.778Z"
   },
   {
    "duration": 346,
    "start_time": "2021-09-08T11:37:42.950Z"
   },
   {
    "duration": 1452,
    "start_time": "2021-09-08T11:37:48.802Z"
   },
   {
    "duration": 4,
    "start_time": "2021-09-08T11:37:50.693Z"
   },
   {
    "duration": 533,
    "start_time": "2021-09-08T11:37:51.113Z"
   },
   {
    "duration": 21,
    "start_time": "2021-09-08T11:38:03.871Z"
   },
   {
    "duration": 9,
    "start_time": "2021-09-08T11:39:03.706Z"
   },
   {
    "duration": 13,
    "start_time": "2021-09-08T11:42:17.671Z"
   },
   {
    "duration": 28,
    "start_time": "2021-09-08T11:42:27.240Z"
   },
   {
    "duration": 12,
    "start_time": "2021-09-08T11:45:43.224Z"
   },
   {
    "duration": 18,
    "start_time": "2021-09-08T11:45:48.567Z"
   },
   {
    "duration": 12,
    "start_time": "2021-09-08T11:45:52.430Z"
   },
   {
    "duration": 21,
    "start_time": "2021-09-08T11:45:57.542Z"
   },
   {
    "duration": 27,
    "start_time": "2021-09-08T11:46:17.993Z"
   },
   {
    "duration": 373,
    "start_time": "2021-09-08T11:48:12.820Z"
   },
   {
    "duration": 13,
    "start_time": "2021-09-08T11:48:17.193Z"
   },
   {
    "duration": 20,
    "start_time": "2021-09-08T11:48:25.866Z"
   },
   {
    "duration": 16,
    "start_time": "2021-09-08T11:59:49.779Z"
   },
   {
    "duration": 655,
    "start_time": "2021-09-08T12:08:01.898Z"
   },
   {
    "duration": 11,
    "start_time": "2021-09-08T12:08:09.645Z"
   },
   {
    "duration": 5,
    "start_time": "2021-09-08T12:13:35.232Z"
   },
   {
    "duration": 6,
    "start_time": "2021-09-08T12:13:35.717Z"
   },
   {
    "duration": 111,
    "start_time": "2021-09-08T12:15:30.117Z"
   },
   {
    "duration": 8,
    "start_time": "2021-09-08T12:18:06.418Z"
   },
   {
    "duration": 92,
    "start_time": "2021-09-08T12:18:23.066Z"
   },
   {
    "duration": 20,
    "start_time": "2021-09-08T12:20:39.552Z"
   },
   {
    "duration": 4,
    "start_time": "2021-09-08T12:20:41.510Z"
   },
   {
    "duration": 17,
    "start_time": "2021-09-08T12:20:42.261Z"
   },
   {
    "duration": 4044,
    "start_time": "2021-09-08T12:22:10.855Z"
   },
   {
    "duration": -186,
    "start_time": "2021-09-08T12:22:15.087Z"
   },
   {
    "duration": 17,
    "start_time": "2021-09-08T12:22:17.098Z"
   },
   {
    "duration": 12,
    "start_time": "2021-09-08T12:22:53.544Z"
   },
   {
    "duration": 13,
    "start_time": "2021-09-08T12:43:03.513Z"
   },
   {
    "duration": 16,
    "start_time": "2021-09-08T12:43:50.775Z"
   },
   {
    "duration": 22,
    "start_time": "2021-09-08T12:45:49.996Z"
   },
   {
    "duration": 5,
    "start_time": "2021-09-08T12:46:04.064Z"
   },
   {
    "duration": 32,
    "start_time": "2021-09-08T12:46:12.521Z"
   },
   {
    "duration": 106,
    "start_time": "2021-09-08T13:07:25.413Z"
   },
   {
    "duration": 4,
    "start_time": "2021-09-08T13:12:59.848Z"
   },
   {
    "duration": 6,
    "start_time": "2021-09-08T13:13:03.459Z"
   },
   {
    "duration": 5,
    "start_time": "2021-09-08T13:13:10.373Z"
   },
   {
    "duration": 14,
    "start_time": "2021-09-08T13:13:10.782Z"
   },
   {
    "duration": 304,
    "start_time": "2021-09-08T13:14:02.341Z"
   },
   {
    "duration": 4,
    "start_time": "2021-09-08T13:17:20.159Z"
   },
   {
    "duration": 16,
    "start_time": "2021-09-08T13:17:24.858Z"
   },
   {
    "duration": 29,
    "start_time": "2021-09-08T13:17:55.667Z"
   },
   {
    "duration": 32,
    "start_time": "2021-09-08T13:18:09.217Z"
   },
   {
    "duration": 48,
    "start_time": "2021-09-08T13:18:19.702Z"
   },
   {
    "duration": 40,
    "start_time": "2021-09-08T13:18:38.687Z"
   },
   {
    "duration": 48,
    "start_time": "2021-09-08T13:19:10.341Z"
   },
   {
    "duration": 41,
    "start_time": "2021-09-08T13:19:17.108Z"
   },
   {
    "duration": 42,
    "start_time": "2021-09-08T13:19:32.988Z"
   },
   {
    "duration": 44,
    "start_time": "2021-09-08T13:19:41.656Z"
   },
   {
    "duration": 107,
    "start_time": "2021-09-08T13:20:20.215Z"
   },
   {
    "duration": 16,
    "start_time": "2021-09-08T13:21:53.513Z"
   },
   {
    "duration": 27,
    "start_time": "2021-09-08T13:22:39.682Z"
   },
   {
    "duration": 6,
    "start_time": "2021-09-08T13:22:47.466Z"
   },
   {
    "duration": 4,
    "start_time": "2021-09-08T13:24:36.827Z"
   },
   {
    "duration": 47,
    "start_time": "2021-09-08T13:30:21.174Z"
   },
   {
    "duration": 83,
    "start_time": "2021-09-08T13:30:40.550Z"
   },
   {
    "duration": 76,
    "start_time": "2021-09-08T13:31:27.367Z"
   },
   {
    "duration": 94,
    "start_time": "2021-09-08T13:31:40.774Z"
   },
   {
    "duration": 133,
    "start_time": "2021-09-08T13:31:48.857Z"
   },
   {
    "duration": 18,
    "start_time": "2021-09-08T13:33:12.950Z"
   },
   {
    "duration": 265,
    "start_time": "2021-09-08T13:33:57.484Z"
   },
   {
    "duration": 1377,
    "start_time": "2021-09-08T13:35:15.978Z"
   },
   {
    "duration": 13,
    "start_time": "2021-09-08T13:35:30.340Z"
   },
   {
    "duration": 120,
    "start_time": "2021-09-08T13:35:40.154Z"
   },
   {
    "duration": 298,
    "start_time": "2021-09-08T13:37:20.821Z"
   },
   {
    "duration": 4,
    "start_time": "2021-09-08T13:37:40.071Z"
   },
   {
    "duration": 333,
    "start_time": "2021-09-08T13:37:46.213Z"
   },
   {
    "duration": 93,
    "start_time": "2021-09-08T13:38:27.971Z"
   },
   {
    "duration": 110,
    "start_time": "2021-09-08T13:38:37.264Z"
   },
   {
    "duration": 12,
    "start_time": "2021-09-08T13:38:39.989Z"
   },
   {
    "duration": 122,
    "start_time": "2021-09-08T13:39:13.248Z"
   },
   {
    "duration": 75,
    "start_time": "2021-09-08T13:39:32.236Z"
   },
   {
    "duration": 113,
    "start_time": "2021-09-08T13:42:37.047Z"
   },
   {
    "duration": 64,
    "start_time": "2021-09-08T13:42:51.792Z"
   },
   {
    "duration": 80,
    "start_time": "2021-09-08T13:42:56.822Z"
   },
   {
    "duration": 5,
    "start_time": "2021-09-08T13:43:38.892Z"
   },
   {
    "duration": 21,
    "start_time": "2021-09-08T13:43:42.948Z"
   },
   {
    "duration": 90,
    "start_time": "2021-09-08T13:44:12.811Z"
   },
   {
    "duration": 94,
    "start_time": "2021-09-08T13:44:24.289Z"
   },
   {
    "duration": 4,
    "start_time": "2021-09-08T13:45:16.741Z"
   },
   {
    "duration": 21,
    "start_time": "2021-09-08T13:45:18.786Z"
   },
   {
    "duration": 8368,
    "start_time": "2021-09-08T13:45:44.527Z"
   },
   {
    "duration": 11,
    "start_time": "2021-09-08T13:46:05.531Z"
   },
   {
    "duration": 12,
    "start_time": "2021-09-08T13:46:17.724Z"
   },
   {
    "duration": 11,
    "start_time": "2021-09-08T13:46:33.389Z"
   },
   {
    "duration": 107,
    "start_time": "2021-09-08T13:46:56.498Z"
   },
   {
    "duration": 586,
    "start_time": "2021-09-08T13:47:09.850Z"
   },
   {
    "duration": 331,
    "start_time": "2021-09-08T13:47:23.520Z"
   },
   {
    "duration": 4,
    "start_time": "2021-09-08T13:47:28.476Z"
   },
   {
    "duration": 7,
    "start_time": "2021-09-08T13:47:33.133Z"
   },
   {
    "duration": 1397,
    "start_time": "2021-09-08T13:47:38.248Z"
   },
   {
    "duration": 312,
    "start_time": "2021-09-08T13:47:43.286Z"
   },
   {
    "duration": 6711,
    "start_time": "2021-09-08T13:48:15.906Z"
   },
   {
    "duration": 7254,
    "start_time": "2021-09-08T13:48:39.437Z"
   },
   {
    "duration": 94,
    "start_time": "2021-09-08T13:48:47.940Z"
   },
   {
    "duration": 92,
    "start_time": "2021-09-08T13:49:45.138Z"
   },
   {
    "duration": 296,
    "start_time": "2021-09-08T13:49:49.532Z"
   },
   {
    "duration": 115,
    "start_time": "2021-09-08T13:50:01.127Z"
   },
   {
    "duration": 65,
    "start_time": "2021-09-08T13:51:14.202Z"
   },
   {
    "duration": 22,
    "start_time": "2021-09-08T13:52:16.622Z"
   },
   {
    "duration": 289,
    "start_time": "2021-09-08T13:52:24.800Z"
   },
   {
    "duration": 289,
    "start_time": "2021-09-08T13:52:28.228Z"
   },
   {
    "duration": 20,
    "start_time": "2021-09-08T13:52:33.589Z"
   },
   {
    "duration": 21,
    "start_time": "2021-09-08T13:52:51.671Z"
   },
   {
    "duration": 18,
    "start_time": "2021-09-08T14:17:18.433Z"
   },
   {
    "duration": 62,
    "start_time": "2021-09-08T14:18:14.956Z"
   },
   {
    "duration": 4,
    "start_time": "2021-09-08T14:18:15.539Z"
   },
   {
    "duration": 4,
    "start_time": "2021-09-08T14:18:16.028Z"
   },
   {
    "duration": 21,
    "start_time": "2021-09-08T14:18:16.601Z"
   },
   {
    "duration": 19,
    "start_time": "2021-09-08T14:18:35.634Z"
   },
   {
    "duration": 18,
    "start_time": "2021-09-08T14:18:55.975Z"
   },
   {
    "duration": 17,
    "start_time": "2021-09-08T14:19:07.331Z"
   },
   {
    "duration": 16,
    "start_time": "2021-09-08T14:19:11.136Z"
   },
   {
    "duration": 16,
    "start_time": "2021-09-08T14:19:13.953Z"
   },
   {
    "duration": 17,
    "start_time": "2021-09-08T14:19:17.358Z"
   },
   {
    "duration": 17,
    "start_time": "2021-09-08T14:19:29.710Z"
   },
   {
    "duration": 9,
    "start_time": "2021-09-08T14:21:22.216Z"
   },
   {
    "duration": 317,
    "start_time": "2021-09-08T14:21:52.595Z"
   },
   {
    "duration": 307,
    "start_time": "2021-09-08T14:21:56.026Z"
   },
   {
    "duration": 95,
    "start_time": "2021-09-08T14:22:02.292Z"
   },
   {
    "duration": 20,
    "start_time": "2021-09-08T14:22:07.145Z"
   },
   {
    "duration": 4,
    "start_time": "2021-09-08T14:22:28.883Z"
   },
   {
    "duration": 3,
    "start_time": "2021-09-08T14:22:30.136Z"
   },
   {
    "duration": 19,
    "start_time": "2021-09-08T14:22:30.398Z"
   },
   {
    "duration": 15,
    "start_time": "2021-09-08T14:22:55.505Z"
   },
   {
    "duration": 16,
    "start_time": "2021-09-08T14:23:08.906Z"
   },
   {
    "duration": 7,
    "start_time": "2021-09-08T14:33:15.154Z"
   },
   {
    "duration": 280,
    "start_time": "2021-09-08T14:35:01.084Z"
   },
   {
    "duration": 287,
    "start_time": "2021-09-08T14:35:03.447Z"
   },
   {
    "duration": 18,
    "start_time": "2021-09-08T14:36:16.798Z"
   },
   {
    "duration": 95,
    "start_time": "2021-09-08T14:36:18.959Z"
   },
   {
    "duration": 861,
    "start_time": "2021-09-08T14:36:19.895Z"
   },
   {
    "duration": 284,
    "start_time": "2021-09-08T14:37:05.214Z"
   },
   {
    "duration": 59,
    "start_time": "2021-09-08T14:37:08.284Z"
   },
   {
    "duration": 4,
    "start_time": "2021-09-08T14:37:08.970Z"
   },
   {
    "duration": 19,
    "start_time": "2021-09-08T14:37:14.816Z"
   },
   {
    "duration": 4,
    "start_time": "2021-09-08T14:38:35.657Z"
   },
   {
    "duration": 21,
    "start_time": "2021-09-08T14:38:36.134Z"
   },
   {
    "duration": 18,
    "start_time": "2021-09-08T14:41:24.171Z"
   },
   {
    "duration": 611,
    "start_time": "2021-09-08T14:42:06.046Z"
   },
   {
    "duration": 19,
    "start_time": "2021-09-08T14:42:11.489Z"
   },
   {
    "duration": 34,
    "start_time": "2021-09-08T14:43:54.053Z"
   },
   {
    "duration": 17,
    "start_time": "2021-09-08T14:43:59.004Z"
   },
   {
    "duration": 1095,
    "start_time": "2021-09-08T14:44:44.747Z"
   },
   {
    "duration": -679,
    "start_time": "2021-09-08T14:44:46.525Z"
   },
   {
    "duration": 32,
    "start_time": "2021-09-08T14:44:54.479Z"
   },
   {
    "duration": 1083,
    "start_time": "2021-09-08T14:44:57.377Z"
   },
   {
    "duration": 1136,
    "start_time": "2021-09-08T14:45:18.665Z"
   },
   {
    "duration": 4,
    "start_time": "2021-09-08T14:45:28.209Z"
   },
   {
    "duration": 17,
    "start_time": "2021-09-08T14:45:33.868Z"
   },
   {
    "duration": 1070,
    "start_time": "2021-09-08T14:45:47.697Z"
   },
   {
    "duration": 3,
    "start_time": "2021-09-08T14:46:00.119Z"
   },
   {
    "duration": 89,
    "start_time": "2021-09-08T14:46:31.267Z"
   },
   {
    "duration": 1362,
    "start_time": "2021-09-08T14:46:34.326Z"
   },
   {
    "duration": 1081,
    "start_time": "2021-09-08T14:46:38.335Z"
   },
   {
    "duration": 1133,
    "start_time": "2021-09-08T14:47:09.054Z"
   },
   {
    "duration": 1074,
    "start_time": "2021-09-08T14:47:19.364Z"
   },
   {
    "duration": 1079,
    "start_time": "2021-09-08T14:47:24.703Z"
   },
   {
    "duration": 19,
    "start_time": "2021-09-08T14:47:31.653Z"
   },
   {
    "duration": 6,
    "start_time": "2021-09-08T14:47:55.106Z"
   },
   {
    "duration": 4,
    "start_time": "2021-09-08T14:48:17.561Z"
   },
   {
    "duration": 4,
    "start_time": "2021-09-08T14:48:27.821Z"
   },
   {
    "duration": 19,
    "start_time": "2021-09-08T14:48:31.558Z"
   },
   {
    "duration": 17,
    "start_time": "2021-09-08T14:54:42.399Z"
   },
   {
    "duration": 825,
    "start_time": "2021-09-08T14:57:37.625Z"
   },
   {
    "duration": 19,
    "start_time": "2021-09-08T15:43:36.411Z"
   },
   {
    "duration": 661,
    "start_time": "2021-09-08T15:44:30.724Z"
   },
   {
    "duration": 4,
    "start_time": "2021-09-08T15:45:10.613Z"
   },
   {
    "duration": 19,
    "start_time": "2021-09-08T15:45:15.025Z"
   },
   {
    "duration": 756,
    "start_time": "2021-09-08T15:45:25.385Z"
   },
   {
    "duration": 276,
    "start_time": "2021-09-08T15:45:33.839Z"
   },
   {
    "duration": 23,
    "start_time": "2021-09-08T15:45:37.122Z"
   },
   {
    "duration": 4,
    "start_time": "2021-09-08T15:45:37.674Z"
   },
   {
    "duration": 19,
    "start_time": "2021-09-08T15:45:38.533Z"
   },
   {
    "duration": 4,
    "start_time": "2021-09-08T15:46:11.409Z"
   },
   {
    "duration": 18,
    "start_time": "2021-09-08T15:46:15.460Z"
   },
   {
    "duration": 288,
    "start_time": "2021-09-08T15:46:49.411Z"
   },
   {
    "duration": 8,
    "start_time": "2021-09-08T15:47:23.437Z"
   },
   {
    "duration": 18,
    "start_time": "2021-09-08T15:47:26.537Z"
   },
   {
    "duration": 6,
    "start_time": "2021-09-08T15:47:39.677Z"
   },
   {
    "duration": 19,
    "start_time": "2021-09-08T15:47:40.378Z"
   },
   {
    "duration": 24,
    "start_time": "2021-09-08T15:47:53.256Z"
   },
   {
    "duration": 4,
    "start_time": "2021-09-08T15:47:53.654Z"
   },
   {
    "duration": 20,
    "start_time": "2021-09-08T15:47:57.770Z"
   },
   {
    "duration": 6,
    "start_time": "2021-09-08T15:48:06.813Z"
   },
   {
    "duration": 19,
    "start_time": "2021-09-08T15:48:07.646Z"
   },
   {
    "duration": 22,
    "start_time": "2021-09-08T15:48:33.112Z"
   },
   {
    "duration": 26,
    "start_time": "2021-09-08T15:48:37.611Z"
   },
   {
    "duration": 4,
    "start_time": "2021-09-08T15:48:38.087Z"
   },
   {
    "duration": 18,
    "start_time": "2021-09-08T15:48:38.479Z"
   },
   {
    "duration": 7,
    "start_time": "2021-09-08T15:48:39.007Z"
   },
   {
    "duration": 25,
    "start_time": "2021-09-08T15:48:39.524Z"
   },
   {
    "duration": 4,
    "start_time": "2021-09-08T17:05:57.596Z"
   },
   {
    "duration": 4,
    "start_time": "2021-09-08T17:05:58.392Z"
   },
   {
    "duration": 508,
    "start_time": "2021-09-08T17:05:58.647Z"
   },
   {
    "duration": 16,
    "start_time": "2021-09-08T17:05:59.158Z"
   },
   {
    "duration": 9,
    "start_time": "2021-09-08T17:05:59.304Z"
   },
   {
    "duration": 13,
    "start_time": "2021-09-08T17:05:59.745Z"
   },
   {
    "duration": 22,
    "start_time": "2021-09-08T17:05:59.876Z"
   },
   {
    "duration": 13,
    "start_time": "2021-09-08T17:06:00.159Z"
   },
   {
    "duration": 25,
    "start_time": "2021-09-08T17:06:00.309Z"
   },
   {
    "duration": 12,
    "start_time": "2021-09-08T17:06:00.632Z"
   },
   {
    "duration": 19,
    "start_time": "2021-09-08T17:06:00.810Z"
   },
   {
    "duration": 13,
    "start_time": "2021-09-08T17:06:01.305Z"
   },
   {
    "duration": 31,
    "start_time": "2021-09-08T17:06:02.845Z"
   },
   {
    "duration": 8,
    "start_time": "2021-09-08T17:06:03.346Z"
   },
   {
    "duration": 5,
    "start_time": "2021-09-08T17:06:03.659Z"
   },
   {
    "duration": 6,
    "start_time": "2021-09-08T17:06:03.842Z"
   },
   {
    "duration": 86,
    "start_time": "2021-09-08T17:06:04.150Z"
   },
   {
    "duration": 7,
    "start_time": "2021-09-08T17:06:04.679Z"
   },
   {
    "duration": 4,
    "start_time": "2021-09-08T17:06:04.953Z"
   },
   {
    "duration": 17,
    "start_time": "2021-09-08T17:06:05.109Z"
   },
   {
    "duration": 10,
    "start_time": "2021-09-08T17:06:05.318Z"
   },
   {
    "duration": 85,
    "start_time": "2021-09-08T17:06:06.495Z"
   },
   {
    "duration": 37,
    "start_time": "2021-09-08T17:06:06.648Z"
   },
   {
    "duration": 28,
    "start_time": "2021-09-08T17:06:06.808Z"
   },
   {
    "duration": 19,
    "start_time": "2021-09-08T17:06:07.118Z"
   },
   {
    "duration": 106,
    "start_time": "2021-09-08T17:06:07.280Z"
   },
   {
    "duration": 872,
    "start_time": "2021-09-08T17:06:07.434Z"
   },
   {
    "duration": 58,
    "start_time": "2021-09-08T17:06:08.308Z"
   },
   {
    "duration": 4,
    "start_time": "2021-09-08T17:06:08.369Z"
   },
   {
    "duration": 29,
    "start_time": "2021-09-08T17:06:08.375Z"
   },
   {
    "duration": 632,
    "start_time": "2021-09-08T17:06:08.407Z"
   },
   {
    "duration": 42,
    "start_time": "2021-09-08T17:06:09.042Z"
   },
   {
    "duration": 4,
    "start_time": "2021-09-08T17:06:09.086Z"
   },
   {
    "duration": 19,
    "start_time": "2021-09-08T17:06:09.149Z"
   },
   {
    "duration": 820,
    "start_time": "2021-09-08T17:06:09.468Z"
   },
   {
    "duration": 26,
    "start_time": "2021-09-08T17:06:10.291Z"
   },
   {
    "duration": 4,
    "start_time": "2021-09-08T17:06:10.320Z"
   },
   {
    "duration": 43,
    "start_time": "2021-09-08T17:06:10.326Z"
   },
   {
    "duration": 25,
    "start_time": "2021-09-08T17:06:10.372Z"
   },
   {
    "duration": 51,
    "start_time": "2021-09-08T17:06:10.400Z"
   },
   {
    "duration": 27,
    "start_time": "2021-09-08T17:08:20.931Z"
   },
   {
    "duration": 300,
    "start_time": "2021-09-08T17:08:42.712Z"
   },
   {
    "duration": 33,
    "start_time": "2021-09-08T17:08:56.644Z"
   },
   {
    "duration": 25,
    "start_time": "2021-09-08T17:09:35.369Z"
   },
   {
    "duration": 34,
    "start_time": "2021-09-08T17:09:56.482Z"
   },
   {
    "duration": 23,
    "start_time": "2021-09-08T17:10:10.276Z"
   },
   {
    "duration": 28,
    "start_time": "2021-09-08T17:10:19.613Z"
   },
   {
    "duration": 8,
    "start_time": "2021-09-08T17:10:30.661Z"
   },
   {
    "duration": 24,
    "start_time": "2021-09-08T17:10:37.000Z"
   },
   {
    "duration": 11,
    "start_time": "2021-09-08T17:13:26.992Z"
   },
   {
    "duration": 6,
    "start_time": "2021-09-08T17:18:07.988Z"
   },
   {
    "duration": 6,
    "start_time": "2021-09-08T17:18:12.140Z"
   },
   {
    "duration": 5,
    "start_time": "2021-09-08T17:18:17.327Z"
   },
   {
    "duration": 5,
    "start_time": "2021-09-08T17:18:21.972Z"
   },
   {
    "duration": 8,
    "start_time": "2021-09-08T17:18:37.644Z"
   },
   {
    "duration": 11,
    "start_time": "2021-09-08T17:18:41.115Z"
   },
   {
    "duration": 5,
    "start_time": "2021-09-08T17:18:46.255Z"
   },
   {
    "duration": 16,
    "start_time": "2021-09-08T17:19:50.996Z"
   },
   {
    "duration": 29,
    "start_time": "2021-09-08T17:20:35.537Z"
   },
   {
    "duration": 12,
    "start_time": "2021-09-08T17:20:36.261Z"
   },
   {
    "duration": 6,
    "start_time": "2021-09-08T17:20:48.761Z"
   },
   {
    "duration": 5,
    "start_time": "2021-09-08T17:21:00.006Z"
   },
   {
    "duration": 23,
    "start_time": "2021-09-08T17:21:05.723Z"
   },
   {
    "duration": 23,
    "start_time": "2021-09-08T17:21:32.889Z"
   },
   {
    "duration": 21,
    "start_time": "2021-09-08T17:21:41.947Z"
   },
   {
    "duration": 5,
    "start_time": "2021-09-08T17:21:51.019Z"
   },
   {
    "duration": 27,
    "start_time": "2021-09-08T17:21:56.732Z"
   },
   {
    "duration": 22,
    "start_time": "2021-09-08T17:22:06.895Z"
   },
   {
    "duration": 14,
    "start_time": "2021-09-08T17:22:10.978Z"
   },
   {
    "duration": 9,
    "start_time": "2021-09-08T17:22:14.174Z"
   },
   {
    "duration": 8,
    "start_time": "2021-09-08T17:22:23.856Z"
   },
   {
    "duration": 4,
    "start_time": "2021-09-08T17:22:37.421Z"
   },
   {
    "duration": 17,
    "start_time": "2021-09-08T17:22:45.429Z"
   },
   {
    "duration": 17,
    "start_time": "2021-09-08T17:22:55.860Z"
   },
   {
    "duration": 8,
    "start_time": "2021-09-08T17:30:11.127Z"
   },
   {
    "duration": 4,
    "start_time": "2021-09-08T17:30:45.005Z"
   },
   {
    "duration": 15,
    "start_time": "2021-09-08T17:31:07.776Z"
   },
   {
    "duration": 9,
    "start_time": "2021-09-08T17:31:18.300Z"
   },
   {
    "duration": 99,
    "start_time": "2021-09-08T17:31:23.870Z"
   },
   {
    "duration": 11,
    "start_time": "2021-09-08T17:32:24.785Z"
   },
   {
    "duration": 5,
    "start_time": "2021-09-08T17:34:52.308Z"
   },
   {
    "duration": 21,
    "start_time": "2021-09-08T17:35:55.612Z"
   },
   {
    "duration": 16,
    "start_time": "2021-09-08T17:36:00.876Z"
   },
   {
    "duration": 6,
    "start_time": "2021-09-08T17:36:06.450Z"
   },
   {
    "duration": 15,
    "start_time": "2021-09-08T17:36:07.891Z"
   },
   {
    "duration": 15,
    "start_time": "2021-09-08T17:38:55.931Z"
   },
   {
    "duration": 12,
    "start_time": "2021-09-08T17:39:00.673Z"
   },
   {
    "duration": 5,
    "start_time": "2021-09-08T17:46:20.965Z"
   },
   {
    "duration": 19,
    "start_time": "2021-09-08T17:46:21.257Z"
   },
   {
    "duration": 684,
    "start_time": "2021-09-08T17:46:22.377Z"
   },
   {
    "duration": 32,
    "start_time": "2021-09-08T17:46:23.063Z"
   },
   {
    "duration": 3,
    "start_time": "2021-09-08T17:46:23.098Z"
   },
   {
    "duration": 19,
    "start_time": "2021-09-08T17:46:23.497Z"
   },
   {
    "duration": 775,
    "start_time": "2021-09-08T17:46:24.082Z"
   },
   {
    "duration": 25,
    "start_time": "2021-09-08T17:46:24.860Z"
   },
   {
    "duration": 4,
    "start_time": "2021-09-08T17:46:24.887Z"
   },
   {
    "duration": 33,
    "start_time": "2021-09-08T17:46:24.893Z"
   },
   {
    "duration": 8,
    "start_time": "2021-09-08T17:46:24.954Z"
   },
   {
    "duration": 19,
    "start_time": "2021-09-08T17:46:25.263Z"
   },
   {
    "duration": 87,
    "start_time": "2021-09-08T17:46:26.157Z"
   },
   {
    "duration": 8,
    "start_time": "2021-09-08T17:46:26.443Z"
   },
   {
    "duration": 5,
    "start_time": "2021-09-08T17:46:26.728Z"
   },
   {
    "duration": 6,
    "start_time": "2021-09-08T17:46:26.944Z"
   },
   {
    "duration": 14,
    "start_time": "2021-09-08T17:46:27.190Z"
   },
   {
    "duration": 5,
    "start_time": "2021-09-08T17:46:27.496Z"
   },
   {
    "duration": 16,
    "start_time": "2021-09-08T17:46:27.902Z"
   },
   {
    "duration": 12,
    "start_time": "2021-09-08T17:46:28.273Z"
   },
   {
    "duration": 6,
    "start_time": "2021-09-08T17:49:38.008Z"
   },
   {
    "duration": 10,
    "start_time": "2021-09-08T17:49:51.248Z"
   },
   {
    "duration": 10,
    "start_time": "2021-09-08T17:53:04.508Z"
   },
   {
    "duration": 10,
    "start_time": "2021-09-08T17:53:09.761Z"
   },
   {
    "duration": 11,
    "start_time": "2021-09-08T17:53:16.076Z"
   },
   {
    "duration": 12,
    "start_time": "2021-09-08T17:53:20.701Z"
   },
   {
    "duration": 93,
    "start_time": "2021-09-08T17:54:00.713Z"
   },
   {
    "duration": 24,
    "start_time": "2021-09-08T17:59:07.557Z"
   },
   {
    "duration": 89,
    "start_time": "2021-09-08T18:07:25.584Z"
   },
   {
    "duration": 8,
    "start_time": "2021-09-08T18:07:39.844Z"
   },
   {
    "duration": 5,
    "start_time": "2021-09-08T18:09:01.839Z"
   },
   {
    "duration": 8,
    "start_time": "2021-09-08T18:09:13.816Z"
   },
   {
    "duration": 665,
    "start_time": "2021-09-08T18:09:32.771Z"
   },
   {
    "duration": 12,
    "start_time": "2021-09-08T18:09:47.316Z"
   },
   {
    "duration": 4250,
    "start_time": "2021-09-08T18:10:01.316Z"
   },
   {
    "duration": 819,
    "start_time": "2021-09-08T18:10:06.981Z"
   },
   {
    "duration": 11,
    "start_time": "2021-09-08T18:11:02.149Z"
   },
   {
    "duration": 8,
    "start_time": "2021-09-08T18:11:09.419Z"
   },
   {
    "duration": 670,
    "start_time": "2021-09-08T18:11:10.115Z"
   },
   {
    "duration": 8,
    "start_time": "2021-09-08T18:11:31.315Z"
   },
   {
    "duration": 732,
    "start_time": "2021-09-08T18:11:32.066Z"
   },
   {
    "duration": 7,
    "start_time": "2021-09-08T18:12:05.237Z"
   },
   {
    "duration": 596,
    "start_time": "2021-09-08T18:12:05.864Z"
   },
   {
    "duration": 8,
    "start_time": "2021-09-08T18:12:28.895Z"
   },
   {
    "duration": 95,
    "start_time": "2021-09-08T18:13:09.710Z"
   },
   {
    "duration": 9,
    "start_time": "2021-09-08T18:13:14.878Z"
   },
   {
    "duration": 852,
    "start_time": "2021-09-08T18:13:16.539Z"
   },
   {
    "duration": 298,
    "start_time": "2021-09-08T18:13:42.823Z"
   },
   {
    "duration": 16,
    "start_time": "2021-09-08T18:13:56.430Z"
   },
   {
    "duration": 4,
    "start_time": "2021-09-08T18:14:09.906Z"
   },
   {
    "duration": 13,
    "start_time": "2021-09-08T18:14:12.033Z"
   },
   {
    "duration": 25,
    "start_time": "2021-09-08T18:14:17.056Z"
   },
   {
    "duration": 7,
    "start_time": "2021-09-08T18:14:39.275Z"
   },
   {
    "duration": 7,
    "start_time": "2021-09-08T18:15:00.903Z"
   },
   {
    "duration": 6,
    "start_time": "2021-09-08T18:15:08.605Z"
   },
   {
    "duration": 6,
    "start_time": "2021-09-08T18:15:24.803Z"
   },
   {
    "duration": 8,
    "start_time": "2021-09-08T18:15:30.528Z"
   },
   {
    "duration": 8,
    "start_time": "2021-09-08T18:15:50.624Z"
   },
   {
    "duration": 610,
    "start_time": "2021-09-08T18:15:51.246Z"
   },
   {
    "duration": 8,
    "start_time": "2021-09-08T18:16:57.749Z"
   },
   {
    "duration": 606,
    "start_time": "2021-09-08T18:16:58.603Z"
   },
   {
    "duration": 8,
    "start_time": "2021-09-08T18:18:44.849Z"
   },
   {
    "duration": 590,
    "start_time": "2021-09-08T18:18:47.732Z"
   },
   {
    "duration": 5,
    "start_time": "2021-09-08T18:19:29.283Z"
   },
   {
    "duration": 7,
    "start_time": "2021-09-08T18:19:55.259Z"
   },
   {
    "duration": 8,
    "start_time": "2021-09-08T18:20:12.496Z"
   },
   {
    "duration": 682,
    "start_time": "2021-09-08T18:20:13.286Z"
   },
   {
    "duration": 7,
    "start_time": "2021-09-08T18:20:33.520Z"
   },
   {
    "duration": 579,
    "start_time": "2021-09-08T18:20:33.988Z"
   },
   {
    "duration": 6,
    "start_time": "2021-09-08T18:21:22.430Z"
   },
   {
    "duration": 284,
    "start_time": "2021-09-08T18:21:30.414Z"
   },
   {
    "duration": 8,
    "start_time": "2021-09-08T18:23:21.389Z"
   },
   {
    "duration": 614,
    "start_time": "2021-09-08T18:23:22.121Z"
   },
   {
    "duration": 8,
    "start_time": "2021-09-08T18:23:39.562Z"
   },
   {
    "duration": 611,
    "start_time": "2021-09-08T18:23:40.033Z"
   },
   {
    "duration": 8,
    "start_time": "2021-09-08T18:24:48.632Z"
   },
   {
    "duration": 601,
    "start_time": "2021-09-08T18:24:49.459Z"
   },
   {
    "duration": 25,
    "start_time": "2021-09-08T18:33:28.259Z"
   },
   {
    "duration": 26,
    "start_time": "2021-09-08T18:33:56.697Z"
   },
   {
    "duration": 308,
    "start_time": "2021-09-08T18:34:00.230Z"
   },
   {
    "duration": 285,
    "start_time": "2021-09-08T18:35:28.365Z"
   },
   {
    "duration": 6,
    "start_time": "2021-09-08T18:36:07.983Z"
   },
   {
    "duration": 14,
    "start_time": "2021-09-08T18:36:15.541Z"
   },
   {
    "duration": 20,
    "start_time": "2021-09-08T18:36:28.703Z"
   },
   {
    "duration": 13,
    "start_time": "2021-09-08T18:36:35.510Z"
   },
   {
    "duration": 20,
    "start_time": "2021-09-08T18:36:40.976Z"
   },
   {
    "duration": 127,
    "start_time": "2021-09-08T18:39:49.469Z"
   },
   {
    "duration": 6,
    "start_time": "2021-09-08T18:39:54.965Z"
   },
   {
    "duration": 5,
    "start_time": "2021-09-08T18:40:01.916Z"
   },
   {
    "duration": 14,
    "start_time": "2021-09-08T18:40:30.188Z"
   },
   {
    "duration": 8,
    "start_time": "2021-09-08T18:41:18.307Z"
   },
   {
    "duration": 702,
    "start_time": "2021-09-08T18:41:18.760Z"
   },
   {
    "duration": 8,
    "start_time": "2021-09-08T18:41:27.637Z"
   },
   {
    "duration": 598,
    "start_time": "2021-09-08T18:41:28.143Z"
   },
   {
    "duration": 10,
    "start_time": "2021-09-08T18:41:37.194Z"
   },
   {
    "duration": 27,
    "start_time": "2021-09-08T18:42:28.165Z"
   },
   {
    "duration": 8,
    "start_time": "2021-09-08T18:42:54.360Z"
   },
   {
    "duration": 656,
    "start_time": "2021-09-08T18:42:54.960Z"
   },
   {
    "duration": 7,
    "start_time": "2021-09-08T18:43:56.700Z"
   },
   {
    "duration": 641,
    "start_time": "2021-09-08T18:43:57.115Z"
   },
   {
    "duration": 8,
    "start_time": "2021-09-08T18:45:16.884Z"
   },
   {
    "duration": 671,
    "start_time": "2021-09-08T18:45:17.356Z"
   },
   {
    "duration": 266,
    "start_time": "2021-09-08T18:46:13.533Z"
   },
   {
    "duration": 10,
    "start_time": "2021-09-08T18:46:17.829Z"
   },
   {
    "duration": 11,
    "start_time": "2021-09-08T18:47:39.192Z"
   },
   {
    "duration": 320,
    "start_time": "2021-09-08T18:47:59.336Z"
   },
   {
    "duration": 3,
    "start_time": "2021-09-08T18:48:03.149Z"
   },
   {
    "duration": 314,
    "start_time": "2021-09-08T18:48:03.607Z"
   },
   {
    "duration": 282,
    "start_time": "2021-09-08T18:48:12.099Z"
   },
   {
    "duration": 19,
    "start_time": "2021-09-08T18:48:21.968Z"
   },
   {
    "duration": 923,
    "start_time": "2021-09-08T18:48:25.855Z"
   },
   {
    "duration": 916,
    "start_time": "2021-09-08T18:48:31.141Z"
   },
   {
    "duration": 22,
    "start_time": "2021-09-08T18:48:41.863Z"
   },
   {
    "duration": 97,
    "start_time": "2021-09-08T18:48:45.200Z"
   },
   {
    "duration": 811,
    "start_time": "2021-09-08T18:48:50.336Z"
   },
   {
    "duration": 99,
    "start_time": "2021-09-08T18:49:22.331Z"
   },
   {
    "duration": 613,
    "start_time": "2021-09-08T18:49:23.291Z"
   },
   {
    "duration": 95,
    "start_time": "2021-09-08T18:49:35.142Z"
   },
   {
    "duration": 91,
    "start_time": "2021-09-08T18:49:40.270Z"
   },
   {
    "duration": 98,
    "start_time": "2021-09-08T18:49:52.574Z"
   },
   {
    "duration": 126,
    "start_time": "2021-09-08T18:50:01.401Z"
   },
   {
    "duration": 97,
    "start_time": "2021-09-08T18:50:12.788Z"
   },
   {
    "duration": 8,
    "start_time": "2021-09-08T18:50:38.282Z"
   },
   {
    "duration": 631,
    "start_time": "2021-09-08T18:50:43.914Z"
   },
   {
    "duration": 9,
    "start_time": "2021-09-08T18:51:21.040Z"
   },
   {
    "duration": 25,
    "start_time": "2021-09-08T18:51:27.764Z"
   },
   {
    "duration": 1860,
    "start_time": "2021-09-08T18:52:08.646Z"
   },
   {
    "duration": 4,
    "start_time": "2021-09-08T18:52:10.509Z"
   },
   {
    "duration": 521,
    "start_time": "2021-09-08T18:52:10.515Z"
   },
   {
    "duration": 24,
    "start_time": "2021-09-08T18:52:11.038Z"
   },
   {
    "duration": 26,
    "start_time": "2021-09-08T18:52:11.064Z"
   },
   {
    "duration": 22,
    "start_time": "2021-09-08T18:52:11.092Z"
   },
   {
    "duration": 42,
    "start_time": "2021-09-08T18:52:11.116Z"
   },
   {
    "duration": 12,
    "start_time": "2021-09-08T18:52:11.162Z"
   },
   {
    "duration": 42,
    "start_time": "2021-09-08T18:52:11.177Z"
   },
   {
    "duration": 11,
    "start_time": "2021-09-08T18:52:11.221Z"
   },
   {
    "duration": 20,
    "start_time": "2021-09-08T18:52:11.255Z"
   },
   {
    "duration": 12,
    "start_time": "2021-09-08T18:52:11.278Z"
   },
   {
    "duration": 730,
    "start_time": "2021-09-08T18:52:11.293Z"
   },
   {
    "duration": 11,
    "start_time": "2021-09-08T18:52:12.027Z"
   },
   {
    "duration": 7,
    "start_time": "2021-09-08T18:52:12.055Z"
   },
   {
    "duration": 18,
    "start_time": "2021-09-08T18:52:12.065Z"
   },
   {
    "duration": 129,
    "start_time": "2021-09-08T18:52:12.086Z"
   },
   {
    "duration": 7,
    "start_time": "2021-09-08T18:52:12.218Z"
   },
   {
    "duration": 16,
    "start_time": "2021-09-08T18:52:12.228Z"
   },
   {
    "duration": 29,
    "start_time": "2021-09-08T18:52:12.255Z"
   },
   {
    "duration": 16,
    "start_time": "2021-09-08T18:52:12.286Z"
   },
   {
    "duration": 153,
    "start_time": "2021-09-08T18:52:12.306Z"
   },
   {
    "duration": 62,
    "start_time": "2021-09-08T18:52:12.469Z"
   },
   {
    "duration": 45,
    "start_time": "2021-09-08T18:52:12.535Z"
   },
   {
    "duration": 22,
    "start_time": "2021-09-08T18:52:12.583Z"
   },
   {
    "duration": 130,
    "start_time": "2021-09-08T18:52:12.608Z"
   },
   {
    "duration": 1330,
    "start_time": "2021-09-08T18:52:12.741Z"
   },
   {
    "duration": 52,
    "start_time": "2021-09-08T18:52:14.073Z"
   },
   {
    "duration": 5,
    "start_time": "2021-09-08T18:52:14.127Z"
   },
   {
    "duration": 22,
    "start_time": "2021-09-08T18:52:14.154Z"
   },
   {
    "duration": 741,
    "start_time": "2021-09-08T18:52:14.179Z"
   },
   {
    "duration": 48,
    "start_time": "2021-09-08T18:52:14.923Z"
   },
   {
    "duration": 5,
    "start_time": "2021-09-08T18:52:14.973Z"
   },
   {
    "duration": 25,
    "start_time": "2021-09-08T18:52:14.981Z"
   },
   {
    "duration": 876,
    "start_time": "2021-09-08T18:52:15.010Z"
   },
   {
    "duration": 26,
    "start_time": "2021-09-08T18:52:15.888Z"
   },
   {
    "duration": 4,
    "start_time": "2021-09-08T18:52:15.917Z"
   },
   {
    "duration": 44,
    "start_time": "2021-09-08T18:52:15.923Z"
   },
   {
    "duration": 7,
    "start_time": "2021-09-08T18:52:15.970Z"
   },
   {
    "duration": 24,
    "start_time": "2021-09-08T18:52:15.979Z"
   },
   {
    "duration": 53,
    "start_time": "2021-09-08T18:52:16.005Z"
   },
   {
    "duration": 8,
    "start_time": "2021-09-08T18:52:16.061Z"
   },
   {
    "duration": 21,
    "start_time": "2021-09-08T18:52:16.072Z"
   },
   {
    "duration": 25,
    "start_time": "2021-09-08T18:52:16.096Z"
   },
   {
    "duration": 24,
    "start_time": "2021-09-08T18:52:16.124Z"
   },
   {
    "duration": 20,
    "start_time": "2021-09-08T18:52:16.150Z"
   },
   {
    "duration": 40,
    "start_time": "2021-09-08T18:52:16.173Z"
   },
   {
    "duration": 30,
    "start_time": "2021-09-08T18:52:16.215Z"
   },
   {
    "duration": 42,
    "start_time": "2021-09-08T18:52:16.247Z"
   },
   {
    "duration": 11,
    "start_time": "2021-09-08T18:52:16.291Z"
   },
   {
    "duration": 44,
    "start_time": "2021-09-08T18:52:16.304Z"
   },
   {
    "duration": 11,
    "start_time": "2021-09-08T18:52:16.351Z"
   },
   {
    "duration": 756,
    "start_time": "2021-09-08T18:52:16.364Z"
   },
   {
    "duration": -177,
    "start_time": "2021-09-08T18:52:17.299Z"
   },
   {
    "duration": -192,
    "start_time": "2021-09-08T18:52:17.316Z"
   },
   {
    "duration": -208,
    "start_time": "2021-09-08T18:52:17.333Z"
   },
   {
    "duration": 6931,
    "start_time": "2021-09-08T18:54:20.780Z"
   },
   {
    "duration": 17,
    "start_time": "2021-09-08T18:54:31.296Z"
   },
   {
    "duration": 27,
    "start_time": "2021-09-08T18:54:39.002Z"
   },
   {
    "duration": 1457,
    "start_time": "2021-09-08T18:55:10.981Z"
   },
   {
    "duration": 4,
    "start_time": "2021-09-08T18:55:12.440Z"
   },
   {
    "duration": 549,
    "start_time": "2021-09-08T18:55:12.447Z"
   },
   {
    "duration": 21,
    "start_time": "2021-09-08T18:55:12.998Z"
   },
   {
    "duration": 29,
    "start_time": "2021-09-08T18:55:13.021Z"
   },
   {
    "duration": 27,
    "start_time": "2021-09-08T18:55:13.052Z"
   },
   {
    "duration": 40,
    "start_time": "2021-09-08T18:55:13.081Z"
   },
   {
    "duration": 32,
    "start_time": "2021-09-08T18:55:13.125Z"
   },
   {
    "duration": 44,
    "start_time": "2021-09-08T18:55:13.160Z"
   },
   {
    "duration": 10,
    "start_time": "2021-09-08T18:55:13.206Z"
   },
   {
    "duration": 44,
    "start_time": "2021-09-08T18:55:13.218Z"
   },
   {
    "duration": 21,
    "start_time": "2021-09-08T18:55:13.265Z"
   },
   {
    "duration": 1009,
    "start_time": "2021-09-08T18:55:13.289Z"
   },
   {
    "duration": 10,
    "start_time": "2021-09-08T18:55:14.301Z"
   },
   {
    "duration": 16,
    "start_time": "2021-09-08T18:55:14.313Z"
   },
   {
    "duration": 23,
    "start_time": "2021-09-08T18:55:14.332Z"
   },
   {
    "duration": 123,
    "start_time": "2021-09-08T18:55:14.358Z"
   },
   {
    "duration": 8,
    "start_time": "2021-09-08T18:55:14.484Z"
   },
   {
    "duration": 8,
    "start_time": "2021-09-08T18:55:14.495Z"
   },
   {
    "duration": 20,
    "start_time": "2021-09-08T18:55:14.506Z"
   },
   {
    "duration": 33,
    "start_time": "2021-09-08T18:55:14.529Z"
   },
   {
    "duration": 103,
    "start_time": "2021-09-08T18:55:14.565Z"
   },
   {
    "duration": 35,
    "start_time": "2021-09-08T18:55:14.674Z"
   },
   {
    "duration": 50,
    "start_time": "2021-09-08T18:55:14.712Z"
   },
   {
    "duration": 31,
    "start_time": "2021-09-08T18:55:14.764Z"
   },
   {
    "duration": 111,
    "start_time": "2021-09-08T18:55:14.798Z"
   },
   {
    "duration": 919,
    "start_time": "2021-09-08T18:55:14.912Z"
   },
   {
    "duration": 62,
    "start_time": "2021-09-08T18:55:15.834Z"
   },
   {
    "duration": 3,
    "start_time": "2021-09-08T18:55:15.899Z"
   },
   {
    "duration": 26,
    "start_time": "2021-09-08T18:55:15.904Z"
   },
   {
    "duration": 647,
    "start_time": "2021-09-08T18:55:15.933Z"
   },
   {
    "duration": 31,
    "start_time": "2021-09-08T18:55:16.583Z"
   },
   {
    "duration": 4,
    "start_time": "2021-09-08T18:55:16.616Z"
   },
   {
    "duration": 44,
    "start_time": "2021-09-08T18:55:16.622Z"
   },
   {
    "duration": 833,
    "start_time": "2021-09-08T18:55:16.669Z"
   },
   {
    "duration": 26,
    "start_time": "2021-09-08T18:55:17.504Z"
   },
   {
    "duration": 25,
    "start_time": "2021-09-08T18:55:17.532Z"
   },
   {
    "duration": 21,
    "start_time": "2021-09-08T18:55:17.559Z"
   },
   {
    "duration": 13,
    "start_time": "2021-09-08T18:55:17.583Z"
   },
   {
    "duration": 22,
    "start_time": "2021-09-08T18:55:17.598Z"
   },
   {
    "duration": 54,
    "start_time": "2021-09-08T18:55:17.623Z"
   },
   {
    "duration": 9,
    "start_time": "2021-09-08T18:55:17.680Z"
   },
   {
    "duration": 5,
    "start_time": "2021-09-08T18:55:17.692Z"
   },
   {
    "duration": 14,
    "start_time": "2021-09-08T18:55:17.701Z"
   },
   {
    "duration": 14,
    "start_time": "2021-09-08T18:55:17.754Z"
   },
   {
    "duration": 10,
    "start_time": "2021-09-08T18:55:17.772Z"
   },
   {
    "duration": 14,
    "start_time": "2021-09-08T18:55:17.785Z"
   },
   {
    "duration": 57,
    "start_time": "2021-09-08T18:55:17.802Z"
   },
   {
    "duration": 31,
    "start_time": "2021-09-08T18:55:17.862Z"
   },
   {
    "duration": 9,
    "start_time": "2021-09-08T18:55:17.896Z"
   },
   {
    "duration": 769,
    "start_time": "2021-09-08T18:55:17.908Z"
   },
   {
    "duration": -177,
    "start_time": "2021-09-08T18:55:18.857Z"
   },
   {
    "duration": -194,
    "start_time": "2021-09-08T18:55:18.875Z"
   },
   {
    "duration": -214,
    "start_time": "2021-09-08T18:55:18.896Z"
   },
   {
    "duration": 5,
    "start_time": "2021-09-08T19:47:32.606Z"
   },
   {
    "duration": 611,
    "start_time": "2021-09-08T19:47:35.518Z"
   },
   {
    "duration": 6,
    "start_time": "2021-09-08T19:47:53.699Z"
   },
   {
    "duration": 5,
    "start_time": "2021-09-08T19:48:01.699Z"
   },
   {
    "duration": 582,
    "start_time": "2021-09-08T19:48:03.056Z"
   },
   {
    "duration": 5,
    "start_time": "2021-09-08T19:48:15.122Z"
   },
   {
    "duration": 26566,
    "start_time": "2021-09-08T19:48:16.074Z"
   },
   {
    "duration": 5,
    "start_time": "2021-09-08T19:49:35.564Z"
   },
   {
    "duration": 27025,
    "start_time": "2021-09-08T19:49:36.959Z"
   },
   {
    "duration": 5,
    "start_time": "2021-09-08T19:50:39.270Z"
   },
   {
    "duration": 256,
    "start_time": "2021-09-08T19:50:40.521Z"
   },
   {
    "duration": 250,
    "start_time": "2021-09-08T19:51:12.088Z"
   },
   {
    "duration": 20,
    "start_time": "2021-09-08T19:51:26.521Z"
   },
   {
    "duration": 17,
    "start_time": "2021-09-08T19:51:59.504Z"
   },
   {
    "duration": 6,
    "start_time": "2021-09-08T19:52:55.311Z"
   },
   {
    "duration": 8632,
    "start_time": "2021-09-08T19:52:56.489Z"
   },
   {
    "duration": 20,
    "start_time": "2021-09-08T19:53:07.068Z"
   },
   {
    "duration": 5,
    "start_time": "2021-09-08T19:53:21.500Z"
   },
   {
    "duration": 9780,
    "start_time": "2021-09-08T19:53:22.621Z"
   },
   {
    "duration": 20,
    "start_time": "2021-09-08T19:53:37.550Z"
   },
   {
    "duration": 14,
    "start_time": "2021-09-08T19:54:11.847Z"
   },
   {
    "duration": 20,
    "start_time": "2021-09-08T19:54:20.951Z"
   },
   {
    "duration": 7,
    "start_time": "2021-09-08T19:55:07.600Z"
   },
   {
    "duration": 7,
    "start_time": "2021-09-08T19:55:29.359Z"
   },
   {
    "duration": 18,
    "start_time": "2021-09-08T19:56:47.758Z"
   },
   {
    "duration": 579,
    "start_time": "2021-09-08T19:57:14.263Z"
   },
   {
    "duration": 6,
    "start_time": "2021-09-08T19:57:46.252Z"
   },
   {
    "duration": 9798,
    "start_time": "2021-09-08T19:57:47.388Z"
   },
   {
    "duration": 797,
    "start_time": "2021-09-08T19:57:57.189Z"
   },
   {
    "duration": 261,
    "start_time": "2021-09-08T19:58:24.664Z"
   },
   {
    "duration": 269,
    "start_time": "2021-09-08T19:58:28.278Z"
   },
   {
    "duration": 9,
    "start_time": "2021-09-08T19:58:32.264Z"
   },
   {
    "duration": 9,
    "start_time": "2021-09-08T19:58:41.447Z"
   },
   {
    "duration": 11,
    "start_time": "2021-09-08T19:59:45.481Z"
   },
   {
    "duration": 11,
    "start_time": "2021-09-08T20:04:39.219Z"
   },
   {
    "duration": 648,
    "start_time": "2021-09-08T20:04:42.294Z"
   },
   {
    "duration": 645,
    "start_time": "2021-09-08T20:04:57.214Z"
   },
   {
    "duration": 4,
    "start_time": "2021-09-08T20:05:43.974Z"
   },
   {
    "duration": 502,
    "start_time": "2021-09-08T20:05:44.382Z"
   },
   {
    "duration": 8,
    "start_time": "2021-09-08T20:06:10.096Z"
   },
   {
    "duration": 875,
    "start_time": "2021-09-08T20:06:10.782Z"
   },
   {
    "duration": 5,
    "start_time": "2021-09-08T20:06:41.195Z"
   },
   {
    "duration": 19712,
    "start_time": "2021-09-08T20:06:42.586Z"
   },
   {
    "duration": 23,
    "start_time": "2021-09-08T20:07:08.760Z"
   },
   {
    "duration": 5,
    "start_time": "2021-09-08T20:08:03.515Z"
   },
   {
    "duration": 669,
    "start_time": "2021-09-08T20:08:04.639Z"
   },
   {
    "duration": 7,
    "start_time": "2021-09-08T20:08:59.228Z"
   },
   {
    "duration": 36221,
    "start_time": "2021-09-08T20:09:00.113Z"
   },
   {
    "duration": 21,
    "start_time": "2021-09-08T20:09:38.239Z"
   },
   {
    "duration": 20,
    "start_time": "2021-09-08T20:09:40.289Z"
   },
   {
    "duration": 29,
    "start_time": "2021-09-08T20:10:03.322Z"
   },
   {
    "duration": 15,
    "start_time": "2021-09-08T20:14:53.769Z"
   },
   {
    "duration": 9,
    "start_time": "2021-09-08T20:15:04.001Z"
   },
   {
    "duration": 8,
    "start_time": "2021-09-08T20:15:17.269Z"
   },
   {
    "duration": 7,
    "start_time": "2021-09-08T20:15:26.791Z"
   },
   {
    "duration": 5,
    "start_time": "2021-09-08T20:15:34.248Z"
   },
   {
    "duration": 9,
    "start_time": "2021-09-08T20:15:37.867Z"
   },
   {
    "duration": 9,
    "start_time": "2021-09-08T20:15:48.271Z"
   },
   {
    "duration": 294,
    "start_time": "2021-09-08T20:16:01.583Z"
   },
   {
    "duration": 8,
    "start_time": "2021-09-08T20:16:11.652Z"
   },
   {
    "duration": 288,
    "start_time": "2021-09-08T20:16:18.481Z"
   },
   {
    "duration": 8,
    "start_time": "2021-09-08T20:16:23.764Z"
   },
   {
    "duration": 267,
    "start_time": "2021-09-08T20:16:31.272Z"
   },
   {
    "duration": 9,
    "start_time": "2021-09-08T20:16:52.037Z"
   },
   {
    "duration": 710,
    "start_time": "2021-09-08T20:16:55.853Z"
   },
   {
    "duration": 8,
    "start_time": "2021-09-08T20:18:24.677Z"
   },
   {
    "duration": 637,
    "start_time": "2021-09-08T20:18:25.595Z"
   },
   {
    "duration": 8,
    "start_time": "2021-09-08T20:18:50.187Z"
   },
   {
    "duration": 732,
    "start_time": "2021-09-08T20:18:50.665Z"
   },
   {
    "duration": 7003,
    "start_time": "2021-09-08T20:19:28.076Z"
   },
   {
    "duration": 7,
    "start_time": "2021-09-08T20:21:09.450Z"
   },
   {
    "duration": 276,
    "start_time": "2021-09-08T20:21:15.976Z"
   },
   {
    "duration": 6,
    "start_time": "2021-09-08T20:21:20.559Z"
   },
   {
    "duration": 9,
    "start_time": "2021-09-08T20:22:29.769Z"
   },
   {
    "duration": 622,
    "start_time": "2021-09-08T20:22:30.323Z"
   },
   {
    "duration": 9,
    "start_time": "2021-09-08T20:23:18.863Z"
   },
   {
    "duration": 4,
    "start_time": "2021-09-08T20:23:26.096Z"
   },
   {
    "duration": 8,
    "start_time": "2021-09-08T20:24:16.252Z"
   },
   {
    "duration": 603,
    "start_time": "2021-09-08T20:25:46.541Z"
   },
   {
    "duration": 12,
    "start_time": "2021-09-08T20:26:25.963Z"
   },
   {
    "duration": 666,
    "start_time": "2021-09-08T20:26:55.993Z"
   },
   {
    "duration": 625,
    "start_time": "2021-09-08T20:27:55.467Z"
   },
   {
    "duration": 8,
    "start_time": "2021-09-08T20:28:05.510Z"
   },
   {
    "duration": 42,
    "start_time": "2021-09-08T20:28:07.373Z"
   },
   {
    "duration": 23,
    "start_time": "2021-09-08T20:28:14.841Z"
   },
   {
    "duration": 5,
    "start_time": "2021-09-08T20:29:33.235Z"
   },
   {
    "duration": 75,
    "start_time": "2021-09-08T20:29:33.773Z"
   },
   {
    "duration": 21,
    "start_time": "2021-09-08T20:29:35.097Z"
   },
   {
    "duration": 4,
    "start_time": "2021-09-08T20:29:45.676Z"
   },
   {
    "duration": 4,
    "start_time": "2021-09-08T20:29:49.772Z"
   },
   {
    "duration": 72,
    "start_time": "2021-09-08T20:29:50.221Z"
   },
   {
    "duration": 21,
    "start_time": "2021-09-08T20:29:50.619Z"
   },
   {
    "duration": 11,
    "start_time": "2021-09-08T20:29:58.267Z"
   },
   {
    "duration": 5,
    "start_time": "2021-09-08T20:31:31.403Z"
   },
   {
    "duration": 7,
    "start_time": "2021-09-08T20:39:31.807Z"
   },
   {
    "duration": 166,
    "start_time": "2021-09-08T20:39:32.401Z"
   },
   {
    "duration": 21,
    "start_time": "2021-09-08T20:39:33.491Z"
   },
   {
    "duration": 10,
    "start_time": "2021-09-08T20:39:55.877Z"
   },
   {
    "duration": 7,
    "start_time": "2021-09-08T20:45:36.744Z"
   },
   {
    "duration": 163,
    "start_time": "2021-09-08T20:45:37.143Z"
   },
   {
    "duration": 21,
    "start_time": "2021-09-08T20:45:37.649Z"
   },
   {
    "duration": 23,
    "start_time": "2021-09-08T20:47:51.399Z"
   },
   {
    "duration": 22,
    "start_time": "2021-09-08T20:48:03.696Z"
   },
   {
    "duration": 169,
    "start_time": "2021-09-08T21:09:50.308Z"
   },
   {
    "duration": 21,
    "start_time": "2021-09-08T21:09:50.758Z"
   },
   {
    "duration": 1620,
    "start_time": "2021-09-08T21:32:52.923Z"
   },
   {
    "duration": 9,
    "start_time": "2021-09-08T21:32:54.546Z"
   },
   {
    "duration": 528,
    "start_time": "2021-09-08T21:32:54.559Z"
   },
   {
    "duration": 23,
    "start_time": "2021-09-08T21:32:55.091Z"
   },
   {
    "duration": 14,
    "start_time": "2021-09-08T21:32:55.117Z"
   },
   {
    "duration": 16,
    "start_time": "2021-09-08T21:32:55.134Z"
   },
   {
    "duration": 25,
    "start_time": "2021-09-08T21:32:55.155Z"
   },
   {
    "duration": 14,
    "start_time": "2021-09-08T21:32:55.186Z"
   },
   {
    "duration": 65,
    "start_time": "2021-09-08T21:32:55.204Z"
   },
   {
    "duration": 12,
    "start_time": "2021-09-08T21:32:55.272Z"
   },
   {
    "duration": 22,
    "start_time": "2021-09-08T21:32:55.288Z"
   },
   {
    "duration": 45,
    "start_time": "2021-09-08T21:32:55.312Z"
   },
   {
    "duration": 626,
    "start_time": "2021-09-08T21:32:55.359Z"
   },
   {
    "duration": 10,
    "start_time": "2021-09-08T21:32:55.987Z"
   },
   {
    "duration": 7,
    "start_time": "2021-09-08T21:32:55.999Z"
   },
   {
    "duration": 19,
    "start_time": "2021-09-08T21:32:56.008Z"
   },
   {
    "duration": 130,
    "start_time": "2021-09-08T21:32:56.030Z"
   },
   {
    "duration": 7,
    "start_time": "2021-09-08T21:32:56.163Z"
   },
   {
    "duration": 6,
    "start_time": "2021-09-08T21:32:56.173Z"
   },
   {
    "duration": 21,
    "start_time": "2021-09-08T21:32:56.182Z"
   },
   {
    "duration": 11,
    "start_time": "2021-09-08T21:32:56.205Z"
   },
   {
    "duration": 137,
    "start_time": "2021-09-08T21:32:56.218Z"
   },
   {
    "duration": 42,
    "start_time": "2021-09-08T21:32:56.361Z"
   },
   {
    "duration": 51,
    "start_time": "2021-09-08T21:32:56.407Z"
   },
   {
    "duration": 24,
    "start_time": "2021-09-08T21:32:56.461Z"
   },
   {
    "duration": 133,
    "start_time": "2021-09-08T21:32:56.487Z"
   },
   {
    "duration": 896,
    "start_time": "2021-09-08T21:32:56.623Z"
   },
   {
    "duration": 65,
    "start_time": "2021-09-08T21:32:57.522Z"
   },
   {
    "duration": 4,
    "start_time": "2021-09-08T21:32:57.590Z"
   },
   {
    "duration": 52,
    "start_time": "2021-09-08T21:32:57.597Z"
   },
   {
    "duration": 613,
    "start_time": "2021-09-08T21:32:57.652Z"
   },
   {
    "duration": 33,
    "start_time": "2021-09-08T21:32:58.268Z"
   },
   {
    "duration": 5,
    "start_time": "2021-09-08T21:32:58.303Z"
   },
   {
    "duration": 47,
    "start_time": "2021-09-08T21:32:58.311Z"
   },
   {
    "duration": 831,
    "start_time": "2021-09-08T21:32:58.361Z"
   },
   {
    "duration": 26,
    "start_time": "2021-09-08T21:32:59.194Z"
   },
   {
    "duration": 20,
    "start_time": "2021-09-08T21:32:59.223Z"
   },
   {
    "duration": 46,
    "start_time": "2021-09-08T21:32:59.245Z"
   },
   {
    "duration": 23,
    "start_time": "2021-09-08T21:32:59.294Z"
   },
   {
    "duration": 48,
    "start_time": "2021-09-08T21:32:59.319Z"
   },
   {
    "duration": 57,
    "start_time": "2021-09-08T21:32:59.369Z"
   },
   {
    "duration": 8,
    "start_time": "2021-09-08T21:32:59.428Z"
   },
   {
    "duration": 27,
    "start_time": "2021-09-08T21:32:59.439Z"
   },
   {
    "duration": 29,
    "start_time": "2021-09-08T21:32:59.468Z"
   },
   {
    "duration": 33,
    "start_time": "2021-09-08T21:32:59.499Z"
   },
   {
    "duration": 26,
    "start_time": "2021-09-08T21:32:59.535Z"
   },
   {
    "duration": 39,
    "start_time": "2021-09-08T21:32:59.565Z"
   },
   {
    "duration": 44,
    "start_time": "2021-09-08T21:32:59.606Z"
   },
   {
    "duration": 40,
    "start_time": "2021-09-08T21:32:59.652Z"
   },
   {
    "duration": 17,
    "start_time": "2021-09-08T21:32:59.695Z"
   },
   {
    "duration": 198,
    "start_time": "2021-09-08T21:32:59.715Z"
   },
   {
    "duration": 22,
    "start_time": "2021-09-08T21:32:59.915Z"
   },
   {
    "duration": 1133,
    "start_time": "2021-09-10T08:26:24.566Z"
   },
   {
    "duration": 3,
    "start_time": "2021-09-10T08:26:27.717Z"
   },
   {
    "duration": 3,
    "start_time": "2021-09-10T08:26:28.173Z"
   },
   {
    "duration": 1079,
    "start_time": "2021-09-10T08:26:34.250Z"
   },
   {
    "duration": 3,
    "start_time": "2021-09-10T08:26:35.331Z"
   },
   {
    "duration": 425,
    "start_time": "2021-09-10T08:26:35.336Z"
   },
   {
    "duration": 13,
    "start_time": "2021-09-10T08:26:35.763Z"
   },
   {
    "duration": 16,
    "start_time": "2021-09-10T08:26:35.777Z"
   },
   {
    "duration": 18,
    "start_time": "2021-09-10T08:26:35.795Z"
   },
   {
    "duration": 19,
    "start_time": "2021-09-10T08:26:35.815Z"
   },
   {
    "duration": 9,
    "start_time": "2021-09-10T08:26:35.836Z"
   },
   {
    "duration": 21,
    "start_time": "2021-09-10T08:26:35.847Z"
   },
   {
    "duration": 16,
    "start_time": "2021-09-10T08:26:35.870Z"
   },
   {
    "duration": 16,
    "start_time": "2021-09-10T08:26:35.888Z"
   },
   {
    "duration": 9,
    "start_time": "2021-09-10T08:26:35.906Z"
   },
   {
    "duration": 338,
    "start_time": "2021-09-10T08:26:35.916Z"
   },
   {
    "duration": 7,
    "start_time": "2021-09-10T08:26:36.256Z"
   },
   {
    "duration": 8,
    "start_time": "2021-09-10T08:26:36.264Z"
   },
   {
    "duration": 15,
    "start_time": "2021-09-10T08:26:36.273Z"
   },
   {
    "duration": 78,
    "start_time": "2021-09-10T08:26:36.290Z"
   },
   {
    "duration": 5,
    "start_time": "2021-09-10T08:26:36.370Z"
   },
   {
    "duration": 6,
    "start_time": "2021-09-10T08:26:36.384Z"
   },
   {
    "duration": 15,
    "start_time": "2021-09-10T08:26:36.392Z"
   },
   {
    "duration": 8,
    "start_time": "2021-09-10T08:26:36.409Z"
   },
   {
    "duration": 89,
    "start_time": "2021-09-10T08:26:36.418Z"
   },
   {
    "duration": 30,
    "start_time": "2021-09-10T08:26:36.512Z"
   },
   {
    "duration": 39,
    "start_time": "2021-09-10T08:26:36.545Z"
   },
   {
    "duration": 22,
    "start_time": "2021-09-10T08:26:36.586Z"
   },
   {
    "duration": 75,
    "start_time": "2021-09-10T08:26:36.610Z"
   },
   {
    "duration": 600,
    "start_time": "2021-09-10T08:26:36.687Z"
   },
   {
    "duration": 37,
    "start_time": "2021-09-10T08:26:37.289Z"
   },
   {
    "duration": 3,
    "start_time": "2021-09-10T08:26:37.328Z"
   },
   {
    "duration": 33,
    "start_time": "2021-09-10T08:26:37.333Z"
   },
   {
    "duration": 409,
    "start_time": "2021-09-10T08:26:37.368Z"
   },
   {
    "duration": 27,
    "start_time": "2021-09-10T08:26:37.779Z"
   },
   {
    "duration": 3,
    "start_time": "2021-09-10T08:26:37.808Z"
   },
   {
    "duration": 24,
    "start_time": "2021-09-10T08:26:37.813Z"
   },
   {
    "duration": 570,
    "start_time": "2021-09-10T08:26:37.839Z"
   },
   {
    "duration": 19,
    "start_time": "2021-09-10T08:26:38.411Z"
   },
   {
    "duration": 5,
    "start_time": "2021-09-10T08:26:38.432Z"
   },
   {
    "duration": 24,
    "start_time": "2021-09-10T08:26:38.438Z"
   },
   {
    "duration": 12,
    "start_time": "2021-09-10T08:26:38.464Z"
   },
   {
    "duration": 18,
    "start_time": "2021-09-10T08:26:38.484Z"
   },
   {
    "duration": 41,
    "start_time": "2021-09-10T08:26:38.504Z"
   },
   {
    "duration": 6,
    "start_time": "2021-09-10T08:26:38.547Z"
   },
   {
    "duration": 15,
    "start_time": "2021-09-10T08:26:38.555Z"
   },
   {
    "duration": 34,
    "start_time": "2021-09-10T08:26:38.572Z"
   },
   {
    "duration": 32,
    "start_time": "2021-09-10T08:26:38.608Z"
   },
   {
    "duration": 19,
    "start_time": "2021-09-10T08:26:38.642Z"
   },
   {
    "duration": 22,
    "start_time": "2021-09-10T08:26:38.663Z"
   },
   {
    "duration": 13,
    "start_time": "2021-09-10T08:26:38.687Z"
   },
   {
    "duration": 22,
    "start_time": "2021-09-10T08:26:38.701Z"
   },
   {
    "duration": 9,
    "start_time": "2021-09-10T08:26:38.725Z"
   },
   {
    "duration": 121,
    "start_time": "2021-09-10T08:26:38.736Z"
   },
   {
    "duration": 15,
    "start_time": "2021-09-10T08:26:38.859Z"
   },
   {
    "duration": 6,
    "start_time": "2021-09-10T08:26:54.807Z"
   },
   {
    "duration": 172,
    "start_time": "2021-09-10T08:27:02.048Z"
   },
   {
    "duration": 175,
    "start_time": "2021-09-10T08:36:52.252Z"
   },
   {
    "duration": 16,
    "start_time": "2021-09-10T08:53:05.449Z"
   },
   {
    "duration": 4,
    "start_time": "2021-09-10T09:02:31.967Z"
   },
   {
    "duration": 5,
    "start_time": "2021-09-10T09:02:39.348Z"
   },
   {
    "duration": 4,
    "start_time": "2021-09-10T09:02:49.810Z"
   },
   {
    "duration": 4,
    "start_time": "2021-09-10T09:02:50.137Z"
   },
   {
    "duration": 4,
    "start_time": "2021-09-10T09:02:54.601Z"
   },
   {
    "duration": 4,
    "start_time": "2021-09-10T09:02:59.972Z"
   },
   {
    "duration": 5,
    "start_time": "2021-09-10T09:04:09.871Z"
   },
   {
    "duration": 6,
    "start_time": "2021-09-10T09:04:29.972Z"
   },
   {
    "duration": 5,
    "start_time": "2021-09-10T09:07:06.705Z"
   },
   {
    "duration": 5,
    "start_time": "2021-09-10T09:14:44.578Z"
   },
   {
    "duration": 4,
    "start_time": "2021-09-10T09:14:57.907Z"
   },
   {
    "duration": 287,
    "start_time": "2021-09-10T09:15:05.685Z"
   },
   {
    "duration": 5,
    "start_time": "2021-09-10T09:15:09.520Z"
   },
   {
    "duration": 5,
    "start_time": "2021-09-10T09:15:17.966Z"
   },
   {
    "duration": 5,
    "start_time": "2021-09-10T09:15:41.062Z"
   },
   {
    "duration": 5,
    "start_time": "2021-09-10T09:15:51.689Z"
   },
   {
    "duration": 170,
    "start_time": "2021-09-10T09:17:34.004Z"
   },
   {
    "duration": 16531,
    "start_time": "2021-09-10T09:22:11.154Z"
   },
   {
    "duration": 296,
    "start_time": "2021-09-10T09:22:53.714Z"
   },
   {
    "duration": 28462,
    "start_time": "2021-09-10T09:23:02.149Z"
   },
   {
    "duration": 178,
    "start_time": "2021-09-10T09:29:41.497Z"
   },
   {
    "duration": 5,
    "start_time": "2021-09-10T09:30:43.986Z"
   },
   {
    "duration": 11,
    "start_time": "2021-09-10T09:30:48.931Z"
   },
   {
    "duration": 4,
    "start_time": "2021-09-10T09:31:03.607Z"
   },
   {
    "duration": 6,
    "start_time": "2021-09-10T09:31:11.165Z"
   },
   {
    "duration": 184,
    "start_time": "2021-09-10T09:33:23.019Z"
   },
   {
    "duration": 22,
    "start_time": "2021-09-10T09:33:43.638Z"
   },
   {
    "duration": 1310,
    "start_time": "2021-09-10T09:33:55.448Z"
   },
   {
    "duration": 525,
    "start_time": "2021-09-10T09:34:12.552Z"
   },
   {
    "duration": 23,
    "start_time": "2021-09-10T09:34:29.667Z"
   },
   {
    "duration": 16,
    "start_time": "2021-09-10T09:35:00.474Z"
   },
   {
    "duration": 16,
    "start_time": "2021-09-10T09:35:07.596Z"
   },
   {
    "duration": 21,
    "start_time": "2021-09-10T09:35:18.300Z"
   },
   {
    "duration": 318,
    "start_time": "2021-09-10T09:35:26.898Z"
   },
   {
    "duration": 207,
    "start_time": "2021-09-10T09:35:49.746Z"
   },
   {
    "duration": 187,
    "start_time": "2021-09-10T09:36:15.534Z"
   },
   {
    "duration": 18,
    "start_time": "2021-09-10T09:36:24.197Z"
   },
   {
    "duration": 203,
    "start_time": "2021-09-10T09:37:39.576Z"
   },
   {
    "duration": 190,
    "start_time": "2021-09-10T09:37:49.738Z"
   },
   {
    "duration": 200,
    "start_time": "2021-09-10T09:38:16.785Z"
   },
   {
    "duration": 384,
    "start_time": "2021-09-10T09:38:39.901Z"
   },
   {
    "duration": 742,
    "start_time": "2021-09-10T09:38:49.618Z"
   },
   {
    "duration": 15,
    "start_time": "2021-09-10T09:39:01.769Z"
   },
   {
    "duration": 548,
    "start_time": "2021-09-10T09:39:20.880Z"
   },
   {
    "duration": 205,
    "start_time": "2021-09-10T09:39:27.579Z"
   },
   {
    "duration": 243,
    "start_time": "2021-09-10T09:39:55.706Z"
   },
   {
    "duration": 662,
    "start_time": "2021-09-10T09:40:12.243Z"
   },
   {
    "duration": 230,
    "start_time": "2021-09-10T09:40:19.705Z"
   },
   {
    "duration": 249,
    "start_time": "2021-09-10T09:40:39.102Z"
   },
   {
    "duration": 254,
    "start_time": "2021-09-10T09:40:52.066Z"
   },
   {
    "duration": 234,
    "start_time": "2021-09-10T09:41:29.144Z"
   },
   {
    "duration": 245,
    "start_time": "2021-09-10T09:41:37.078Z"
   },
   {
    "duration": 18,
    "start_time": "2021-09-10T09:41:54.116Z"
   },
   {
    "duration": 242,
    "start_time": "2021-09-10T09:42:06.693Z"
   },
   {
    "duration": 231,
    "start_time": "2021-09-10T09:42:10.394Z"
   },
   {
    "duration": 658,
    "start_time": "2021-09-10T09:42:57.884Z"
   },
   {
    "duration": 188,
    "start_time": "2021-09-10T09:43:05.728Z"
   },
   {
    "duration": 213,
    "start_time": "2021-09-10T09:43:21.398Z"
   },
   {
    "duration": 207,
    "start_time": "2021-09-10T09:43:36.255Z"
   },
   {
    "duration": 222,
    "start_time": "2021-09-10T09:43:55.732Z"
   },
   {
    "duration": 430,
    "start_time": "2021-09-10T09:44:01.505Z"
   },
   {
    "duration": 219,
    "start_time": "2021-09-10T09:44:05.222Z"
   },
   {
    "duration": 205,
    "start_time": "2021-09-10T09:44:21.689Z"
   },
   {
    "duration": 193,
    "start_time": "2021-09-10T09:44:28.567Z"
   },
   {
    "duration": 182,
    "start_time": "2021-09-10T09:44:33.941Z"
   },
   {
    "duration": 200,
    "start_time": "2021-09-10T09:44:38.187Z"
   },
   {
    "duration": 199,
    "start_time": "2021-09-10T09:44:45.414Z"
   },
   {
    "duration": 199,
    "start_time": "2021-09-10T09:45:48.914Z"
   },
   {
    "duration": 213,
    "start_time": "2021-09-10T09:45:59.680Z"
   },
   {
    "duration": 215,
    "start_time": "2021-09-10T09:46:06.352Z"
   },
   {
    "duration": 16,
    "start_time": "2021-09-10T09:47:15.302Z"
   },
   {
    "duration": 17,
    "start_time": "2021-09-10T09:47:26.945Z"
   },
   {
    "duration": 224,
    "start_time": "2021-09-10T09:48:43.740Z"
   },
   {
    "duration": 191,
    "start_time": "2021-09-10T09:49:23.121Z"
   },
   {
    "duration": 220,
    "start_time": "2021-09-10T09:49:26.651Z"
   },
   {
    "duration": 209,
    "start_time": "2021-09-10T09:52:06.991Z"
   },
   {
    "duration": 393,
    "start_time": "2021-09-10T09:52:11.231Z"
   },
   {
    "duration": 580,
    "start_time": "2021-09-10T09:52:17.603Z"
   },
   {
    "duration": 242,
    "start_time": "2021-09-10T09:53:00.575Z"
   },
   {
    "duration": 220,
    "start_time": "2021-09-10T09:54:04.483Z"
   },
   {
    "duration": 225,
    "start_time": "2021-09-10T09:54:17.433Z"
   },
   {
    "duration": 228,
    "start_time": "2021-09-10T09:54:21.023Z"
   },
   {
    "duration": 220,
    "start_time": "2021-09-10T09:54:29.555Z"
   },
   {
    "duration": 227,
    "start_time": "2021-09-10T09:54:34.719Z"
   },
   {
    "duration": 233,
    "start_time": "2021-09-10T09:54:43.903Z"
   },
   {
    "duration": 196,
    "start_time": "2021-09-10T09:55:39.321Z"
   },
   {
    "duration": 175,
    "start_time": "2021-09-10T09:55:56.040Z"
   },
   {
    "duration": 175,
    "start_time": "2021-09-10T09:56:28.047Z"
   },
   {
    "duration": 192,
    "start_time": "2021-09-10T09:56:55.036Z"
   },
   {
    "duration": 272,
    "start_time": "2021-09-10T09:57:00.090Z"
   },
   {
    "duration": 197,
    "start_time": "2021-09-10T09:57:04.206Z"
   },
   {
    "duration": 184,
    "start_time": "2021-09-10T09:57:13.500Z"
   },
   {
    "duration": 238,
    "start_time": "2021-09-10T11:03:26.300Z"
   },
   {
    "duration": 229,
    "start_time": "2021-09-10T11:03:34.145Z"
   },
   {
    "duration": 232,
    "start_time": "2021-09-10T11:03:42.547Z"
   },
   {
    "duration": 229,
    "start_time": "2021-09-10T11:03:52.103Z"
   },
   {
    "duration": 245,
    "start_time": "2021-09-10T11:03:56.108Z"
   },
   {
    "duration": 398,
    "start_time": "2021-09-10T11:04:09.850Z"
   },
   {
    "duration": 205,
    "start_time": "2021-09-10T11:04:19.053Z"
   },
   {
    "duration": 175,
    "start_time": "2021-09-10T11:05:26.044Z"
   },
   {
    "duration": 213,
    "start_time": "2021-09-10T11:05:35.858Z"
   },
   {
    "duration": 213,
    "start_time": "2021-09-10T11:05:50.499Z"
   },
   {
    "duration": 187,
    "start_time": "2021-09-10T11:06:06.477Z"
   },
   {
    "duration": 448,
    "start_time": "2021-09-10T11:06:17.616Z"
   },
   {
    "duration": 196,
    "start_time": "2021-09-10T11:06:45.248Z"
   },
   {
    "duration": 217,
    "start_time": "2021-09-10T11:07:16.263Z"
   },
   {
    "duration": 1391,
    "start_time": "2021-09-10T11:07:23.610Z"
   },
   {
    "duration": 216,
    "start_time": "2021-09-10T11:07:30.744Z"
   },
   {
    "duration": 201,
    "start_time": "2021-09-10T11:07:42.597Z"
   },
   {
    "duration": 216,
    "start_time": "2021-09-10T11:07:47.338Z"
   },
   {
    "duration": 200,
    "start_time": "2021-09-10T11:07:55.251Z"
   },
   {
    "duration": 203,
    "start_time": "2021-09-10T11:08:06.336Z"
   },
   {
    "duration": 412,
    "start_time": "2021-09-10T11:08:54.789Z"
   },
   {
    "duration": 190,
    "start_time": "2021-09-10T11:08:58.620Z"
   },
   {
    "duration": 411,
    "start_time": "2021-09-10T11:09:06.080Z"
   },
   {
    "duration": 226,
    "start_time": "2021-09-10T11:09:13.573Z"
   },
   {
    "duration": 186,
    "start_time": "2021-09-10T11:09:38.061Z"
   },
   {
    "duration": 181,
    "start_time": "2021-09-10T11:09:49.499Z"
   },
   {
    "duration": 258,
    "start_time": "2021-09-10T11:10:03.540Z"
   },
   {
    "duration": 307,
    "start_time": "2021-09-10T11:10:47.513Z"
   },
   {
    "duration": 332,
    "start_time": "2021-09-10T11:10:56.455Z"
   },
   {
    "duration": 246,
    "start_time": "2021-09-10T11:11:18.902Z"
   },
   {
    "duration": 333,
    "start_time": "2021-09-10T11:14:36.459Z"
   },
   {
    "duration": 517,
    "start_time": "2021-09-10T11:14:39.170Z"
   },
   {
    "duration": 485,
    "start_time": "2021-09-10T11:14:49.331Z"
   },
   {
    "duration": 419,
    "start_time": "2021-09-10T11:15:25.471Z"
   },
   {
    "duration": 414,
    "start_time": "2021-09-10T11:15:43.872Z"
   },
   {
    "duration": 430,
    "start_time": "2021-09-10T11:16:11.092Z"
   },
   {
    "duration": 433,
    "start_time": "2021-09-10T11:16:30.874Z"
   },
   {
    "duration": 426,
    "start_time": "2021-09-10T11:16:55.338Z"
   },
   {
    "duration": 425,
    "start_time": "2021-09-10T11:17:08.990Z"
   },
   {
    "duration": 400,
    "start_time": "2021-09-10T11:18:23.421Z"
   },
   {
    "duration": 388,
    "start_time": "2021-09-10T11:18:29.144Z"
   },
   {
    "duration": 442,
    "start_time": "2021-09-10T11:19:01.926Z"
   },
   {
    "duration": 232,
    "start_time": "2021-09-10T11:19:36.005Z"
   },
   {
    "duration": 406,
    "start_time": "2021-09-10T11:19:47.427Z"
   },
   {
    "duration": 234,
    "start_time": "2021-09-10T11:19:52.979Z"
   },
   {
    "duration": 249,
    "start_time": "2021-09-10T11:19:57.347Z"
   },
   {
    "duration": 250,
    "start_time": "2021-09-10T11:20:03.857Z"
   },
   {
    "duration": 411,
    "start_time": "2021-09-10T11:20:22.305Z"
   },
   {
    "duration": 246,
    "start_time": "2021-09-10T11:20:28.078Z"
   },
   {
    "duration": 266,
    "start_time": "2021-09-10T11:20:33.109Z"
   },
   {
    "duration": 247,
    "start_time": "2021-09-10T11:20:37.348Z"
   },
   {
    "duration": 249,
    "start_time": "2021-09-10T11:20:42.460Z"
   },
   {
    "duration": 246,
    "start_time": "2021-09-10T11:20:47.949Z"
   },
   {
    "duration": 249,
    "start_time": "2021-09-10T11:20:57.665Z"
   },
   {
    "duration": 252,
    "start_time": "2021-09-10T11:21:18.545Z"
   },
   {
    "duration": 227,
    "start_time": "2021-09-10T11:21:24.035Z"
   },
   {
    "duration": 249,
    "start_time": "2021-09-10T11:21:26.890Z"
   },
   {
    "duration": 427,
    "start_time": "2021-09-10T11:21:30.879Z"
   },
   {
    "duration": 245,
    "start_time": "2021-09-10T11:21:36.957Z"
   },
   {
    "duration": 256,
    "start_time": "2021-09-10T11:21:44.508Z"
   },
   {
    "duration": 247,
    "start_time": "2021-09-10T11:22:01.233Z"
   },
   {
    "duration": 241,
    "start_time": "2021-09-10T11:22:08.027Z"
   },
   {
    "duration": 206,
    "start_time": "2021-09-10T11:22:38.603Z"
   },
   {
    "duration": 230,
    "start_time": "2021-09-10T11:22:54.563Z"
   },
   {
    "duration": 229,
    "start_time": "2021-09-10T11:23:02.010Z"
   },
   {
    "duration": 406,
    "start_time": "2021-09-10T11:23:58.060Z"
   },
   {
    "duration": 259,
    "start_time": "2021-09-10T11:24:02.590Z"
   },
   {
    "duration": 370,
    "start_time": "2021-09-10T11:24:17.104Z"
   },
   {
    "duration": 233,
    "start_time": "2021-09-10T11:24:22.147Z"
   },
   {
    "duration": 226,
    "start_time": "2021-09-10T11:24:26.706Z"
   },
   {
    "duration": 446,
    "start_time": "2021-09-10T11:25:04.784Z"
   },
   {
    "duration": 437,
    "start_time": "2021-09-10T11:25:24.078Z"
   },
   {
    "duration": 186,
    "start_time": "2021-09-10T11:25:54.422Z"
   },
   {
    "duration": 386,
    "start_time": "2021-09-10T11:26:06.329Z"
   },
   {
    "duration": 385,
    "start_time": "2021-09-10T11:26:16.449Z"
   },
   {
    "duration": 417,
    "start_time": "2021-09-10T11:26:36.442Z"
   },
   {
    "duration": 400,
    "start_time": "2021-09-10T11:26:47.217Z"
   },
   {
    "duration": 388,
    "start_time": "2021-09-10T11:26:56.711Z"
   },
   {
    "duration": 384,
    "start_time": "2021-09-10T11:27:10.498Z"
   },
   {
    "duration": 375,
    "start_time": "2021-09-10T11:27:16.678Z"
   },
   {
    "duration": 390,
    "start_time": "2021-09-10T11:27:21.804Z"
   },
   {
    "duration": 395,
    "start_time": "2021-09-10T11:27:25.753Z"
   },
   {
    "duration": 247,
    "start_time": "2021-09-10T11:29:06.753Z"
   },
   {
    "duration": 250,
    "start_time": "2021-09-10T11:29:13.324Z"
   },
   {
    "duration": 397,
    "start_time": "2021-09-10T11:29:24.376Z"
   },
   {
    "duration": 369,
    "start_time": "2021-09-10T11:30:16.269Z"
   },
   {
    "duration": 386,
    "start_time": "2021-09-10T11:30:23.066Z"
   },
   {
    "duration": 384,
    "start_time": "2021-09-10T11:30:52.293Z"
   },
   {
    "duration": 392,
    "start_time": "2021-09-10T11:31:02.733Z"
   },
   {
    "duration": 236,
    "start_time": "2021-09-10T11:32:03.312Z"
   },
   {
    "duration": 232,
    "start_time": "2021-09-10T11:33:23.065Z"
   },
   {
    "duration": 395,
    "start_time": "2021-09-10T11:33:48.774Z"
   },
   {
    "duration": 231,
    "start_time": "2021-09-10T11:33:59.914Z"
   },
   {
    "duration": 412,
    "start_time": "2021-09-10T11:34:24.405Z"
   },
   {
    "duration": 424,
    "start_time": "2021-09-10T11:34:39.980Z"
   },
   {
    "duration": 422,
    "start_time": "2021-09-10T11:34:46.630Z"
   },
   {
    "duration": 417,
    "start_time": "2021-09-10T11:34:56.889Z"
   },
   {
    "duration": 2,
    "start_time": "2021-09-10T11:35:04.952Z"
   },
   {
    "duration": 411,
    "start_time": "2021-09-10T11:35:07.025Z"
   },
   {
    "duration": 2,
    "start_time": "2021-09-10T11:35:11.349Z"
   },
   {
    "duration": 410,
    "start_time": "2021-09-10T11:35:11.712Z"
   },
   {
    "duration": 3,
    "start_time": "2021-09-10T11:35:16.753Z"
   },
   {
    "duration": 403,
    "start_time": "2021-09-10T11:35:17.162Z"
   },
   {
    "duration": 235,
    "start_time": "2021-09-10T11:35:26.453Z"
   },
   {
    "duration": 506,
    "start_time": "2021-09-10T11:35:34.125Z"
   },
   {
    "duration": 395,
    "start_time": "2021-09-10T11:35:46.636Z"
   },
   {
    "duration": 394,
    "start_time": "2021-09-10T11:35:50.801Z"
   },
   {
    "duration": 411,
    "start_time": "2021-09-10T11:35:54.834Z"
   },
   {
    "duration": 69,
    "start_time": "2021-09-10T11:38:59.320Z"
   },
   {
    "duration": 66,
    "start_time": "2021-09-10T11:39:09.060Z"
   },
   {
    "duration": 63,
    "start_time": "2021-09-10T11:39:17.042Z"
   },
   {
    "duration": 60,
    "start_time": "2021-09-10T11:39:27.731Z"
   },
   {
    "duration": 396,
    "start_time": "2021-09-10T11:39:32.709Z"
   },
   {
    "duration": 417,
    "start_time": "2021-09-10T11:39:55.190Z"
   },
   {
    "duration": 431,
    "start_time": "2021-09-10T11:40:08.347Z"
   },
   {
    "duration": 441,
    "start_time": "2021-09-10T11:51:04.265Z"
   },
   {
    "duration": 428,
    "start_time": "2021-09-10T11:51:10.521Z"
   },
   {
    "duration": 423,
    "start_time": "2021-09-10T11:51:13.586Z"
   },
   {
    "duration": 436,
    "start_time": "2021-09-10T11:51:17.754Z"
   },
   {
    "duration": 437,
    "start_time": "2021-09-10T11:51:33.670Z"
   },
   {
    "duration": 429,
    "start_time": "2021-09-10T11:51:39.716Z"
   },
   {
    "duration": 412,
    "start_time": "2021-09-10T11:51:54.212Z"
   },
   {
    "duration": 62,
    "start_time": "2021-09-10T11:54:23.142Z"
   },
   {
    "duration": 82,
    "start_time": "2021-09-10T12:04:03.988Z"
   },
   {
    "duration": 56,
    "start_time": "2021-09-10T12:04:20.048Z"
   },
   {
    "duration": 11,
    "start_time": "2021-09-10T12:04:25.542Z"
   },
   {
    "duration": 5,
    "start_time": "2021-09-10T12:06:34.033Z"
   },
   {
    "duration": 8,
    "start_time": "2021-09-10T12:06:38.088Z"
   },
   {
    "duration": 5,
    "start_time": "2021-09-10T12:07:08.041Z"
   },
   {
    "duration": 5,
    "start_time": "2021-09-10T12:07:19.102Z"
   },
   {
    "duration": 5,
    "start_time": "2021-09-10T12:07:19.611Z"
   },
   {
    "duration": 242,
    "start_time": "2021-09-10T12:07:24.418Z"
   },
   {
    "duration": 432,
    "start_time": "2021-09-10T12:07:25.561Z"
   },
   {
    "duration": 6,
    "start_time": "2021-09-10T12:08:14.224Z"
   },
   {
    "duration": 256,
    "start_time": "2021-09-10T12:10:30.196Z"
   },
   {
    "duration": 277,
    "start_time": "2021-09-10T12:10:43.185Z"
   },
   {
    "duration": 227,
    "start_time": "2021-09-10T12:10:55.444Z"
   },
   {
    "duration": 7,
    "start_time": "2021-09-10T12:23:18.270Z"
   },
   {
    "duration": 6,
    "start_time": "2021-09-10T12:23:19.784Z"
   },
   {
    "duration": 5,
    "start_time": "2021-09-10T12:23:22.833Z"
   },
   {
    "duration": 6,
    "start_time": "2021-09-10T12:23:23.266Z"
   },
   {
    "duration": 236,
    "start_time": "2021-09-10T12:23:23.548Z"
   },
   {
    "duration": 6,
    "start_time": "2021-09-10T12:25:13.735Z"
   },
   {
    "duration": 6,
    "start_time": "2021-09-10T12:25:18.682Z"
   },
   {
    "duration": 6,
    "start_time": "2021-09-10T12:27:44.163Z"
   },
   {
    "duration": 5,
    "start_time": "2021-09-10T12:27:45.250Z"
   },
   {
    "duration": 1575,
    "start_time": "2021-09-10T12:28:01.253Z"
   },
   {
    "duration": 460,
    "start_time": "2021-09-10T12:28:42.486Z"
   },
   {
    "duration": 440,
    "start_time": "2021-09-10T12:29:21.198Z"
   },
   {
    "duration": 231,
    "start_time": "2021-09-10T12:29:45.016Z"
   },
   {
    "duration": 233,
    "start_time": "2021-09-10T12:29:57.992Z"
   },
   {
    "duration": 223,
    "start_time": "2021-09-10T12:30:02.597Z"
   },
   {
    "duration": 6,
    "start_time": "2021-09-10T12:57:02.058Z"
   },
   {
    "duration": 6,
    "start_time": "2021-09-10T12:57:34.122Z"
   },
   {
    "duration": 5,
    "start_time": "2021-09-10T13:05:35.375Z"
   },
   {
    "duration": 220,
    "start_time": "2021-09-10T13:08:46.117Z"
   },
   {
    "duration": 429,
    "start_time": "2021-09-10T13:09:32.689Z"
   },
   {
    "duration": 446,
    "start_time": "2021-09-10T13:10:03.529Z"
   },
   {
    "duration": 312,
    "start_time": "2021-09-10T13:20:13.013Z"
   },
   {
    "duration": 3,
    "start_time": "2021-09-10T13:20:29.767Z"
   },
   {
    "duration": 3,
    "start_time": "2021-09-10T13:20:30.134Z"
   },
   {
    "duration": 384,
    "start_time": "2021-09-10T13:20:30.634Z"
   },
   {
    "duration": 13,
    "start_time": "2021-09-10T13:47:01.392Z"
   },
   {
    "duration": 5,
    "start_time": "2021-09-10T13:47:14.670Z"
   },
   {
    "duration": 9,
    "start_time": "2021-09-10T14:00:14.788Z"
   },
   {
    "duration": 170,
    "start_time": "2021-09-10T14:02:27.064Z"
   },
   {
    "duration": 3,
    "start_time": "2021-09-10T14:02:49.320Z"
   },
   {
    "duration": 6,
    "start_time": "2021-09-10T14:02:54.941Z"
   },
   {
    "duration": 7,
    "start_time": "2021-09-10T14:22:49.044Z"
   },
   {
    "duration": 7,
    "start_time": "2021-09-10T14:23:01.085Z"
   },
   {
    "duration": 63,
    "start_time": "2021-09-10T14:24:49.349Z"
   },
   {
    "duration": 116,
    "start_time": "2021-09-10T14:29:16.626Z"
   },
   {
    "duration": 22,
    "start_time": "2021-09-10T14:31:52.492Z"
   },
   {
    "duration": 12,
    "start_time": "2021-09-10T14:31:57.172Z"
   },
   {
    "duration": 20,
    "start_time": "2021-09-10T14:32:02.192Z"
   },
   {
    "duration": 10,
    "start_time": "2021-09-10T14:33:22.228Z"
   },
   {
    "duration": 5,
    "start_time": "2021-09-10T14:33:55.752Z"
   },
   {
    "duration": 5,
    "start_time": "2021-09-10T14:36:23.514Z"
   },
   {
    "duration": 5,
    "start_time": "2021-09-10T14:36:31.487Z"
   },
   {
    "duration": 5,
    "start_time": "2021-09-10T14:36:35.346Z"
   },
   {
    "duration": 6,
    "start_time": "2021-09-10T14:37:28.351Z"
   },
   {
    "duration": 5,
    "start_time": "2021-09-10T14:40:48.933Z"
   },
   {
    "duration": 8,
    "start_time": "2021-09-10T14:58:03.020Z"
   },
   {
    "duration": 10,
    "start_time": "2021-09-10T14:58:31.442Z"
   },
   {
    "duration": 9,
    "start_time": "2021-09-10T14:59:23.821Z"
   },
   {
    "duration": 9,
    "start_time": "2021-09-10T14:59:28.262Z"
   },
   {
    "duration": 10,
    "start_time": "2021-09-10T14:59:28.684Z"
   },
   {
    "duration": 1068,
    "start_time": "2021-09-10T15:08:46.051Z"
   },
   {
    "duration": 3,
    "start_time": "2021-09-10T15:08:47.120Z"
   },
   {
    "duration": 397,
    "start_time": "2021-09-10T15:08:47.125Z"
   },
   {
    "duration": 13,
    "start_time": "2021-09-10T15:08:47.524Z"
   },
   {
    "duration": 8,
    "start_time": "2021-09-10T15:08:47.539Z"
   },
   {
    "duration": 12,
    "start_time": "2021-09-10T15:08:47.549Z"
   },
   {
    "duration": 21,
    "start_time": "2021-09-10T15:08:47.563Z"
   },
   {
    "duration": 7,
    "start_time": "2021-09-10T15:08:47.587Z"
   },
   {
    "duration": 22,
    "start_time": "2021-09-10T15:08:47.596Z"
   },
   {
    "duration": 6,
    "start_time": "2021-09-10T15:08:47.620Z"
   },
   {
    "duration": 15,
    "start_time": "2021-09-10T15:08:47.628Z"
   },
   {
    "duration": 8,
    "start_time": "2021-09-10T15:08:47.645Z"
   },
   {
    "duration": 297,
    "start_time": "2021-09-10T15:08:47.654Z"
   },
   {
    "duration": 6,
    "start_time": "2021-09-10T15:08:47.953Z"
   },
   {
    "duration": 5,
    "start_time": "2021-09-10T15:08:47.961Z"
   },
   {
    "duration": 17,
    "start_time": "2021-09-10T15:08:47.968Z"
   },
   {
    "duration": 75,
    "start_time": "2021-09-10T15:08:47.987Z"
   },
   {
    "duration": 5,
    "start_time": "2021-09-10T15:08:48.063Z"
   },
   {
    "duration": 4,
    "start_time": "2021-09-10T15:08:48.084Z"
   },
   {
    "duration": 15,
    "start_time": "2021-09-10T15:08:48.089Z"
   },
   {
    "duration": 6,
    "start_time": "2021-09-10T15:08:48.106Z"
   },
   {
    "duration": 88,
    "start_time": "2021-09-10T15:08:48.113Z"
   },
   {
    "duration": 31,
    "start_time": "2021-09-10T15:08:48.205Z"
   },
   {
    "duration": 30,
    "start_time": "2021-09-10T15:08:48.238Z"
   },
   {
    "duration": 35,
    "start_time": "2021-09-10T15:08:48.270Z"
   },
   {
    "duration": 93,
    "start_time": "2021-09-10T15:08:48.307Z"
   },
   {
    "duration": 621,
    "start_time": "2021-09-10T15:08:48.401Z"
   },
   {
    "duration": 36,
    "start_time": "2021-09-10T15:08:49.024Z"
   },
   {
    "duration": 2,
    "start_time": "2021-09-10T15:08:49.062Z"
   },
   {
    "duration": 26,
    "start_time": "2021-09-10T15:08:49.065Z"
   },
   {
    "duration": 429,
    "start_time": "2021-09-10T15:08:49.093Z"
   },
   {
    "duration": 23,
    "start_time": "2021-09-10T15:08:49.524Z"
   },
   {
    "duration": 3,
    "start_time": "2021-09-10T15:08:49.549Z"
   },
   {
    "duration": 32,
    "start_time": "2021-09-10T15:08:49.554Z"
   },
   {
    "duration": 584,
    "start_time": "2021-09-10T15:08:49.588Z"
   },
   {
    "duration": 20,
    "start_time": "2021-09-10T15:08:50.174Z"
   },
   {
    "duration": 3,
    "start_time": "2021-09-10T15:08:50.196Z"
   },
   {
    "duration": 13,
    "start_time": "2021-09-10T15:08:50.201Z"
   },
   {
    "duration": 7,
    "start_time": "2021-09-10T15:08:50.216Z"
   },
   {
    "duration": 21,
    "start_time": "2021-09-10T15:08:50.224Z"
   },
   {
    "duration": 48,
    "start_time": "2021-09-10T15:08:50.247Z"
   },
   {
    "duration": 6,
    "start_time": "2021-09-10T15:08:50.297Z"
   },
   {
    "duration": 3,
    "start_time": "2021-09-10T15:08:50.305Z"
   },
   {
    "duration": 6,
    "start_time": "2021-09-10T15:08:50.310Z"
   },
   {
    "duration": 11,
    "start_time": "2021-09-10T15:08:50.318Z"
   },
   {
    "duration": 6,
    "start_time": "2021-09-10T15:08:50.331Z"
   },
   {
    "duration": 9,
    "start_time": "2021-09-10T15:08:50.339Z"
   },
   {
    "duration": 46,
    "start_time": "2021-09-10T15:08:50.349Z"
   },
   {
    "duration": 18,
    "start_time": "2021-09-10T15:08:50.397Z"
   },
   {
    "duration": 5,
    "start_time": "2021-09-10T15:08:50.416Z"
   },
   {
    "duration": 121,
    "start_time": "2021-09-10T15:08:50.423Z"
   },
   {
    "duration": 15,
    "start_time": "2021-09-10T15:08:50.546Z"
   },
   {
    "duration": 24,
    "start_time": "2021-09-10T15:08:50.563Z"
   },
   {
    "duration": 9,
    "start_time": "2021-09-10T15:08:50.589Z"
   },
   {
    "duration": 7,
    "start_time": "2021-09-10T15:08:50.599Z"
   },
   {
    "duration": 6,
    "start_time": "2021-09-10T15:08:50.607Z"
   },
   {
    "duration": 10,
    "start_time": "2021-09-10T15:08:50.614Z"
   },
   {
    "duration": 265,
    "start_time": "2021-09-10T15:08:50.625Z"
   },
   {
    "duration": 427,
    "start_time": "2021-09-10T15:08:50.891Z"
   },
   {
    "duration": 5,
    "start_time": "2021-09-10T15:08:51.320Z"
   },
   {
    "duration": 8,
    "start_time": "2021-09-10T15:08:51.326Z"
   },
   {
    "duration": 237,
    "start_time": "2021-09-10T15:08:51.336Z"
   },
   {
    "duration": 443,
    "start_time": "2021-09-10T15:08:51.574Z"
   },
   {
    "duration": 5,
    "start_time": "2021-09-10T15:08:52.019Z"
   },
   {
    "duration": 7,
    "start_time": "2021-09-10T15:08:52.026Z"
   },
   {
    "duration": 228,
    "start_time": "2021-09-10T15:08:52.034Z"
   },
   {
    "duration": 507,
    "start_time": "2021-09-10T15:08:52.263Z"
   },
   {
    "duration": 13,
    "start_time": "2021-09-10T15:08:52.774Z"
   },
   {
    "duration": 14,
    "start_time": "2021-09-10T15:08:52.789Z"
   },
   {
    "duration": 25,
    "start_time": "2021-09-10T15:08:52.804Z"
   },
   {
    "duration": 11,
    "start_time": "2021-09-10T15:08:52.831Z"
   },
   {
    "duration": 17,
    "start_time": "2021-09-10T15:08:52.844Z"
   },
   {
    "duration": 5,
    "start_time": "2021-09-10T15:14:52.765Z"
   },
   {
    "duration": 5,
    "start_time": "2021-09-10T15:14:57.785Z"
   },
   {
    "duration": 6,
    "start_time": "2021-09-10T15:15:01.299Z"
   },
   {
    "duration": 5,
    "start_time": "2021-09-10T15:15:14.861Z"
   },
   {
    "duration": 6,
    "start_time": "2021-09-10T15:15:19.162Z"
   },
   {
    "duration": 5,
    "start_time": "2021-09-10T15:15:27.545Z"
   },
   {
    "duration": 5,
    "start_time": "2021-09-10T15:20:22.180Z"
   },
   {
    "duration": 5,
    "start_time": "2021-09-10T15:22:12.118Z"
   },
   {
    "duration": 8,
    "start_time": "2021-09-10T15:22:14.075Z"
   },
   {
    "duration": 5,
    "start_time": "2021-09-10T15:22:14.685Z"
   },
   {
    "duration": 1032,
    "start_time": "2021-09-10T15:28:53.098Z"
   },
   {
    "duration": 3,
    "start_time": "2021-09-10T15:28:54.131Z"
   },
   {
    "duration": 395,
    "start_time": "2021-09-10T15:28:54.136Z"
   },
   {
    "duration": 16,
    "start_time": "2021-09-10T15:28:54.534Z"
   },
   {
    "duration": 12,
    "start_time": "2021-09-10T15:28:54.552Z"
   },
   {
    "duration": 12,
    "start_time": "2021-09-10T15:28:54.566Z"
   },
   {
    "duration": 20,
    "start_time": "2021-09-10T15:28:54.580Z"
   },
   {
    "duration": 9,
    "start_time": "2021-09-10T15:28:54.604Z"
   },
   {
    "duration": 24,
    "start_time": "2021-09-10T15:28:54.615Z"
   },
   {
    "duration": 8,
    "start_time": "2021-09-10T15:28:54.641Z"
   },
   {
    "duration": 37,
    "start_time": "2021-09-10T15:28:54.651Z"
   },
   {
    "duration": 9,
    "start_time": "2021-09-10T15:28:54.690Z"
   },
   {
    "duration": 279,
    "start_time": "2021-09-10T15:28:54.701Z"
   },
   {
    "duration": 7,
    "start_time": "2021-09-10T15:28:54.982Z"
   },
   {
    "duration": 6,
    "start_time": "2021-09-10T15:28:54.990Z"
   },
   {
    "duration": 9,
    "start_time": "2021-09-10T15:28:54.998Z"
   },
   {
    "duration": 91,
    "start_time": "2021-09-10T15:28:55.009Z"
   },
   {
    "duration": 5,
    "start_time": "2021-09-10T15:28:55.102Z"
   },
   {
    "duration": 6,
    "start_time": "2021-09-10T15:28:55.109Z"
   },
   {
    "duration": 19,
    "start_time": "2021-09-10T15:28:55.116Z"
   },
   {
    "duration": 6,
    "start_time": "2021-09-10T15:28:55.136Z"
   },
   {
    "duration": 96,
    "start_time": "2021-09-10T15:28:55.144Z"
   },
   {
    "duration": 41,
    "start_time": "2021-09-10T15:28:55.244Z"
   },
   {
    "duration": 24,
    "start_time": "2021-09-10T15:28:55.288Z"
   },
   {
    "duration": 20,
    "start_time": "2021-09-10T15:28:55.314Z"
   },
   {
    "duration": 86,
    "start_time": "2021-09-10T15:28:55.335Z"
   },
   {
    "duration": 604,
    "start_time": "2021-09-10T15:28:55.423Z"
   },
   {
    "duration": 36,
    "start_time": "2021-09-10T15:28:56.029Z"
   },
   {
    "duration": 3,
    "start_time": "2021-09-10T15:28:56.067Z"
   },
   {
    "duration": 13,
    "start_time": "2021-09-10T15:28:56.084Z"
   },
   {
    "duration": 430,
    "start_time": "2021-09-10T15:28:56.098Z"
   },
   {
    "duration": 23,
    "start_time": "2021-09-10T15:28:56.530Z"
   },
   {
    "duration": 2,
    "start_time": "2021-09-10T15:28:56.555Z"
   },
   {
    "duration": 30,
    "start_time": "2021-09-10T15:28:56.559Z"
   },
   {
    "duration": 560,
    "start_time": "2021-09-10T15:28:56.591Z"
   },
   {
    "duration": 17,
    "start_time": "2021-09-10T15:28:57.153Z"
   },
   {
    "duration": 12,
    "start_time": "2021-09-10T15:28:57.172Z"
   },
   {
    "duration": 12,
    "start_time": "2021-09-10T15:28:57.186Z"
   },
   {
    "duration": 7,
    "start_time": "2021-09-10T15:28:57.199Z"
   },
   {
    "duration": 13,
    "start_time": "2021-09-10T15:28:57.208Z"
   },
   {
    "duration": 20,
    "start_time": "2021-09-10T15:28:57.222Z"
   },
   {
    "duration": 5,
    "start_time": "2021-09-10T15:28:57.243Z"
   },
   {
    "duration": 35,
    "start_time": "2021-09-10T15:28:57.249Z"
   },
   {
    "duration": 5,
    "start_time": "2021-09-10T15:28:57.286Z"
   },
   {
    "duration": 15,
    "start_time": "2021-09-10T15:28:57.292Z"
   },
   {
    "duration": 8,
    "start_time": "2021-09-10T15:28:57.308Z"
   },
   {
    "duration": 11,
    "start_time": "2021-09-10T15:28:57.317Z"
   },
   {
    "duration": 17,
    "start_time": "2021-09-10T15:28:57.330Z"
   },
   {
    "duration": 32,
    "start_time": "2021-09-10T15:28:57.348Z"
   },
   {
    "duration": 7,
    "start_time": "2021-09-10T15:28:57.381Z"
   },
   {
    "duration": 109,
    "start_time": "2021-09-10T15:28:57.390Z"
   },
   {
    "duration": 12,
    "start_time": "2021-09-10T15:28:57.501Z"
   },
   {
    "duration": 14,
    "start_time": "2021-09-10T15:28:57.515Z"
   },
   {
    "duration": 8,
    "start_time": "2021-09-10T15:28:57.531Z"
   },
   {
    "duration": 15,
    "start_time": "2021-09-10T15:28:57.541Z"
   },
   {
    "duration": 21,
    "start_time": "2021-09-10T15:28:57.558Z"
   },
   {
    "duration": 32,
    "start_time": "2021-09-10T15:28:57.581Z"
   },
   {
    "duration": 243,
    "start_time": "2021-09-10T15:28:57.616Z"
   },
   {
    "duration": 438,
    "start_time": "2021-09-10T15:28:57.861Z"
   },
   {
    "duration": 5,
    "start_time": "2021-09-10T15:28:58.301Z"
   },
   {
    "duration": 6,
    "start_time": "2021-09-10T15:28:58.308Z"
   },
   {
    "duration": 242,
    "start_time": "2021-09-10T15:28:58.316Z"
   },
   {
    "duration": 465,
    "start_time": "2021-09-10T15:28:58.560Z"
   },
   {
    "duration": 5,
    "start_time": "2021-09-10T15:28:59.027Z"
   },
   {
    "duration": 16,
    "start_time": "2021-09-10T15:28:59.033Z"
   },
   {
    "duration": 254,
    "start_time": "2021-09-10T15:28:59.050Z"
   },
   {
    "duration": 514,
    "start_time": "2021-09-10T15:28:59.305Z"
   },
   {
    "duration": 9,
    "start_time": "2021-09-10T15:28:59.824Z"
   },
   {
    "duration": 14,
    "start_time": "2021-09-10T15:28:59.834Z"
   },
   {
    "duration": 18,
    "start_time": "2021-09-10T15:28:59.850Z"
   },
   {
    "duration": 19,
    "start_time": "2021-09-10T15:28:59.870Z"
   },
   {
    "duration": 5,
    "start_time": "2021-09-10T15:28:59.891Z"
   },
   {
    "duration": 1526,
    "start_time": "2021-09-10T20:52:42.419Z"
   },
   {
    "duration": 3,
    "start_time": "2021-09-10T20:52:43.948Z"
   },
   {
    "duration": 520,
    "start_time": "2021-09-10T20:52:43.955Z"
   },
   {
    "duration": 20,
    "start_time": "2021-09-10T20:52:44.478Z"
   },
   {
    "duration": 29,
    "start_time": "2021-09-10T20:52:44.500Z"
   },
   {
    "duration": 22,
    "start_time": "2021-09-10T20:52:44.532Z"
   },
   {
    "duration": 40,
    "start_time": "2021-09-10T20:52:44.558Z"
   },
   {
    "duration": 13,
    "start_time": "2021-09-10T20:52:44.602Z"
   },
   {
    "duration": 43,
    "start_time": "2021-09-10T20:52:44.618Z"
   },
   {
    "duration": 11,
    "start_time": "2021-09-10T20:52:44.663Z"
   },
   {
    "duration": 26,
    "start_time": "2021-09-10T20:52:44.676Z"
   },
   {
    "duration": 16,
    "start_time": "2021-09-10T20:52:44.705Z"
   },
   {
    "duration": 1318,
    "start_time": "2021-09-10T20:52:44.724Z"
   },
   {
    "duration": 14,
    "start_time": "2021-09-10T20:52:46.045Z"
   },
   {
    "duration": 22,
    "start_time": "2021-09-10T20:52:46.061Z"
   },
   {
    "duration": 12,
    "start_time": "2021-09-10T20:52:46.085Z"
   },
   {
    "duration": 118,
    "start_time": "2021-09-10T20:52:46.100Z"
   },
   {
    "duration": 7,
    "start_time": "2021-09-10T20:52:46.221Z"
   },
   {
    "duration": 27,
    "start_time": "2021-09-10T20:52:46.231Z"
   },
   {
    "duration": 32,
    "start_time": "2021-09-10T20:52:46.260Z"
   },
   {
    "duration": 16,
    "start_time": "2021-09-10T20:52:46.294Z"
   },
   {
    "duration": 86,
    "start_time": "2021-09-10T20:52:46.313Z"
   },
   {
    "duration": 50,
    "start_time": "2021-09-10T20:52:46.405Z"
   },
   {
    "duration": 30,
    "start_time": "2021-09-10T20:52:46.460Z"
   },
   {
    "duration": 37,
    "start_time": "2021-09-10T20:52:46.492Z"
   },
   {
    "duration": 109,
    "start_time": "2021-09-10T20:52:46.531Z"
   },
   {
    "duration": 864,
    "start_time": "2021-09-10T20:52:46.643Z"
   },
   {
    "duration": 62,
    "start_time": "2021-09-10T20:52:47.509Z"
   },
   {
    "duration": 3,
    "start_time": "2021-09-10T20:52:47.573Z"
   },
   {
    "duration": 28,
    "start_time": "2021-09-10T20:52:47.579Z"
   },
   {
    "duration": 611,
    "start_time": "2021-09-10T20:52:47.609Z"
   },
   {
    "duration": 38,
    "start_time": "2021-09-10T20:52:48.223Z"
   },
   {
    "duration": 4,
    "start_time": "2021-09-10T20:52:48.263Z"
   },
   {
    "duration": 22,
    "start_time": "2021-09-10T20:52:48.270Z"
   },
   {
    "duration": 900,
    "start_time": "2021-09-10T20:52:48.294Z"
   },
   {
    "duration": 41,
    "start_time": "2021-09-10T20:52:49.200Z"
   },
   {
    "duration": 11,
    "start_time": "2021-09-10T20:52:49.245Z"
   },
   {
    "duration": 45,
    "start_time": "2021-09-10T20:52:49.268Z"
   },
   {
    "duration": 23,
    "start_time": "2021-09-10T20:52:49.326Z"
   },
   {
    "duration": 32,
    "start_time": "2021-09-10T20:52:49.365Z"
   },
   {
    "duration": 69,
    "start_time": "2021-09-10T20:52:49.401Z"
   },
   {
    "duration": 8,
    "start_time": "2021-09-10T20:52:49.473Z"
   },
   {
    "duration": 6,
    "start_time": "2021-09-10T20:52:49.483Z"
   },
   {
    "duration": 12,
    "start_time": "2021-09-10T20:52:49.492Z"
   },
   {
    "duration": 16,
    "start_time": "2021-09-10T20:52:49.506Z"
   },
   {
    "duration": 8,
    "start_time": "2021-09-10T20:52:49.555Z"
   },
   {
    "duration": 20,
    "start_time": "2021-09-10T20:52:49.566Z"
   },
   {
    "duration": 20,
    "start_time": "2021-09-10T20:52:49.588Z"
   },
   {
    "duration": 54,
    "start_time": "2021-09-10T20:52:49.611Z"
   },
   {
    "duration": 8,
    "start_time": "2021-09-10T20:52:49.667Z"
   },
   {
    "duration": 182,
    "start_time": "2021-09-10T20:52:49.677Z"
   },
   {
    "duration": 23,
    "start_time": "2021-09-10T20:52:49.862Z"
   },
   {
    "duration": 20,
    "start_time": "2021-09-10T20:52:49.888Z"
   },
   {
    "duration": 17,
    "start_time": "2021-09-10T20:52:49.910Z"
   },
   {
    "duration": 11,
    "start_time": "2021-09-10T20:52:49.954Z"
   },
   {
    "duration": 14,
    "start_time": "2021-09-10T20:52:49.968Z"
   },
   {
    "duration": 15,
    "start_time": "2021-09-10T20:52:49.984Z"
   },
   {
    "duration": 392,
    "start_time": "2021-09-10T20:52:50.002Z"
   },
   {
    "duration": 711,
    "start_time": "2021-09-10T20:52:50.396Z"
   },
   {
    "duration": 8,
    "start_time": "2021-09-10T20:52:51.109Z"
   },
   {
    "duration": 9,
    "start_time": "2021-09-10T20:52:51.120Z"
   },
   {
    "duration": 379,
    "start_time": "2021-09-10T20:52:51.131Z"
   },
   {
    "duration": 714,
    "start_time": "2021-09-10T20:52:51.513Z"
   },
   {
    "duration": 8,
    "start_time": "2021-09-10T20:52:52.230Z"
   },
   {
    "duration": 20,
    "start_time": "2021-09-10T20:52:52.240Z"
   },
   {
    "duration": 368,
    "start_time": "2021-09-10T20:52:52.263Z"
   },
   {
    "duration": 795,
    "start_time": "2021-09-10T20:52:52.634Z"
   },
   {
    "duration": 21,
    "start_time": "2021-09-10T20:52:53.436Z"
   },
   {
    "duration": 20,
    "start_time": "2021-09-10T20:52:53.459Z"
   },
   {
    "duration": 27,
    "start_time": "2021-09-10T20:52:53.482Z"
   },
   {
    "duration": 46,
    "start_time": "2021-09-10T20:52:53.513Z"
   },
   {
    "duration": 9,
    "start_time": "2021-09-10T20:52:53.561Z"
   },
   {
    "duration": 7,
    "start_time": "2021-09-10T21:05:40.653Z"
   },
   {
    "duration": 571,
    "start_time": "2021-09-10T21:16:32.298Z"
   },
   {
    "duration": 582,
    "start_time": "2021-09-10T21:17:21.924Z"
   },
   {
    "duration": 423,
    "start_time": "2021-09-10T21:19:17.623Z"
   },
   {
    "duration": 25,
    "start_time": "2021-09-10T21:19:19.932Z"
   },
   {
    "duration": 53,
    "start_time": "2021-09-10T21:19:51.320Z"
   },
   {
    "duration": 109,
    "start_time": "2021-09-10T21:20:29.370Z"
   },
   {
    "duration": 126,
    "start_time": "2021-09-11T08:27:39.394Z"
   },
   {
    "duration": 335,
    "start_time": "2021-09-11T08:27:45.174Z"
   },
   {
    "duration": 2066,
    "start_time": "2021-09-11T08:27:50.565Z"
   },
   {
    "duration": 354,
    "start_time": "2021-09-11T08:28:00.327Z"
   },
   {
    "duration": 358,
    "start_time": "2021-09-11T08:29:46.589Z"
   },
   {
    "duration": 278,
    "start_time": "2021-09-11T08:30:00.245Z"
   },
   {
    "duration": 4,
    "start_time": "2021-09-11T08:30:05.766Z"
   },
   {
    "duration": 632,
    "start_time": "2021-09-11T08:30:07.399Z"
   },
   {
    "duration": 6,
    "start_time": "2021-09-11T08:30:17.211Z"
   },
   {
    "duration": 60,
    "start_time": "2021-09-11T08:31:26.938Z"
   },
   {
    "duration": 683,
    "start_time": "2021-09-11T08:33:10.363Z"
   },
   {
    "duration": 667,
    "start_time": "2021-09-11T08:38:44.073Z"
   },
   {
    "duration": 1546,
    "start_time": "2021-09-11T08:38:59.576Z"
   },
   {
    "duration": 4,
    "start_time": "2021-09-11T08:39:01.125Z"
   },
   {
    "duration": 576,
    "start_time": "2021-09-11T08:39:01.132Z"
   },
   {
    "duration": 21,
    "start_time": "2021-09-11T08:39:01.711Z"
   },
   {
    "duration": 25,
    "start_time": "2021-09-11T08:39:01.734Z"
   },
   {
    "duration": 37,
    "start_time": "2021-09-11T08:39:01.762Z"
   },
   {
    "duration": 40,
    "start_time": "2021-09-11T08:39:01.802Z"
   },
   {
    "duration": 231,
    "start_time": "2021-09-11T08:39:01.847Z"
   },
   {
    "duration": 17,
    "start_time": "2021-09-11T08:39:02.082Z"
   },
   {
    "duration": 63,
    "start_time": "2021-09-11T08:39:02.102Z"
   },
   {
    "duration": 15,
    "start_time": "2021-09-11T08:39:02.168Z"
   },
   {
    "duration": 37,
    "start_time": "2021-09-11T08:39:02.186Z"
   },
   {
    "duration": 15,
    "start_time": "2021-09-11T08:39:02.225Z"
   },
   {
    "duration": 1362,
    "start_time": "2021-09-11T08:39:02.256Z"
   },
   {
    "duration": 9,
    "start_time": "2021-09-11T08:39:03.621Z"
   },
   {
    "duration": 23,
    "start_time": "2021-09-11T08:39:03.633Z"
   },
   {
    "duration": 7,
    "start_time": "2021-09-11T08:39:03.659Z"
   },
   {
    "duration": 138,
    "start_time": "2021-09-11T08:39:03.668Z"
   },
   {
    "duration": 16,
    "start_time": "2021-09-11T08:39:03.808Z"
   },
   {
    "duration": 30,
    "start_time": "2021-09-11T08:39:03.827Z"
   },
   {
    "duration": 6,
    "start_time": "2021-09-11T08:39:03.859Z"
   },
   {
    "duration": 19,
    "start_time": "2021-09-11T08:39:03.868Z"
   },
   {
    "duration": 8,
    "start_time": "2021-09-11T08:39:03.894Z"
   },
   {
    "duration": 116,
    "start_time": "2021-09-11T08:39:03.906Z"
   },
   {
    "duration": 53,
    "start_time": "2021-09-11T08:39:04.024Z"
   },
   {
    "duration": 49,
    "start_time": "2021-09-11T08:39:04.080Z"
   },
   {
    "duration": 39,
    "start_time": "2021-09-11T08:39:04.132Z"
   },
   {
    "duration": 127,
    "start_time": "2021-09-11T08:39:04.174Z"
   },
   {
    "duration": 960,
    "start_time": "2021-09-11T08:39:04.303Z"
   },
   {
    "duration": 54,
    "start_time": "2021-09-11T08:39:05.266Z"
   },
   {
    "duration": 3,
    "start_time": "2021-09-11T08:39:05.322Z"
   },
   {
    "duration": 41,
    "start_time": "2021-09-11T08:39:05.328Z"
   },
   {
    "duration": 657,
    "start_time": "2021-09-11T08:39:05.372Z"
   },
   {
    "duration": 40,
    "start_time": "2021-09-11T08:39:06.032Z"
   },
   {
    "duration": 3,
    "start_time": "2021-09-11T08:39:06.075Z"
   },
   {
    "duration": 33,
    "start_time": "2021-09-11T08:39:06.080Z"
   },
   {
    "duration": 16,
    "start_time": "2021-09-11T08:39:06.116Z"
   },
   {
    "duration": 830,
    "start_time": "2021-09-11T08:39:06.134Z"
   },
   {
    "duration": 25,
    "start_time": "2021-09-11T08:39:06.967Z"
   },
   {
    "duration": 4,
    "start_time": "2021-09-11T08:39:06.994Z"
   },
   {
    "duration": 24,
    "start_time": "2021-09-11T08:39:07.000Z"
   },
   {
    "duration": 30,
    "start_time": "2021-09-11T08:39:07.026Z"
   },
   {
    "duration": 27,
    "start_time": "2021-09-11T08:39:07.059Z"
   },
   {
    "duration": 37,
    "start_time": "2021-09-11T08:39:07.088Z"
   },
   {
    "duration": 7,
    "start_time": "2021-09-11T08:39:07.127Z"
   },
   {
    "duration": 23,
    "start_time": "2021-09-11T08:39:07.136Z"
   },
   {
    "duration": 21,
    "start_time": "2021-09-11T08:39:07.162Z"
   },
   {
    "duration": 28,
    "start_time": "2021-09-11T08:39:07.185Z"
   },
   {
    "duration": 25,
    "start_time": "2021-09-11T08:39:07.216Z"
   },
   {
    "duration": 28,
    "start_time": "2021-09-11T08:39:07.243Z"
   },
   {
    "duration": 32,
    "start_time": "2021-09-11T08:39:07.275Z"
   },
   {
    "duration": 39,
    "start_time": "2021-09-11T08:39:07.310Z"
   },
   {
    "duration": 7,
    "start_time": "2021-09-11T08:39:07.352Z"
   },
   {
    "duration": 187,
    "start_time": "2021-09-11T08:39:07.362Z"
   },
   {
    "duration": 25,
    "start_time": "2021-09-11T08:39:07.552Z"
   },
   {
    "duration": 18,
    "start_time": "2021-09-11T08:39:07.580Z"
   },
   {
    "duration": 12,
    "start_time": "2021-09-11T08:39:07.601Z"
   },
   {
    "duration": 10,
    "start_time": "2021-09-11T08:39:07.657Z"
   },
   {
    "duration": 9,
    "start_time": "2021-09-11T08:39:07.670Z"
   },
   {
    "duration": 16,
    "start_time": "2021-09-11T08:39:07.681Z"
   },
   {
    "duration": 763,
    "start_time": "2021-09-11T08:39:07.699Z"
   },
   {
    "duration": 1400,
    "start_time": "2021-09-11T08:39:08.466Z"
   },
   {
    "duration": 756,
    "start_time": "2021-09-11T08:39:09.869Z"
   },
   {
    "duration": 9,
    "start_time": "2021-09-11T08:39:10.627Z"
   },
   {
    "duration": 24,
    "start_time": "2021-09-11T08:39:10.638Z"
   },
   {
    "duration": 381,
    "start_time": "2021-09-11T08:39:10.665Z"
   },
   {
    "duration": 879,
    "start_time": "2021-09-11T08:39:11.049Z"
   },
   {
    "duration": 8,
    "start_time": "2021-09-11T08:39:11.936Z"
   },
   {
    "duration": 8,
    "start_time": "2021-09-11T08:39:11.957Z"
   },
   {
    "duration": 384,
    "start_time": "2021-09-11T08:39:11.968Z"
   },
   {
    "duration": 851,
    "start_time": "2021-09-11T08:39:12.354Z"
   },
   {
    "duration": 69,
    "start_time": "2021-09-11T08:39:13.208Z"
   },
   {
    "duration": 111,
    "start_time": "2021-09-11T08:39:13.279Z"
   },
   {
    "duration": 11,
    "start_time": "2021-09-11T08:39:13.392Z"
   },
   {
    "duration": 14,
    "start_time": "2021-09-11T08:39:13.405Z"
   },
   {
    "duration": 53,
    "start_time": "2021-09-11T08:39:13.421Z"
   },
   {
    "duration": 15,
    "start_time": "2021-09-11T08:39:13.477Z"
   },
   {
    "duration": 9,
    "start_time": "2021-09-11T08:39:13.495Z"
   },
   {
    "duration": 14,
    "start_time": "2021-09-11T08:39:46.765Z"
   },
   {
    "duration": 26,
    "start_time": "2021-09-11T08:40:03.145Z"
   },
   {
    "duration": 11,
    "start_time": "2021-09-11T08:40:59.577Z"
   },
   {
    "duration": 8,
    "start_time": "2021-09-11T08:42:43.859Z"
   },
   {
    "duration": 430,
    "start_time": "2021-09-11T08:44:33.993Z"
   },
   {
    "duration": 12,
    "start_time": "2021-09-11T08:44:37.602Z"
   },
   {
    "duration": 7,
    "start_time": "2021-09-11T08:49:26.162Z"
   },
   {
    "duration": 12,
    "start_time": "2021-09-11T08:49:30.909Z"
   },
   {
    "duration": 177,
    "start_time": "2021-09-11T08:49:37.051Z"
   },
   {
    "duration": 28,
    "start_time": "2021-09-11T08:49:37.687Z"
   },
   {
    "duration": 7,
    "start_time": "2021-09-11T08:50:03.420Z"
   },
   {
    "duration": 164,
    "start_time": "2021-09-11T08:50:04.571Z"
   },
   {
    "duration": 26,
    "start_time": "2021-09-11T08:50:05.183Z"
   },
   {
    "duration": 370,
    "start_time": "2021-09-11T08:54:11.608Z"
   },
   {
    "duration": 370,
    "start_time": "2021-09-11T08:54:15.657Z"
   },
   {
    "duration": 4,
    "start_time": "2021-09-11T08:54:31.985Z"
   },
   {
    "duration": 370,
    "start_time": "2021-09-11T08:54:34.066Z"
   },
   {
    "duration": 366,
    "start_time": "2021-09-11T09:26:00.045Z"
   },
   {
    "duration": 92,
    "start_time": "2021-09-11T09:28:08.780Z"
   },
   {
    "duration": 1522,
    "start_time": "2021-09-11T09:31:36.281Z"
   },
   {
    "duration": 4,
    "start_time": "2021-09-11T09:31:37.806Z"
   },
   {
    "duration": 559,
    "start_time": "2021-09-11T09:31:37.813Z"
   },
   {
    "duration": 22,
    "start_time": "2021-09-11T09:31:38.375Z"
   },
   {
    "duration": 12,
    "start_time": "2021-09-11T09:31:38.400Z"
   },
   {
    "duration": 16,
    "start_time": "2021-09-11T09:31:38.415Z"
   },
   {
    "duration": 55,
    "start_time": "2021-09-11T09:31:38.434Z"
   },
   {
    "duration": 196,
    "start_time": "2021-09-11T09:31:38.493Z"
   },
   {
    "duration": 12,
    "start_time": "2021-09-11T09:31:38.692Z"
   },
   {
    "duration": 28,
    "start_time": "2021-09-11T09:31:38.706Z"
   },
   {
    "duration": 14,
    "start_time": "2021-09-11T09:31:38.756Z"
   },
   {
    "duration": 21,
    "start_time": "2021-09-11T09:31:38.773Z"
   },
   {
    "duration": 15,
    "start_time": "2021-09-11T09:31:38.797Z"
   },
   {
    "duration": 634,
    "start_time": "2021-09-11T09:31:38.815Z"
   },
   {
    "duration": 10,
    "start_time": "2021-09-11T09:31:39.458Z"
   },
   {
    "duration": 10,
    "start_time": "2021-09-11T09:31:39.471Z"
   },
   {
    "duration": 13,
    "start_time": "2021-09-11T09:31:39.483Z"
   },
   {
    "duration": 141,
    "start_time": "2021-09-11T09:31:39.499Z"
   },
   {
    "duration": 25,
    "start_time": "2021-09-11T09:31:39.643Z"
   },
   {
    "duration": 7,
    "start_time": "2021-09-11T09:31:39.671Z"
   },
   {
    "duration": 7,
    "start_time": "2021-09-11T09:31:39.680Z"
   },
   {
    "duration": 24,
    "start_time": "2021-09-11T09:31:39.689Z"
   },
   {
    "duration": 38,
    "start_time": "2021-09-11T09:31:39.719Z"
   },
   {
    "duration": 102,
    "start_time": "2021-09-11T09:31:39.761Z"
   },
   {
    "duration": 51,
    "start_time": "2021-09-11T09:31:39.866Z"
   },
   {
    "duration": 50,
    "start_time": "2021-09-11T09:31:39.920Z"
   },
   {
    "duration": 23,
    "start_time": "2021-09-11T09:31:39.973Z"
   },
   {
    "duration": 141,
    "start_time": "2021-09-11T09:31:39.998Z"
   },
   {
    "duration": 959,
    "start_time": "2021-09-11T09:31:40.141Z"
   },
   {
    "duration": 58,
    "start_time": "2021-09-11T09:31:41.102Z"
   },
   {
    "duration": 4,
    "start_time": "2021-09-11T09:31:41.163Z"
   },
   {
    "duration": 35,
    "start_time": "2021-09-11T09:31:41.170Z"
   },
   {
    "duration": 673,
    "start_time": "2021-09-11T09:31:41.208Z"
   },
   {
    "duration": 33,
    "start_time": "2021-09-11T09:31:41.884Z"
   },
   {
    "duration": 4,
    "start_time": "2021-09-11T09:31:41.919Z"
   },
   {
    "duration": 48,
    "start_time": "2021-09-11T09:31:41.925Z"
   },
   {
    "duration": 1283,
    "start_time": "2021-09-11T09:31:41.975Z"
   },
   {
    "duration": 28,
    "start_time": "2021-09-11T09:31:43.264Z"
   },
   {
    "duration": 4,
    "start_time": "2021-09-11T09:31:43.294Z"
   },
   {
    "duration": 26,
    "start_time": "2021-09-11T09:31:43.300Z"
   },
   {
    "duration": 35,
    "start_time": "2021-09-11T09:31:43.328Z"
   },
   {
    "duration": 21,
    "start_time": "2021-09-11T09:31:43.365Z"
   },
   {
    "duration": 19,
    "start_time": "2021-09-11T09:31:43.388Z"
   },
   {
    "duration": 35,
    "start_time": "2021-09-11T09:31:43.410Z"
   },
   {
    "duration": 24,
    "start_time": "2021-09-11T09:31:43.448Z"
   },
   {
    "duration": 5,
    "start_time": "2021-09-11T09:31:43.474Z"
   },
   {
    "duration": 8,
    "start_time": "2021-09-11T09:31:43.481Z"
   },
   {
    "duration": 15,
    "start_time": "2021-09-11T09:31:43.492Z"
   },
   {
    "duration": 8,
    "start_time": "2021-09-11T09:31:43.510Z"
   },
   {
    "duration": 45,
    "start_time": "2021-09-11T09:31:43.521Z"
   },
   {
    "duration": 18,
    "start_time": "2021-09-11T09:31:43.569Z"
   },
   {
    "duration": 33,
    "start_time": "2021-09-11T09:31:43.589Z"
   },
   {
    "duration": 7,
    "start_time": "2021-09-11T09:31:43.624Z"
   },
   {
    "duration": 200,
    "start_time": "2021-09-11T09:31:43.633Z"
   },
   {
    "duration": 39,
    "start_time": "2021-09-11T09:31:43.836Z"
   },
   {
    "duration": 19,
    "start_time": "2021-09-11T09:31:43.877Z"
   },
   {
    "duration": 18,
    "start_time": "2021-09-11T09:31:43.898Z"
   },
   {
    "duration": 16,
    "start_time": "2021-09-11T09:31:43.919Z"
   },
   {
    "duration": 33,
    "start_time": "2021-09-11T09:31:43.937Z"
   },
   {
    "duration": 12,
    "start_time": "2021-09-11T09:31:43.973Z"
   },
   {
    "duration": 9,
    "start_time": "2021-09-11T09:31:43.987Z"
   },
   {
    "duration": 420,
    "start_time": "2021-09-11T09:31:43.998Z"
   },
   {
    "duration": 693,
    "start_time": "2021-09-11T09:31:44.421Z"
   },
   {
    "duration": 855,
    "start_time": "2021-09-11T09:31:45.117Z"
   },
   {
    "duration": 7,
    "start_time": "2021-09-11T09:31:45.975Z"
   },
   {
    "duration": 15,
    "start_time": "2021-09-11T09:31:45.985Z"
   },
   {
    "duration": 629,
    "start_time": "2021-09-11T09:31:46.057Z"
   },
   {
    "duration": 903,
    "start_time": "2021-09-11T09:31:46.694Z"
   },
   {
    "duration": 8,
    "start_time": "2021-09-11T09:31:47.600Z"
   },
   {
    "duration": 12,
    "start_time": "2021-09-11T09:31:47.611Z"
   },
   {
    "duration": 654,
    "start_time": "2021-09-11T09:31:47.657Z"
   },
   {
    "duration": 780,
    "start_time": "2021-09-11T09:31:48.314Z"
   },
   {
    "duration": 70,
    "start_time": "2021-09-11T09:31:49.096Z"
   },
   {
    "duration": 109,
    "start_time": "2021-09-11T09:31:49.172Z"
   },
   {
    "duration": 13,
    "start_time": "2021-09-11T09:31:49.284Z"
   },
   {
    "duration": 10,
    "start_time": "2021-09-11T09:31:49.299Z"
   },
   {
    "duration": 63,
    "start_time": "2021-09-11T09:31:49.312Z"
   },
   {
    "duration": 13,
    "start_time": "2021-09-11T09:31:49.378Z"
   },
   {
    "duration": 8,
    "start_time": "2021-09-11T09:31:49.394Z"
   },
   {
    "duration": 384,
    "start_time": "2021-09-11T09:32:50.391Z"
   },
   {
    "duration": 400,
    "start_time": "2021-09-11T09:33:03.503Z"
   },
   {
    "duration": 410,
    "start_time": "2021-09-11T09:33:09.422Z"
   },
   {
    "duration": 399,
    "start_time": "2021-09-11T09:33:18.981Z"
   },
   {
    "duration": 1508,
    "start_time": "2021-09-11T13:58:16.217Z"
   },
   {
    "duration": 4,
    "start_time": "2021-09-11T13:58:17.727Z"
   },
   {
    "duration": 539,
    "start_time": "2021-09-11T13:58:17.734Z"
   },
   {
    "duration": 20,
    "start_time": "2021-09-11T13:58:18.276Z"
   },
   {
    "duration": 15,
    "start_time": "2021-09-11T13:58:18.299Z"
   },
   {
    "duration": 17,
    "start_time": "2021-09-11T13:58:18.317Z"
   },
   {
    "duration": 31,
    "start_time": "2021-09-11T13:58:18.336Z"
   },
   {
    "duration": 202,
    "start_time": "2021-09-11T13:58:18.371Z"
   },
   {
    "duration": 12,
    "start_time": "2021-09-11T13:58:18.576Z"
   },
   {
    "duration": 28,
    "start_time": "2021-09-11T13:58:18.590Z"
   },
   {
    "duration": 36,
    "start_time": "2021-09-11T13:58:18.621Z"
   },
   {
    "duration": 24,
    "start_time": "2021-09-11T13:58:18.660Z"
   },
   {
    "duration": 11,
    "start_time": "2021-09-11T13:58:18.687Z"
   },
   {
    "duration": 5958,
    "start_time": "2021-09-11T13:58:18.700Z"
   },
   {
    "duration": 10,
    "start_time": "2021-09-11T13:58:24.661Z"
   },
   {
    "duration": 8,
    "start_time": "2021-09-11T13:58:24.673Z"
   },
   {
    "duration": 12,
    "start_time": "2021-09-11T13:58:24.684Z"
   },
   {
    "duration": 137,
    "start_time": "2021-09-11T13:58:24.698Z"
   },
   {
    "duration": 5,
    "start_time": "2021-09-11T13:58:28.689Z"
   },
   {
    "duration": 13,
    "start_time": "2021-09-11T13:58:28.697Z"
   },
   {
    "duration": 537,
    "start_time": "2021-09-11T13:58:28.714Z"
   },
   {
    "duration": 16,
    "start_time": "2021-09-11T13:58:29.253Z"
   },
   {
    "duration": 13,
    "start_time": "2021-09-11T13:58:29.271Z"
   },
   {
    "duration": 20,
    "start_time": "2021-09-11T13:58:29.286Z"
   },
   {
    "duration": 27,
    "start_time": "2021-09-11T13:58:29.309Z"
   },
   {
    "duration": 204,
    "start_time": "2021-09-11T13:58:29.338Z"
   },
   {
    "duration": 19,
    "start_time": "2021-09-11T13:58:29.546Z"
   },
   {
    "duration": 29,
    "start_time": "2021-09-11T13:58:29.567Z"
   },
   {
    "duration": 10,
    "start_time": "2021-09-11T13:58:29.599Z"
   },
   {
    "duration": 51,
    "start_time": "2021-09-11T13:58:29.611Z"
   },
   {
    "duration": 10,
    "start_time": "2021-09-11T13:58:29.664Z"
   },
   {
    "duration": 30,
    "start_time": "2021-09-11T13:58:29.677Z"
   },
   {
    "duration": 10,
    "start_time": "2021-09-11T13:58:29.710Z"
   },
   {
    "duration": 38,
    "start_time": "2021-09-11T13:58:29.722Z"
   },
   {
    "duration": 13,
    "start_time": "2021-09-11T13:58:29.762Z"
   },
   {
    "duration": 72,
    "start_time": "2021-09-11T13:58:40.818Z"
   },
   {
    "duration": 8,
    "start_time": "2021-09-11T13:58:49.627Z"
   },
   {
    "duration": 64,
    "start_time": "2021-09-11T13:59:24.080Z"
   },
   {
    "duration": 59,
    "start_time": "2021-09-11T14:03:36.769Z"
   },
   {
    "duration": 7,
    "start_time": "2021-09-11T14:03:47.055Z"
   },
   {
    "duration": 22,
    "start_time": "2021-09-11T14:03:56.822Z"
   },
   {
    "duration": 35,
    "start_time": "2021-09-11T14:06:00.637Z"
   },
   {
    "duration": 5,
    "start_time": "2021-09-11T14:06:10.941Z"
   },
   {
    "duration": 4,
    "start_time": "2021-09-11T14:06:10.956Z"
   },
   {
    "duration": 533,
    "start_time": "2021-09-11T14:06:10.963Z"
   },
   {
    "duration": 16,
    "start_time": "2021-09-11T14:06:11.499Z"
   },
   {
    "duration": 13,
    "start_time": "2021-09-11T14:06:11.517Z"
   },
   {
    "duration": 14,
    "start_time": "2021-09-11T14:06:11.533Z"
   },
   {
    "duration": 27,
    "start_time": "2021-09-11T14:06:11.549Z"
   },
   {
    "duration": 205,
    "start_time": "2021-09-11T14:06:11.579Z"
   },
   {
    "duration": 13,
    "start_time": "2021-09-11T14:06:11.786Z"
   },
   {
    "duration": 31,
    "start_time": "2021-09-11T14:06:11.803Z"
   },
   {
    "duration": 12,
    "start_time": "2021-09-11T14:06:11.857Z"
   },
   {
    "duration": 29,
    "start_time": "2021-09-11T14:06:11.871Z"
   },
   {
    "duration": 11,
    "start_time": "2021-09-11T14:06:11.903Z"
   },
   {
    "duration": 60,
    "start_time": "2021-09-11T14:06:11.917Z"
   },
   {
    "duration": 8,
    "start_time": "2021-09-11T14:06:11.980Z"
   },
   {
    "duration": 7,
    "start_time": "2021-09-11T14:06:11.990Z"
   },
   {
    "duration": 10,
    "start_time": "2021-09-11T14:06:12.000Z"
   },
   {
    "duration": 59,
    "start_time": "2021-09-11T14:06:25.604Z"
   },
   {
    "duration": 60,
    "start_time": "2021-09-11T14:06:27.765Z"
   },
   {
    "duration": 62,
    "start_time": "2021-09-11T14:06:42.345Z"
   },
   {
    "duration": 72,
    "start_time": "2021-09-11T14:08:23.773Z"
   },
   {
    "duration": 34,
    "start_time": "2021-09-11T14:15:47.322Z"
   },
   {
    "duration": 3457,
    "start_time": "2021-09-11T14:19:36.318Z"
   },
   {
    "duration": 6,
    "start_time": "2021-09-11T14:20:00.863Z"
   },
   {
    "duration": 279,
    "start_time": "2021-09-11T14:20:12.393Z"
   },
   {
    "duration": 7,
    "start_time": "2021-09-11T14:20:16.574Z"
   },
   {
    "duration": 267,
    "start_time": "2021-09-11T14:21:58.760Z"
   },
   {
    "duration": 263,
    "start_time": "2021-09-11T14:22:14.452Z"
   },
   {
    "duration": 1735,
    "start_time": "2021-09-11T14:23:12.255Z"
   },
   {
    "duration": 110,
    "start_time": "2021-09-11T14:27:30.193Z"
   },
   {
    "duration": 273,
    "start_time": "2021-09-11T14:27:39.823Z"
   },
   {
    "duration": 5,
    "start_time": "2021-09-11T14:28:58.106Z"
   },
   {
    "duration": 6,
    "start_time": "2021-09-11T14:29:03.469Z"
   },
   {
    "duration": 448,
    "start_time": "2021-09-11T17:57:01.741Z"
   },
   {
    "duration": 1491,
    "start_time": "2021-09-11T17:57:08.633Z"
   },
   {
    "duration": 3,
    "start_time": "2021-09-11T17:57:10.127Z"
   },
   {
    "duration": 569,
    "start_time": "2021-09-11T17:57:10.133Z"
   },
   {
    "duration": 21,
    "start_time": "2021-09-11T17:57:10.705Z"
   },
   {
    "duration": 10,
    "start_time": "2021-09-11T17:57:10.729Z"
   },
   {
    "duration": 15,
    "start_time": "2021-09-11T17:57:10.742Z"
   },
   {
    "duration": 37,
    "start_time": "2021-09-11T17:57:10.759Z"
   },
   {
    "duration": 277,
    "start_time": "2021-09-11T17:57:10.800Z"
   },
   {
    "duration": 17,
    "start_time": "2021-09-11T17:57:11.082Z"
   },
   {
    "duration": 29,
    "start_time": "2021-09-11T17:57:11.102Z"
   },
   {
    "duration": 33,
    "start_time": "2021-09-11T17:57:11.134Z"
   },
   {
    "duration": 21,
    "start_time": "2021-09-11T17:57:11.170Z"
   },
   {
    "duration": 12,
    "start_time": "2021-09-11T17:57:11.194Z"
   },
   {
    "duration": 1124,
    "start_time": "2021-09-11T17:57:11.208Z"
   },
   {
    "duration": 10,
    "start_time": "2021-09-11T17:57:12.335Z"
   },
   {
    "duration": 6,
    "start_time": "2021-09-11T17:57:12.361Z"
   },
   {
    "duration": 9,
    "start_time": "2021-09-11T17:57:12.369Z"
   },
   {
    "duration": 149,
    "start_time": "2021-09-11T17:57:12.380Z"
   },
   {
    "duration": 22,
    "start_time": "2021-09-11T17:57:22.058Z"
   }
  ],
  "kernelspec": {
   "display_name": "Python 3",
   "language": "python",
   "name": "python3"
  },
  "language_info": {
   "codemirror_mode": {
    "name": "ipython",
    "version": 3
   },
   "file_extension": ".py",
   "mimetype": "text/x-python",
   "name": "python",
   "nbconvert_exporter": "python",
   "pygments_lexer": "ipython3",
   "version": "3.8.8"
  },
  "toc": {
   "base_numbering": 1,
   "nav_menu": {},
   "number_sections": true,
   "sideBar": true,
   "skip_h1_title": true,
   "title_cell": "Table of Contents",
   "title_sidebar": "Contents",
   "toc_cell": false,
   "toc_position": {
    "height": "calc(100% - 180px)",
    "left": "10px",
    "top": "150px",
    "width": "230px"
   },
   "toc_section_display": true,
   "toc_window_display": true
  }
 },
 "nbformat": 4,
 "nbformat_minor": 2
}
